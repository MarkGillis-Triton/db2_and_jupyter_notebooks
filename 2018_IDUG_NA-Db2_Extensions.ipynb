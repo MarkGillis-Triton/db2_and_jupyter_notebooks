{
 "cells": [
  {
   "cell_type": "markdown",
   "metadata": {
    "slideshow": {
     "slide_type": "skip"
    }
   },
   "source": [
    "# Hello, _nbpresent_!"
   ]
  },
  {
   "cell_type": "code",
   "execution_count": null,
   "metadata": {
    "collapsed": false,
    "slideshow": {
     "slide_type": "skip"
    }
   },
   "outputs": [],
   "source": [
    "import nbpresent\n",
    "nbpresent.__version__"
   ]
  },
  {
   "cell_type": "markdown",
   "metadata": {
    "nbpresent": {
     "id": "9b43f362-3c2a-437a-b0bc-173a90c6cf95"
    },
    "slideshow": {
     "slide_type": "slide"
    }
   },
   "source": [
    "# Using Jupyter Notebook for Db2 Administration\n",
    "&nbsp;&nbsp;&nbsp;&nbsp;Ember Crooks\n",
    "\n",
    "&nbsp;&nbsp;&nbsp;&nbsp;XTIVIA\n",
    "\n",
    "&nbsp;&nbsp;&nbsp;&nbsp;Session Code: F17\n",
    "\n",
    "&nbsp;&nbsp;&nbsp;&nbsp;Thursday, 5th of October 09:40-10:40"
   ]
  },
  {
   "cell_type": "markdown",
   "metadata": {
    "nbpresent": {
     "id": "d46de732-8785-4f86-891a-ba81ce2f3017"
    },
    "slideshow": {
     "slide_type": "fragment"
    }
   },
   "source": [
    "## Setting up this Jupyter Notebook"
   ]
  },
  {
   "cell_type": "markdown",
   "metadata": {
    "nbpresent": {
     "id": "43dd3a53-43a9-4649-8082-4cd7fec217ab"
    },
    "slideshow": {
     "slide_type": "fragment"
    }
   },
   "source": [
    "This notebook should be launched from a session of jupyter notebook that was launched from a DB2 command window\n",
    "To do this, run an administrator DB2 command window as an administrator and type 'jupyter notebook'"
   ]
  },
  {
   "cell_type": "markdown",
   "metadata": {
    "nbpresent": {
     "id": "1bba32b6-b80a-4b4b-996f-cb9e50713343"
    },
    "slideshow": {
     "slide_type": "slide"
    }
   },
   "source": [
    "## Jupyter Notebook"
   ]
  },
  {
   "cell_type": "markdown",
   "metadata": {
    "nbpresent": {
     "id": "3d3036b2-9850-4506-8e41-60d40c788d18"
    },
    "slideshow": {
     "slide_type": "slide"
    }
   },
   "source": [
    "### What is Jupyter Notebook?\n",
    "- Open-source web application that allows you to create and share documents that contain live code, equations, visualizations, and explanatory text.\n",
    "- Heavily used in Data Science\n",
    "- Supports a large number of programming languages, including SQL\n",
    "- Requires Python\n",
    "- Easiest to install by [installing Anaconda](https://www.continuum.io/downloads)"
   ]
  },
  {
   "cell_type": "markdown",
   "metadata": {
    "nbpresent": {
     "id": "ebd7d540-a6fa-4c84-b2af-2490266d9b3e"
    },
    "slideshow": {
     "slide_type": "slide"
    }
   },
   "source": [
    "### Jupyter Notebook Terms\n",
    "- **Application**\n",
    "    - Server-client application that allows editing and running notebook document via web browser\n",
    "    - Can run on a local laptop/desktop or a remote server\n",
    "- **Kernel**\n",
    "    - Computational engine that execute the code contained in the notebook\n",
    "    - ipython kernel executes python – kernels for other languages exist\n",
    "    - Each running notebook has a different instnace of a Kernel\n",
    "- **Notebook Dashboard**\n",
    "    - Shown in browser when you launch Jupyter Notebook\n",
    "    - Features similar to a file manager\n",
    "    - Used to open notebooks and manage the running kernels"
   ]
  },
  {
   "cell_type": "markdown",
   "metadata": {
    "slideshow": {
     "slide_type": "slide"
    }
   },
   "source": [
    "### More Jupyter Notebook Terms\n",
    "- **Notebook document or notebooks**\n",
    "    - Produced by the Jupyter Notebook App\n",
    "    - Contains both computer code and rich text elements\n",
    "- **Cell**\n",
    "    - Portion of a notebook that is either markdown-formatted text or code\n",
    "    - Each cell can be independently executed in any order, but convention dictates they be executed in order\n",
    "- **Magic**\n",
    "    - Called with a command line style syntax\n",
    "    - Magic Functions work at the cell or line level"
   ]
  },
  {
   "cell_type": "markdown",
   "metadata": {
    "nbpresent": {
     "id": "0b310267-394a-49dc-8174-0a3abfbd0aa9"
    },
    "slideshow": {
     "slide_type": "slide"
    }
   },
   "source": [
    "### Installing Jupyter Notebook on Windows\n",
    "- [Download Anaconda](https://www.continuum.io/downloads)\n",
    "- Install Anaconda, accepting the defaults\n",
    "- Install at least a DB2 Client\n",
    "- Download and install [visual studio tools](http://landinghub.visualstudio.com/visual-cpp-build-tools)\n",
    "\n",
    "- Jupyter Notebook is likely to be installed on a DB2 client such as your laptop or a jump server"
   ]
  },
  {
   "cell_type": "markdown",
   "metadata": {
    "slideshow": {
     "slide_type": "slide"
    }
   },
   "source": [
    "### Launching Jupyter Notebook on Windows\n",
    "- Launch Jupyter Notebook from a DB2 Command Window PowerShell window with the Db2 environment variables set\n",
    "- Cd to directory where Jupyter Notebooks are stored, first\n",
    "![screenshot](files/LaunchJupyterNotebook.jpg)"
   ]
  },
  {
   "cell_type": "markdown",
   "metadata": {},
   "source": [
    "### Jupyter Notebook Basics\n",
    "[Basics of Jupyter Notebook](BasicsOfJupyterNotebook.ipynb)"
   ]
  },
  {
   "cell_type": "markdown",
   "metadata": {},
   "source": [
    "### Setting up Jupyter Notebook for use with SQL Magic"
   ]
  },
  {
   "cell_type": "markdown",
   "metadata": {},
   "source": [
    "#### Install Packages"
   ]
  },
  {
   "cell_type": "code",
   "execution_count": null,
   "metadata": {
    "collapsed": false,
    "slideshow": {
     "slide_type": "fragment"
    }
   },
   "outputs": [],
   "source": [
    "import sys,os,os.path\n",
    "os.environ['DB2INSTANCE']"
   ]
  },
  {
   "cell_type": "code",
   "execution_count": null,
   "metadata": {
    "collapsed": false,
    "nbpresent": {
     "id": "95241d45-433d-4496-8f39-d0f837d8b996"
    },
    "slideshow": {
     "slide_type": "fragment"
    }
   },
   "outputs": [],
   "source": [
    "## This cell only needs to be executed if these packages have not been previously installed\n",
    "#Uncomment the below line and set to the proper value if installing these for the first time\n",
    "#os.environ['IBM_DB_HOME']='C:\\Program Files\\IBM\\SQLLIB_01'\n",
    "!pip install ipython-sql\n",
    "!pip install ibm_db \n",
    "!pip install ibm_db_sa"
   ]
  },
  {
   "cell_type": "markdown",
   "metadata": {
    "nbpresent": {
     "id": "ab685115-6255-4892-9384-f0253ba1f721"
    },
    "slideshow": {
     "slide_type": "fragment"
    }
   },
   "source": [
    "Restart the Kernel if this is your first time installing the above. The next steps will fail unless you do this."
   ]
  },
  {
   "cell_type": "markdown",
   "metadata": {
    "nbpresent": {
     "id": "70182fca-ecdb-4715-8bb9-ac83896863f2"
    },
    "slideshow": {
     "slide_type": "fragment"
    }
   },
   "source": [
    "#### Import the modules and load SQL magic"
   ]
  },
  {
   "cell_type": "code",
   "execution_count": 1,
   "metadata": {
    "collapsed": false,
    "nbpresent": {
     "id": "260b111a-56b1-4fca-a537-87f9e6228f8a"
    },
    "slideshow": {
     "slide_type": "fragment"
    }
   },
   "outputs": [
    {
     "name": "stdout",
     "output_type": "stream",
     "text": [
      "DB2 Extensions Loaded.\n"
     ]
    },
    {
     "data": {
      "text/html": [
       "<style>\n",
       "  table {margin-left: 0 !important; text-align: left;}\n",
       "</style>"
      ],
      "text/plain": [
       "<IPython.core.display.HTML object>"
      ]
     },
     "metadata": {},
     "output_type": "display_data"
    }
   ],
   "source": [
    "## This cell must be executed any time the Kernel is started or restarted\n",
    "%run db2.ipynb"
   ]
  },
  {
   "cell_type": "markdown",
   "metadata": {
    "nbpresent": {
     "id": "63650235-818b-4e16-a2ca-3135c3eb289a"
    },
    "slideshow": {
     "slide_type": "fragment"
    }
   },
   "source": [
    "#### Connect to the database. \n",
    "- Change the values of user, host, and password to match your environment. \n",
    "- For connection to a local database, use 'localhost' for the host name. \n",
    "- Also change the port number and database name in the connection string.\n",
    "- Minimally, the password is stored in a separate file for easier sharing"
   ]
  },
  {
   "cell_type": "code",
   "execution_count": 2,
   "metadata": {
    "collapsed": false,
    "nbpresent": {
     "id": "3b5451a6-6da4-4599-92cf-6ab4827d0991"
    },
    "slideshow": {
     "slide_type": "fragment"
    }
   },
   "outputs": [
    {
     "name": "stdout",
     "output_type": "stream",
     "text": [
      "Password [password]: ········\n",
      "Connection successful.\n"
     ]
    }
   ],
   "source": [
    "user='db2admin'\n",
    "host='localhost'\n",
    "# Define filename for passwords\n",
    "filename = 'ember_variables.py'\n",
    "# source the file\n",
    "%run $filename\n",
    "password = LocalDB2password\n",
    "\n",
    "%sql CONNECT TO SAMPLE USER $user USING ? HOST $host PORT 50000"
   ]
  },
  {
   "cell_type": "markdown",
   "metadata": {},
   "source": [
    "Explicitly closing connections is not currently possible"
   ]
  },
  {
   "cell_type": "markdown",
   "metadata": {
    "slideshow": {
     "slide_type": "slide"
    }
   },
   "source": [
    "### Using SQL in Jupyter Notebook \n",
    "- SQL magic makes SQL quick and easy\n",
    "- DB2 commands can be executed when the notebook was launched from a command window, when prefixed with !\n",
    "- Limited options available in sql magic - full ibm_db offers more options using Python or the core language of your choice"
   ]
  },
  {
   "cell_type": "markdown",
   "metadata": {},
   "source": [
    "### Jupyter Notebook and SQL Magic Topics\n",
    "- How does commit processing work by default and how can you change it?\n",
    "- Using SQL magic for whole cell vs. line by line\n",
    "- Displaying data in interesting ways\n",
    "- Using host variables/parameter markers\n",
    "- Explains"
   ]
  },
  {
   "cell_type": "markdown",
   "metadata": {
    "slideshow": {
     "slide_type": "fragment"
    }
   },
   "source": [
    "### Jupyter Notebook and Commit Processing\n",
    "- Autocommit is on\n",
    "- More advanced controls available through traditonal python syntax for the ibm_db driver"
   ]
  },
  {
   "cell_type": "code",
   "execution_count": 3,
   "metadata": {
    "collapsed": false,
    "slideshow": {
     "slide_type": "fragment"
    }
   },
   "outputs": [
    {
     "name": "stdout",
     "output_type": "stream",
     "text": [
      "Command completed.\n",
      "Command completed.\n"
     ]
    }
   ],
   "source": [
    "%sql drop table temp_sales\n",
    "%sql create table temp_sales like ember.sales"
   ]
  },
  {
   "cell_type": "code",
   "execution_count": 4,
   "metadata": {
    "collapsed": false,
    "slideshow": {
     "slide_type": "fragment"
    }
   },
   "outputs": [
    {
     "name": "stdout",
     "output_type": "stream",
     "text": [
      "Command completed.\n"
     ]
    }
   ],
   "source": [
    "%sql insert into temp_sales select * from ember.sales"
   ]
  },
  {
   "cell_type": "code",
   "execution_count": 5,
   "metadata": {
    "collapsed": false,
    "slideshow": {
     "slide_type": "fragment"
    }
   },
   "outputs": [
    {
     "data": {
      "text/html": [
       "<div>\n",
       "<table border=\"1\" class=\"dataframe\">\n",
       "  <thead>\n",
       "    <tr style=\"text-align: right;\">\n",
       "      <th></th>\n",
       "      <th>1</th>\n",
       "    </tr>\n",
       "  </thead>\n",
       "  <tbody>\n",
       "    <tr>\n",
       "      <th>0</th>\n",
       "      <td>41</td>\n",
       "    </tr>\n",
       "  </tbody>\n",
       "</table>\n",
       "</div>"
      ],
      "text/plain": [
       "    1\n",
       "0  41"
      ]
     },
     "execution_count": 5,
     "metadata": {},
     "output_type": "execute_result"
    }
   ],
   "source": [
    "%sql select count(*) from temp_sales"
   ]
  },
  {
   "cell_type": "code",
   "execution_count": 6,
   "metadata": {
    "collapsed": false,
    "slideshow": {
     "slide_type": "fragment"
    }
   },
   "outputs": [
    {
     "name": "stdout",
     "output_type": "stream",
     "text": [
      "Command completed.\n",
      "Command completed.\n"
     ]
    },
    {
     "data": {
      "text/html": [
       "<div>\n",
       "<table border=\"1\" class=\"dataframe\">\n",
       "  <thead>\n",
       "    <tr style=\"text-align: right;\">\n",
       "      <th></th>\n",
       "      <th>1</th>\n",
       "    </tr>\n",
       "  </thead>\n",
       "  <tbody>\n",
       "    <tr>\n",
       "      <th>0</th>\n",
       "      <td>82</td>\n",
       "    </tr>\n",
       "  </tbody>\n",
       "</table>\n",
       "</div>"
      ],
      "text/plain": [
       "    1\n",
       "0  82"
      ]
     },
     "execution_count": 6,
     "metadata": {},
     "output_type": "execute_result"
    }
   ],
   "source": [
    "%sql insert into temp_sales select * from ember.sales\n",
    "%sql rollback\n",
    "%sql select count(*) from temp_sales"
   ]
  },
  {
   "cell_type": "code",
   "execution_count": 7,
   "metadata": {
    "collapsed": false
   },
   "outputs": [
    {
     "data": {
      "text/html": [
       "<p style=\"border:2px; border-style:solid; border-color:#FF0000; background-color:#ffe6e6; padding: 1em;\">SQL0104N  An unexpected token \"options\" was found following \"update command \".  Expected tokens may include:  \"JOIN <joined_table>\".  SQLSTATE=42601  SQLCODE=-104</p>"
      ],
      "text/plain": [
       "<IPython.core.display.HTML object>"
      ]
     },
     "metadata": {},
     "output_type": "display_data"
    }
   ],
   "source": [
    "%sql update command options using c OFF"
   ]
  },
  {
   "cell_type": "markdown",
   "metadata": {
    "slideshow": {
     "slide_type": "fragment"
    }
   },
   "source": [
    "### Using SQL Magic at the Cell Level vs. the Line Level\n",
    "- Line Level\n",
    "    - Each line is prefixed with %\n",
    "    - If a command fails, subsequent lines are still executed\n",
    "- Cell Level\n",
    "    - Using SQL Magic at the cell level involves starting a Cell with %%sql\n",
    "    - All lines in the cell are then interpreted as SQL\n",
    "    - If a command fails, subsequent lines are not executed"
   ]
  },
  {
   "cell_type": "code",
   "execution_count": 8,
   "metadata": {
    "collapsed": false,
    "slideshow": {
     "slide_type": "fragment"
    }
   },
   "outputs": [
    {
     "data": {
      "text/html": [
       "<div>\n",
       "<table border=\"1\" class=\"dataframe\">\n",
       "  <thead>\n",
       "    <tr style=\"text-align: right;\">\n",
       "      <th></th>\n",
       "      <th>TABSCHEMA</th>\n",
       "      <th>TABNAME</th>\n",
       "      <th>OWNER</th>\n",
       "      <th>OWNERTYPE</th>\n",
       "      <th>TYPE</th>\n",
       "      <th>STATUS</th>\n",
       "      <th>BASE_TABSCHEMA</th>\n",
       "      <th>BASE_TABNAME</th>\n",
       "      <th>ROWTYPESCHEMA</th>\n",
       "      <th>ROWTYPENAME</th>\n",
       "      <th>...</th>\n",
       "      <th>ONCOMMIT</th>\n",
       "      <th>LOGGED</th>\n",
       "      <th>ONROLLBACK</th>\n",
       "      <th>LASTUSED</th>\n",
       "      <th>CONTROL</th>\n",
       "      <th>TEMPORALTYPE</th>\n",
       "      <th>TABLEORG</th>\n",
       "      <th>EXTENDED_ROW_SIZE</th>\n",
       "      <th>PCTEXTENDEDROWS</th>\n",
       "      <th>REMARKS</th>\n",
       "    </tr>\n",
       "  </thead>\n",
       "  <tbody>\n",
       "    <tr>\n",
       "      <th>0</th>\n",
       "      <td>SYSIBM</td>\n",
       "      <td>SYSTABLES</td>\n",
       "      <td>SYSIBM</td>\n",
       "      <td>S</td>\n",
       "      <td>T</td>\n",
       "      <td>N</td>\n",
       "      <td>None</td>\n",
       "      <td>None</td>\n",
       "      <td>None</td>\n",
       "      <td>None</td>\n",
       "      <td>...</td>\n",
       "      <td></td>\n",
       "      <td></td>\n",
       "      <td></td>\n",
       "      <td>2017-10-02</td>\n",
       "      <td></td>\n",
       "      <td>N</td>\n",
       "      <td>R</td>\n",
       "      <td>N</td>\n",
       "      <td>-1.0</td>\n",
       "      <td>None</td>\n",
       "    </tr>\n",
       "    <tr>\n",
       "      <th>1</th>\n",
       "      <td>SYSIBM</td>\n",
       "      <td>SYSCOLUMNS</td>\n",
       "      <td>SYSIBM</td>\n",
       "      <td>S</td>\n",
       "      <td>T</td>\n",
       "      <td>N</td>\n",
       "      <td>None</td>\n",
       "      <td>None</td>\n",
       "      <td>None</td>\n",
       "      <td>None</td>\n",
       "      <td>...</td>\n",
       "      <td></td>\n",
       "      <td></td>\n",
       "      <td></td>\n",
       "      <td>2017-10-03</td>\n",
       "      <td></td>\n",
       "      <td>N</td>\n",
       "      <td>R</td>\n",
       "      <td>N</td>\n",
       "      <td>-1.0</td>\n",
       "      <td>None</td>\n",
       "    </tr>\n",
       "    <tr>\n",
       "      <th>2</th>\n",
       "      <td>SYSIBM</td>\n",
       "      <td>SYSINDEXES</td>\n",
       "      <td>SYSIBM</td>\n",
       "      <td>S</td>\n",
       "      <td>T</td>\n",
       "      <td>N</td>\n",
       "      <td>None</td>\n",
       "      <td>None</td>\n",
       "      <td>None</td>\n",
       "      <td>None</td>\n",
       "      <td>...</td>\n",
       "      <td></td>\n",
       "      <td></td>\n",
       "      <td></td>\n",
       "      <td>2017-10-02</td>\n",
       "      <td></td>\n",
       "      <td>N</td>\n",
       "      <td>R</td>\n",
       "      <td>N</td>\n",
       "      <td>-1.0</td>\n",
       "      <td>None</td>\n",
       "    </tr>\n",
       "    <tr>\n",
       "      <th>3</th>\n",
       "      <td>SYSIBM</td>\n",
       "      <td>SYSVIEWS</td>\n",
       "      <td>SYSIBM</td>\n",
       "      <td>S</td>\n",
       "      <td>T</td>\n",
       "      <td>N</td>\n",
       "      <td>None</td>\n",
       "      <td>None</td>\n",
       "      <td>None</td>\n",
       "      <td>None</td>\n",
       "      <td>...</td>\n",
       "      <td></td>\n",
       "      <td></td>\n",
       "      <td></td>\n",
       "      <td>0001-01-01</td>\n",
       "      <td></td>\n",
       "      <td>N</td>\n",
       "      <td>R</td>\n",
       "      <td>N</td>\n",
       "      <td>-1.0</td>\n",
       "      <td>None</td>\n",
       "    </tr>\n",
       "    <tr>\n",
       "      <th>4</th>\n",
       "      <td>SYSIBM</td>\n",
       "      <td>SYSVIEWDEP</td>\n",
       "      <td>SYSIBM</td>\n",
       "      <td>S</td>\n",
       "      <td>T</td>\n",
       "      <td>N</td>\n",
       "      <td>None</td>\n",
       "      <td>None</td>\n",
       "      <td>None</td>\n",
       "      <td>None</td>\n",
       "      <td>...</td>\n",
       "      <td></td>\n",
       "      <td></td>\n",
       "      <td></td>\n",
       "      <td>2017-09-30</td>\n",
       "      <td></td>\n",
       "      <td>N</td>\n",
       "      <td>R</td>\n",
       "      <td>N</td>\n",
       "      <td>-1.0</td>\n",
       "      <td>None</td>\n",
       "    </tr>\n",
       "    <tr>\n",
       "      <th>...</th>\n",
       "      <td>...</td>\n",
       "      <td>...</td>\n",
       "      <td>...</td>\n",
       "      <td>...</td>\n",
       "      <td>...</td>\n",
       "      <td>...</td>\n",
       "      <td>...</td>\n",
       "      <td>...</td>\n",
       "      <td>...</td>\n",
       "      <td>...</td>\n",
       "      <td>...</td>\n",
       "      <td>...</td>\n",
       "      <td>...</td>\n",
       "      <td>...</td>\n",
       "      <td>...</td>\n",
       "      <td>...</td>\n",
       "      <td>...</td>\n",
       "      <td>...</td>\n",
       "      <td>...</td>\n",
       "      <td>...</td>\n",
       "      <td>...</td>\n",
       "    </tr>\n",
       "    <tr>\n",
       "      <th>706</th>\n",
       "      <td>SYSTOOLS</td>\n",
       "      <td>ADVISE_WORKLOAD</td>\n",
       "      <td>DB2ADMIN</td>\n",
       "      <td>U</td>\n",
       "      <td>T</td>\n",
       "      <td>N</td>\n",
       "      <td>None</td>\n",
       "      <td>None</td>\n",
       "      <td>None</td>\n",
       "      <td>None</td>\n",
       "      <td>...</td>\n",
       "      <td></td>\n",
       "      <td></td>\n",
       "      <td></td>\n",
       "      <td>0001-01-01</td>\n",
       "      <td></td>\n",
       "      <td>N</td>\n",
       "      <td>R</td>\n",
       "      <td>N</td>\n",
       "      <td>-1.0</td>\n",
       "      <td>None</td>\n",
       "    </tr>\n",
       "    <tr>\n",
       "      <th>707</th>\n",
       "      <td>SYSTOOLS</td>\n",
       "      <td>ADVISE_MQT</td>\n",
       "      <td>DB2ADMIN</td>\n",
       "      <td>U</td>\n",
       "      <td>T</td>\n",
       "      <td>N</td>\n",
       "      <td>None</td>\n",
       "      <td>None</td>\n",
       "      <td>None</td>\n",
       "      <td>None</td>\n",
       "      <td>...</td>\n",
       "      <td></td>\n",
       "      <td></td>\n",
       "      <td></td>\n",
       "      <td>0001-01-01</td>\n",
       "      <td></td>\n",
       "      <td>N</td>\n",
       "      <td>R</td>\n",
       "      <td>N</td>\n",
       "      <td>-1.0</td>\n",
       "      <td>None</td>\n",
       "    </tr>\n",
       "    <tr>\n",
       "      <th>708</th>\n",
       "      <td>SYSTOOLS</td>\n",
       "      <td>ADVISE_PARTITION</td>\n",
       "      <td>DB2ADMIN</td>\n",
       "      <td>U</td>\n",
       "      <td>T</td>\n",
       "      <td>N</td>\n",
       "      <td>None</td>\n",
       "      <td>None</td>\n",
       "      <td>None</td>\n",
       "      <td>None</td>\n",
       "      <td>...</td>\n",
       "      <td></td>\n",
       "      <td></td>\n",
       "      <td></td>\n",
       "      <td>0001-01-01</td>\n",
       "      <td></td>\n",
       "      <td>N</td>\n",
       "      <td>R</td>\n",
       "      <td>N</td>\n",
       "      <td>-1.0</td>\n",
       "      <td>None</td>\n",
       "    </tr>\n",
       "    <tr>\n",
       "      <th>709</th>\n",
       "      <td>SYSTOOLS</td>\n",
       "      <td>ADVISE_TABLE</td>\n",
       "      <td>DB2ADMIN</td>\n",
       "      <td>U</td>\n",
       "      <td>T</td>\n",
       "      <td>N</td>\n",
       "      <td>None</td>\n",
       "      <td>None</td>\n",
       "      <td>None</td>\n",
       "      <td>None</td>\n",
       "      <td>...</td>\n",
       "      <td></td>\n",
       "      <td></td>\n",
       "      <td></td>\n",
       "      <td>0001-01-01</td>\n",
       "      <td></td>\n",
       "      <td>N</td>\n",
       "      <td>R</td>\n",
       "      <td>N</td>\n",
       "      <td>-1.0</td>\n",
       "      <td>None</td>\n",
       "    </tr>\n",
       "    <tr>\n",
       "      <th>710</th>\n",
       "      <td>SYSTOOLS</td>\n",
       "      <td>EXPLAIN_ACTUALS</td>\n",
       "      <td>DB2ADMIN</td>\n",
       "      <td>U</td>\n",
       "      <td>T</td>\n",
       "      <td>N</td>\n",
       "      <td>None</td>\n",
       "      <td>None</td>\n",
       "      <td>None</td>\n",
       "      <td>None</td>\n",
       "      <td>...</td>\n",
       "      <td></td>\n",
       "      <td></td>\n",
       "      <td></td>\n",
       "      <td>0001-01-01</td>\n",
       "      <td></td>\n",
       "      <td>N</td>\n",
       "      <td>R</td>\n",
       "      <td>N</td>\n",
       "      <td>-1.0</td>\n",
       "      <td>None</td>\n",
       "    </tr>\n",
       "  </tbody>\n",
       "</table>\n",
       "<p>711 rows × 85 columns</p>\n",
       "</div>"
      ],
      "text/plain": [
       "    TABSCHEMA           TABNAME     OWNER OWNERTYPE TYPE STATUS  \\\n",
       "0    SYSIBM           SYSTABLES  SYSIBM           S    T      N   \n",
       "1    SYSIBM          SYSCOLUMNS  SYSIBM           S    T      N   \n",
       "2    SYSIBM          SYSINDEXES  SYSIBM           S    T      N   \n",
       "3    SYSIBM            SYSVIEWS  SYSIBM           S    T      N   \n",
       "4    SYSIBM          SYSVIEWDEP  SYSIBM           S    T      N   \n",
       "..        ...               ...       ...       ...  ...    ...   \n",
       "706  SYSTOOLS   ADVISE_WORKLOAD  DB2ADMIN         U    T      N   \n",
       "707  SYSTOOLS        ADVISE_MQT  DB2ADMIN         U    T      N   \n",
       "708  SYSTOOLS  ADVISE_PARTITION  DB2ADMIN         U    T      N   \n",
       "709  SYSTOOLS      ADVISE_TABLE  DB2ADMIN         U    T      N   \n",
       "710  SYSTOOLS   EXPLAIN_ACTUALS  DB2ADMIN         U    T      N   \n",
       "\n",
       "    BASE_TABSCHEMA BASE_TABNAME ROWTYPESCHEMA ROWTYPENAME   ...    ONCOMMIT  \\\n",
       "0             None         None          None        None   ...               \n",
       "1             None         None          None        None   ...               \n",
       "2             None         None          None        None   ...               \n",
       "3             None         None          None        None   ...               \n",
       "4             None         None          None        None   ...               \n",
       "..             ...          ...           ...         ...   ...         ...   \n",
       "706           None         None          None        None   ...               \n",
       "707           None         None          None        None   ...               \n",
       "708           None         None          None        None   ...               \n",
       "709           None         None          None        None   ...               \n",
       "710           None         None          None        None   ...               \n",
       "\n",
       "    LOGGED ONROLLBACK    LASTUSED  CONTROL  TEMPORALTYPE  TABLEORG  \\\n",
       "0                      2017-10-02                      N         R   \n",
       "1                      2017-10-03                      N         R   \n",
       "2                      2017-10-02                      N         R   \n",
       "3                      0001-01-01                      N         R   \n",
       "4                      2017-09-30                      N         R   \n",
       "..     ...        ...         ...      ...           ...       ...   \n",
       "706                    0001-01-01                      N         R   \n",
       "707                    0001-01-01                      N         R   \n",
       "708                    0001-01-01                      N         R   \n",
       "709                    0001-01-01                      N         R   \n",
       "710                    0001-01-01                      N         R   \n",
       "\n",
       "     EXTENDED_ROW_SIZE  PCTEXTENDEDROWS  REMARKS  \n",
       "0                    N             -1.0     None  \n",
       "1                    N             -1.0     None  \n",
       "2                    N             -1.0     None  \n",
       "3                    N             -1.0     None  \n",
       "4                    N             -1.0     None  \n",
       "..                 ...              ...      ...  \n",
       "706                  N             -1.0     None  \n",
       "707                  N             -1.0     None  \n",
       "708                  N             -1.0     None  \n",
       "709                  N             -1.0     None  \n",
       "710                  N             -1.0     None  \n",
       "\n",
       "[711 rows x 85 columns]"
      ]
     },
     "execution_count": 8,
     "metadata": {},
     "output_type": "execute_result"
    }
   ],
   "source": [
    "%%sql\n",
    "--sql magic at the cell level\n",
    "select * from syscat.tables;\n",
    "select * from dual;\n",
    "select * from syscat.bufferpools;"
   ]
  },
  {
   "cell_type": "code",
   "execution_count": 9,
   "metadata": {
    "collapsed": false,
    "slideshow": {
     "slide_type": "fragment"
    }
   },
   "outputs": [
    {
     "data": {
      "text/html": [
       "<p style=\"border:2px; border-style:solid; border-color:#FF0000; background-color:#ffe6e6; padding: 1em;\">SQL0204N  \"DB2ADMIN.DUAL\" is an undefined name.  SQLSTATE=42704  SQLCODE=-204</p>"
      ],
      "text/plain": [
       "<IPython.core.display.HTML object>"
      ]
     },
     "metadata": {},
     "output_type": "display_data"
    },
    {
     "data": {
      "text/html": [
       "<div>\n",
       "<table border=\"1\" class=\"dataframe\">\n",
       "  <thead>\n",
       "    <tr style=\"text-align: right;\">\n",
       "      <th></th>\n",
       "      <th>BPNAME</th>\n",
       "      <th>BUFFERPOOLID</th>\n",
       "      <th>DBPGNAME</th>\n",
       "      <th>NPAGES</th>\n",
       "      <th>PAGESIZE</th>\n",
       "      <th>ESTORE</th>\n",
       "      <th>NUMBLOCKPAGES</th>\n",
       "      <th>BLOCKSIZE</th>\n",
       "      <th>NGNAME</th>\n",
       "    </tr>\n",
       "  </thead>\n",
       "  <tbody>\n",
       "    <tr>\n",
       "      <th>0</th>\n",
       "      <td>IBMDEFAULTBP</td>\n",
       "      <td>1</td>\n",
       "      <td>None</td>\n",
       "      <td>250</td>\n",
       "      <td>8192</td>\n",
       "      <td>N</td>\n",
       "      <td>0</td>\n",
       "      <td>0</td>\n",
       "      <td>None</td>\n",
       "    </tr>\n",
       "  </tbody>\n",
       "</table>\n",
       "</div>"
      ],
      "text/plain": [
       "         BPNAME  BUFFERPOOLID DBPGNAME  NPAGES  PAGESIZE ESTORE  \\\n",
       "0  IBMDEFAULTBP             1     None     250      8192      N   \n",
       "\n",
       "   NUMBLOCKPAGES  BLOCKSIZE NGNAME  \n",
       "0              0          0   None  "
      ]
     },
     "execution_count": 9,
     "metadata": {},
     "output_type": "execute_result"
    }
   ],
   "source": [
    "#sql magic at the line level\n",
    "%sql select * from syscat.tables;\n",
    "%sql select * from dual;\n",
    "%sql select * from syscat.bufferpools;"
   ]
  },
  {
   "cell_type": "markdown",
   "metadata": {},
   "source": [
    "### Displaying Data in Interesting Ways"
   ]
  },
  {
   "cell_type": "code",
   "execution_count": 10,
   "metadata": {
    "collapsed": true
   },
   "outputs": [],
   "source": [
    "#Import stuff we need\n",
    "import matplotlib.pyplot as plt\n",
    "import matplotlib.dates as mdates\n",
    "import datetime as dt\n",
    "import numpy as np\n",
    "import pandas as pd\n",
    "\n",
    "# All plots should be inline, inside the notebook\n",
    "%matplotlib inline"
   ]
  },
  {
   "cell_type": "code",
   "execution_count": 4,
   "metadata": {
    "collapsed": false
   },
   "outputs": [
    {
     "data": {
      "text/plain": [
       "<matplotlib.figure.Figure at 0x223b7e3d4a8>"
      ]
     },
     "metadata": {},
     "output_type": "display_data"
    },
    {
     "data": {
      "image/png": "[encoded data removed]",
      "text/plain": [
       "<matplotlib.figure.Figure at 0x223bd16b2e8>"
      ]
     },
     "metadata": {},
     "output_type": "display_data"
    }
   ],
   "source": [
    "%sql -pb select typename \\\n",
    "    , count(*) as count \\\n",
    "from syscat.columns \\\n",
    "group by typename \\\n",
    "order by count desc"
   ]
  },
  {
   "cell_type": "code",
   "execution_count": 12,
   "metadata": {
    "collapsed": false
   },
   "outputs": [
    {
     "data": {
      "text/html": [
       "<div>\n",
       "<table border=\"1\" class=\"dataframe\">\n",
       "  <thead>\n",
       "    <tr style=\"text-align: right;\">\n",
       "      <th></th>\n",
       "      <th>ROWS_READ</th>\n",
       "      <th>PCT_TOT_RR</th>\n",
       "      <th>TOTAL_CPU_TIME</th>\n",
       "      <th>PCT_TOT_CPU</th>\n",
       "      <th>STMT_EXEC_TIME</th>\n",
       "      <th>PCT_TOT_EXEC</th>\n",
       "      <th>TOTAL_SECTION_SORT_TIME</th>\n",
       "      <th>PCT_TOT_SRT</th>\n",
       "      <th>NUM_EXECUTIONS</th>\n",
       "      <th>PCT_TOT_EXEC</th>\n",
       "      <th>AVG_EXEC_TIME</th>\n",
       "      <th>STATEMENT</th>\n",
       "    </tr>\n",
       "  </thead>\n",
       "  <tbody>\n",
       "    <tr>\n",
       "      <th>0</th>\n",
       "      <td>1422</td>\n",
       "      <td>81.11</td>\n",
       "      <td>15625</td>\n",
       "      <td>14.28</td>\n",
       "      <td>28</td>\n",
       "      <td>3.87</td>\n",
       "      <td>0</td>\n",
       "      <td>None</td>\n",
       "      <td>2</td>\n",
       "      <td>7.14</td>\n",
       "      <td>14.00</td>\n",
       "      <td>select * from syscat.tables</td>\n",
       "    </tr>\n",
       "    <tr>\n",
       "      <th>1</th>\n",
       "      <td>190</td>\n",
       "      <td>10.83</td>\n",
       "      <td>31250</td>\n",
       "      <td>28.57</td>\n",
       "      <td>268</td>\n",
       "      <td>37.06</td>\n",
       "      <td>0</td>\n",
       "      <td>None</td>\n",
       "      <td>1</td>\n",
       "      <td>3.57</td>\n",
       "      <td>268.00</td>\n",
       "      <td>drop table temp_sales</td>\n",
       "    </tr>\n",
       "    <tr>\n",
       "      <th>2</th>\n",
       "      <td>74</td>\n",
       "      <td>4.22</td>\n",
       "      <td>46875</td>\n",
       "      <td>42.85</td>\n",
       "      <td>124</td>\n",
       "      <td>17.15</td>\n",
       "      <td>0</td>\n",
       "      <td>None</td>\n",
       "      <td>4</td>\n",
       "      <td>14.28</td>\n",
       "      <td>31.00</td>\n",
       "      <td>CALL SYSPROC.SYSINSTALLOBJECTS('POLICY','V',''...</td>\n",
       "    </tr>\n",
       "    <tr>\n",
       "      <th>3</th>\n",
       "      <td>26</td>\n",
       "      <td>1.48</td>\n",
       "      <td>15625</td>\n",
       "      <td>14.28</td>\n",
       "      <td>281</td>\n",
       "      <td>38.86</td>\n",
       "      <td>0</td>\n",
       "      <td>None</td>\n",
       "      <td>1</td>\n",
       "      <td>3.57</td>\n",
       "      <td>281.00</td>\n",
       "      <td>create table temp_sales like ember.sales</td>\n",
       "    </tr>\n",
       "    <tr>\n",
       "      <th>4</th>\n",
       "      <td>20</td>\n",
       "      <td>1.14</td>\n",
       "      <td>0</td>\n",
       "      <td>0.00</td>\n",
       "      <td>2</td>\n",
       "      <td>0.27</td>\n",
       "      <td>0</td>\n",
       "      <td>None</td>\n",
       "      <td>4</td>\n",
       "      <td>14.28</td>\n",
       "      <td>0.50</td>\n",
       "      <td>SELECT COLNAME, TYPENAME FROM  SYSCAT.COLUMNS ...</td>\n",
       "    </tr>\n",
       "    <tr>\n",
       "      <th>5</th>\n",
       "      <td>16</td>\n",
       "      <td>0.91</td>\n",
       "      <td>0</td>\n",
       "      <td>0.00</td>\n",
       "      <td>3</td>\n",
       "      <td>0.41</td>\n",
       "      <td>0</td>\n",
       "      <td>None</td>\n",
       "      <td>4</td>\n",
       "      <td>14.28</td>\n",
       "      <td>0.75</td>\n",
       "      <td>SELECT TRIGNAME FROM  SYSCAT.TRIGGERS WHERE TA...</td>\n",
       "    </tr>\n",
       "    <tr>\n",
       "      <th>6</th>\n",
       "      <td>0</td>\n",
       "      <td>0.00</td>\n",
       "      <td>0</td>\n",
       "      <td>0.00</td>\n",
       "      <td>0</td>\n",
       "      <td>0.00</td>\n",
       "      <td>0</td>\n",
       "      <td>None</td>\n",
       "      <td>6</td>\n",
       "      <td>21.42</td>\n",
       "      <td>0.00</td>\n",
       "      <td>SET CURRENT LOCK TIMEOUT 5</td>\n",
       "    </tr>\n",
       "  </tbody>\n",
       "</table>\n",
       "</div>"
      ],
      "text/plain": [
       "   ROWS_READ  PCT_TOT_RR  TOTAL_CPU_TIME  PCT_TOT_CPU  STMT_EXEC_TIME  \\\n",
       "0       1422       81.11           15625        14.28              28   \n",
       "1        190       10.83           31250        28.57             268   \n",
       "2         74        4.22           46875        42.85             124   \n",
       "3         26        1.48           15625        14.28             281   \n",
       "4         20        1.14               0         0.00               2   \n",
       "5         16        0.91               0         0.00               3   \n",
       "6          0        0.00               0         0.00               0   \n",
       "\n",
       "   PCT_TOT_EXEC  TOTAL_SECTION_SORT_TIME PCT_TOT_SRT  NUM_EXECUTIONS  \\\n",
       "0          3.87                        0        None               2   \n",
       "1         37.06                        0        None               1   \n",
       "2         17.15                        0        None               4   \n",
       "3         38.86                        0        None               1   \n",
       "4          0.27                        0        None               4   \n",
       "5          0.41                        0        None               4   \n",
       "6          0.00                        0        None               6   \n",
       "\n",
       "   PCT_TOT_EXEC  AVG_EXEC_TIME  \\\n",
       "0          7.14          14.00   \n",
       "1          3.57         268.00   \n",
       "2         14.28          31.00   \n",
       "3          3.57         281.00   \n",
       "4         14.28           0.50   \n",
       "5         14.28           0.75   \n",
       "6         21.42           0.00   \n",
       "\n",
       "                                           STATEMENT  \n",
       "0                        select * from syscat.tables  \n",
       "1                              drop table temp_sales  \n",
       "2  CALL SYSPROC.SYSINSTALLOBJECTS('POLICY','V',''...  \n",
       "3           create table temp_sales like ember.sales  \n",
       "4  SELECT COLNAME, TYPENAME FROM  SYSCAT.COLUMNS ...  \n",
       "5  SELECT TRIGNAME FROM  SYSCAT.TRIGGERS WHERE TA...  \n",
       "6                         SET CURRENT LOCK TIMEOUT 5  "
      ]
     },
     "execution_count": 12,
     "metadata": {},
     "output_type": "execute_result"
    }
   ],
   "source": [
    "%sql WITH SUM_TAB (SUM_RR, SUM_CPU, SUM_EXEC, SUM_SORT, SUM_NUM_EXEC) AS ( \\\n",
    "        SELECT  nullif(FLOAT(SUM(ROWS_READ)),0), \\\n",
    "                nullif(FLOAT(SUM(TOTAL_CPU_TIME)),0), \\\n",
    "                nullif(FLOAT(SUM(STMT_EXEC_TIME)),0), \\\n",
    "                nullif(FLOAT(SUM(TOTAL_SECTION_SORT_TIME)),0), \\\n",
    "                nullif(FLOAT(SUM(NUM_EXECUTIONS)),0) \\\n",
    "            FROM TABLE(MON_GET_PKG_CACHE_STMT ( 'D', NULL, NULL, -2)) AS T \\\n",
    "        ) \\\n",
    "SELECT \\\n",
    "        ROWS_READ, \\\n",
    "        DECIMAL(100*(FLOAT(ROWS_READ)/SUM_TAB.SUM_RR),5,2) AS PCT_TOT_RR, \\\n",
    "        TOTAL_CPU_TIME, \\\n",
    "        DECIMAL(100*(FLOAT(TOTAL_CPU_TIME)/SUM_TAB.SUM_CPU),5,2) AS PCT_TOT_CPU, \\\n",
    "        STMT_EXEC_TIME, \\\n",
    "        DECIMAL(100*(FLOAT(STMT_EXEC_TIME)/SUM_TAB.SUM_EXEC),5,2) AS PCT_TOT_EXEC, \\\n",
    "        TOTAL_SECTION_SORT_TIME, \\\n",
    "        DECIMAL(100*(FLOAT(TOTAL_SECTION_SORT_TIME)/SUM_TAB.SUM_SORT),5,2) AS PCT_TOT_SRT, \\\n",
    "        NUM_EXECUTIONS, \\\n",
    "        DECIMAL(100*(FLOAT(NUM_EXECUTIONS)/SUM_TAB.SUM_NUM_EXEC),5,2) AS PCT_TOT_EXEC, \\\n",
    "        DECIMAL(FLOAT(STMT_EXEC_TIME)/FLOAT(NUM_EXECUTIONS),10,2) AS AVG_EXEC_TIME, \\\n",
    "        RTRIM(STMT_TEXT) as STATEMENT \\\n",
    "    FROM TABLE(MON_GET_PKG_CACHE_STMT ( 'D', NULL, NULL, -2)) AS T, SUM_TAB \\\n",
    "    WHERE DECIMAL(100*(FLOAT(ROWS_READ)/SUM_TAB.SUM_RR),5,2) > 10 \\\n",
    "        OR DECIMAL(100*(FLOAT(TOTAL_CPU_TIME)/SUM_TAB.SUM_CPU),5,2) >10 \\\n",
    "        OR DECIMAL(100*(FLOAT(STMT_EXEC_TIME)/SUM_TAB.SUM_EXEC),5,2) >10 \\\n",
    "        OR DECIMAL(100*(FLOAT(TOTAL_SECTION_SORT_TIME)/SUM_TAB.SUM_SORT),5,2) >10 \\\n",
    "        OR DECIMAL(100*(FLOAT(NUM_EXECUTIONS)/SUM_TAB.SUM_NUM_EXEC),5,2) >10 \\\n",
    "    ORDER BY ROWS_READ DESC FETCH FIRST 20 ROWS ONLY WITH UR"
   ]
  },
  {
   "cell_type": "code",
   "execution_count": 13,
   "metadata": {
    "collapsed": false
   },
   "outputs": [
    {
     "data": {
      "text/html": [
       "<div>\n",
       "<table border=\"1\" class=\"dataframe\">\n",
       "  <thead>\n",
       "    <tr style=\"text-align: right;\">\n",
       "      <th></th>\n",
       "      <th>ROWS_READ</th>\n",
       "      <th>PCT_TOT_RR</th>\n",
       "      <th>TOTAL_CPU_TIME</th>\n",
       "      <th>PCT_TOT_CPU</th>\n",
       "      <th>STMT_EXEC_TIME</th>\n",
       "      <th>PCT_TOT_EXEC</th>\n",
       "      <th>TOTAL_SECTION_SORT_TIME</th>\n",
       "      <th>PCT_TOT_SRT</th>\n",
       "      <th>NUM_EXECUTIONS</th>\n",
       "      <th>PCT_TOT_EXECS</th>\n",
       "      <th>AVG_EXEC_TIME</th>\n",
       "    </tr>\n",
       "  </thead>\n",
       "  <tbody>\n",
       "    <tr>\n",
       "      <th>count</th>\n",
       "      <td>4.000000</td>\n",
       "      <td>4.00000</td>\n",
       "      <td>4.00</td>\n",
       "      <td>4.0</td>\n",
       "      <td>4.000000</td>\n",
       "      <td>4.000000</td>\n",
       "      <td>4.0</td>\n",
       "      <td>4.0</td>\n",
       "      <td>4.000000</td>\n",
       "      <td>4.000000</td>\n",
       "      <td>4.000000</td>\n",
       "    </tr>\n",
       "    <tr>\n",
       "      <th>mean</th>\n",
       "      <td>356.000000</td>\n",
       "      <td>24.94500</td>\n",
       "      <td>3906.25</td>\n",
       "      <td>25.0</td>\n",
       "      <td>10.750000</td>\n",
       "      <td>21.937500</td>\n",
       "      <td>0.0</td>\n",
       "      <td>0.0</td>\n",
       "      <td>2.750000</td>\n",
       "      <td>18.330000</td>\n",
       "      <td>7.000000</td>\n",
       "    </tr>\n",
       "    <tr>\n",
       "      <th>std</th>\n",
       "      <td>710.667292</td>\n",
       "      <td>49.79671</td>\n",
       "      <td>7812.50</td>\n",
       "      <td>50.0</td>\n",
       "      <td>12.841988</td>\n",
       "      <td>26.207195</td>\n",
       "      <td>0.0</td>\n",
       "      <td>0.0</td>\n",
       "      <td>2.217356</td>\n",
       "      <td>14.784877</td>\n",
       "      <td>7.527727</td>\n",
       "    </tr>\n",
       "    <tr>\n",
       "      <th>min</th>\n",
       "      <td>0.000000</td>\n",
       "      <td>0.00000</td>\n",
       "      <td>0.00</td>\n",
       "      <td>0.0</td>\n",
       "      <td>0.000000</td>\n",
       "      <td>0.000000</td>\n",
       "      <td>0.0</td>\n",
       "      <td>0.0</td>\n",
       "      <td>1.000000</td>\n",
       "      <td>6.660000</td>\n",
       "      <td>0.000000</td>\n",
       "    </tr>\n",
       "    <tr>\n",
       "      <th>25%</th>\n",
       "      <td>0.000000</td>\n",
       "      <td>0.00000</td>\n",
       "      <td>0.00</td>\n",
       "      <td>0.0</td>\n",
       "      <td>1.500000</td>\n",
       "      <td>3.060000</td>\n",
       "      <td>0.0</td>\n",
       "      <td>0.0</td>\n",
       "      <td>1.750000</td>\n",
       "      <td>11.662500</td>\n",
       "      <td>0.750000</td>\n",
       "    </tr>\n",
       "    <tr>\n",
       "      <th>50%</th>\n",
       "      <td>1.000000</td>\n",
       "      <td>0.07000</td>\n",
       "      <td>0.00</td>\n",
       "      <td>0.0</td>\n",
       "      <td>7.500000</td>\n",
       "      <td>15.305000</td>\n",
       "      <td>0.0</td>\n",
       "      <td>0.0</td>\n",
       "      <td>2.000000</td>\n",
       "      <td>13.330000</td>\n",
       "      <td>7.000000</td>\n",
       "    </tr>\n",
       "    <tr>\n",
       "      <th>75%</th>\n",
       "      <td>357.000000</td>\n",
       "      <td>25.01500</td>\n",
       "      <td>3906.25</td>\n",
       "      <td>25.0</td>\n",
       "      <td>16.750000</td>\n",
       "      <td>34.182500</td>\n",
       "      <td>0.0</td>\n",
       "      <td>0.0</td>\n",
       "      <td>3.000000</td>\n",
       "      <td>19.997500</td>\n",
       "      <td>13.250000</td>\n",
       "    </tr>\n",
       "    <tr>\n",
       "      <th>max</th>\n",
       "      <td>1422.000000</td>\n",
       "      <td>99.64000</td>\n",
       "      <td>15625.00</td>\n",
       "      <td>100.0</td>\n",
       "      <td>28.000000</td>\n",
       "      <td>57.140000</td>\n",
       "      <td>0.0</td>\n",
       "      <td>0.0</td>\n",
       "      <td>6.000000</td>\n",
       "      <td>40.000000</td>\n",
       "      <td>14.000000</td>\n",
       "    </tr>\n",
       "  </tbody>\n",
       "</table>\n",
       "</div>"
      ],
      "text/plain": [
       "         ROWS_READ  PCT_TOT_RR  TOTAL_CPU_TIME  PCT_TOT_CPU  STMT_EXEC_TIME  \\\n",
       "count     4.000000     4.00000            4.00          4.0        4.000000   \n",
       "mean    356.000000    24.94500         3906.25         25.0       10.750000   \n",
       "std     710.667292    49.79671         7812.50         50.0       12.841988   \n",
       "min       0.000000     0.00000            0.00          0.0        0.000000   \n",
       "25%       0.000000     0.00000            0.00          0.0        1.500000   \n",
       "50%       1.000000     0.07000            0.00          0.0        7.500000   \n",
       "75%     357.000000    25.01500         3906.25         25.0       16.750000   \n",
       "max    1422.000000    99.64000        15625.00        100.0       28.000000   \n",
       "\n",
       "       PCT_TOT_EXEC  TOTAL_SECTION_SORT_TIME  PCT_TOT_SRT  NUM_EXECUTIONS  \\\n",
       "count      4.000000                      4.0          4.0        4.000000   \n",
       "mean      21.937500                      0.0          0.0        2.750000   \n",
       "std       26.207195                      0.0          0.0        2.217356   \n",
       "min        0.000000                      0.0          0.0        1.000000   \n",
       "25%        3.060000                      0.0          0.0        1.750000   \n",
       "50%       15.305000                      0.0          0.0        2.000000   \n",
       "75%       34.182500                      0.0          0.0        3.000000   \n",
       "max       57.140000                      0.0          0.0        6.000000   \n",
       "\n",
       "       PCT_TOT_EXECS  AVG_EXEC_TIME  \n",
       "count       4.000000       4.000000  \n",
       "mean       18.330000       7.000000  \n",
       "std        14.784877       7.527727  \n",
       "min         6.660000       0.000000  \n",
       "25%        11.662500       0.750000  \n",
       "50%        13.330000       7.000000  \n",
       "75%        19.997500      13.250000  \n",
       "max        40.000000      14.000000  "
      ]
     },
     "execution_count": 13,
     "metadata": {},
     "output_type": "execute_result"
    }
   ],
   "source": [
    "df= %sql WITH SUM_TAB (SUM_RR, SUM_CPU, SUM_EXEC, SUM_SORT, SUM_NUM_EXEC) AS ( \\\n",
    "        SELECT  nullif(FLOAT(SUM(ROWS_READ)),0), \\\n",
    "                nullif(FLOAT(SUM(TOTAL_CPU_TIME)),0), \\\n",
    "                nullif(FLOAT(SUM(STMT_EXEC_TIME)),0), \\\n",
    "                nullif(FLOAT(SUM(TOTAL_SECTION_SORT_TIME)),0), \\\n",
    "                nullif(FLOAT(SUM(NUM_EXECUTIONS)),0) \\\n",
    "            FROM TABLE(MON_GET_PKG_CACHE_STMT ( 'D', NULL, NULL, -2)) AS T \\\n",
    "        ) \\\n",
    "SELECT substr(stmt_text,1,25) as STATEMENT, \\\n",
    "        ROWS_READ, \\\n",
    "        coalesce(DECIMAL(100*(FLOAT(ROWS_READ)/SUM_TAB.SUM_RR),5,2),0) AS PCT_TOT_RR, \\\n",
    "        TOTAL_CPU_TIME, \\\n",
    "        coalesce(DECIMAL(100*(FLOAT(TOTAL_CPU_TIME)/SUM_TAB.SUM_CPU),5,2),0) AS PCT_TOT_CPU, \\\n",
    "        STMT_EXEC_TIME, \\\n",
    "        coalesce(DECIMAL(100*(FLOAT(STMT_EXEC_TIME)/SUM_TAB.SUM_EXEC),5,2),0) AS PCT_TOT_EXEC, \\\n",
    "        TOTAL_SECTION_SORT_TIME, \\\n",
    "        coalesce(DECIMAL(100*(FLOAT(TOTAL_SECTION_SORT_TIME)/SUM_TAB.SUM_SORT),5,2),0) AS PCT_TOT_SRT, \\\n",
    "        NUM_EXECUTIONS, \\\n",
    "        coalesce(DECIMAL(100*(FLOAT(NUM_EXECUTIONS)/SUM_TAB.SUM_NUM_EXEC),5,2),0) AS PCT_TOT_EXECS, \\\n",
    "        DECIMAL(FLOAT(STMT_EXEC_TIME)/FLOAT(NUM_EXECUTIONS),10,2) AS AVG_EXEC_TIME, \\\n",
    "        RTRIM(STMT_TEXT) as FULL_STATEMENT \\\n",
    "    FROM TABLE(MON_GET_PKG_CACHE_STMT ( 'D', NULL, NULL, -2)) AS T, SUM_TAB \\\n",
    "    WHERE DECIMAL(100*(FLOAT(ROWS_READ)/SUM_TAB.SUM_RR),5,2) > 10 \\\n",
    "        OR DECIMAL(100*(FLOAT(TOTAL_CPU_TIME)/SUM_TAB.SUM_CPU),5,2) >10 \\\n",
    "        OR DECIMAL(100*(FLOAT(STMT_EXEC_TIME)/SUM_TAB.SUM_EXEC),5,2) >10 \\\n",
    "        OR DECIMAL(100*(FLOAT(TOTAL_SECTION_SORT_TIME)/SUM_TAB.SUM_SORT),5,2) >10 \\\n",
    "        OR DECIMAL(100*(FLOAT(NUM_EXECUTIONS)/SUM_TAB.SUM_NUM_EXEC),5,2) >10 \\\n",
    "    ORDER BY ROWS_READ DESC FETCH FIRST 20 ROWS ONLY WITH UR\n",
    "%matplotlib inline\n",
    "df.describe()"
   ]
  },
  {
   "cell_type": "markdown",
   "metadata": {},
   "source": [
    "Show number of rows and number of columns of the output"
   ]
  },
  {
   "cell_type": "code",
   "execution_count": 14,
   "metadata": {
    "collapsed": false
   },
   "outputs": [
    {
     "data": {
      "text/plain": [
       "(4, 13)"
      ]
     },
     "execution_count": 14,
     "metadata": {},
     "output_type": "execute_result"
    }
   ],
   "source": [
    "df.shape"
   ]
  },
  {
   "cell_type": "markdown",
   "metadata": {},
   "source": [
    "Show the names of all columns, in a comma separated list"
   ]
  },
  {
   "cell_type": "code",
   "execution_count": 15,
   "metadata": {
    "collapsed": false
   },
   "outputs": [
    {
     "data": {
      "text/plain": [
       "Index(['STATEMENT', 'ROWS_READ', 'PCT_TOT_RR', 'TOTAL_CPU_TIME', 'PCT_TOT_CPU',\n",
       "       'STMT_EXEC_TIME', 'PCT_TOT_EXEC', 'TOTAL_SECTION_SORT_TIME',\n",
       "       'PCT_TOT_SRT', 'NUM_EXECUTIONS', 'PCT_TOT_EXECS', 'AVG_EXEC_TIME',\n",
       "       'FULL_STATEMENT'],\n",
       "      dtype='object')"
      ]
     },
     "execution_count": 15,
     "metadata": {},
     "output_type": "execute_result"
    }
   ],
   "source": [
    "df.columns"
   ]
  },
  {
   "cell_type": "markdown",
   "metadata": {},
   "source": [
    "Sort the output by a different column"
   ]
  },
  {
   "cell_type": "code",
   "execution_count": 16,
   "metadata": {
    "collapsed": false
   },
   "outputs": [
    {
     "data": {
      "text/html": [
       "<div>\n",
       "<table border=\"1\" class=\"dataframe\">\n",
       "  <thead>\n",
       "    <tr style=\"text-align: right;\">\n",
       "      <th></th>\n",
       "      <th>STATEMENT</th>\n",
       "      <th>ROWS_READ</th>\n",
       "      <th>PCT_TOT_RR</th>\n",
       "      <th>TOTAL_CPU_TIME</th>\n",
       "      <th>PCT_TOT_CPU</th>\n",
       "      <th>STMT_EXEC_TIME</th>\n",
       "      <th>PCT_TOT_EXEC</th>\n",
       "      <th>TOTAL_SECTION_SORT_TIME</th>\n",
       "      <th>PCT_TOT_SRT</th>\n",
       "      <th>NUM_EXECUTIONS</th>\n",
       "      <th>PCT_TOT_EXECS</th>\n",
       "      <th>AVG_EXEC_TIME</th>\n",
       "      <th>FULL_STATEMENT</th>\n",
       "    </tr>\n",
       "  </thead>\n",
       "  <tbody>\n",
       "    <tr>\n",
       "      <th>0</th>\n",
       "      <td>select * from syscat.tabl</td>\n",
       "      <td>1422</td>\n",
       "      <td>99.64</td>\n",
       "      <td>15625</td>\n",
       "      <td>100.0</td>\n",
       "      <td>28</td>\n",
       "      <td>57.14</td>\n",
       "      <td>0</td>\n",
       "      <td>0.0</td>\n",
       "      <td>2</td>\n",
       "      <td>13.33</td>\n",
       "      <td>14.0</td>\n",
       "      <td>select * from syscat.tables</td>\n",
       "    </tr>\n",
       "    <tr>\n",
       "      <th>2</th>\n",
       "      <td>select typename     , cou</td>\n",
       "      <td>0</td>\n",
       "      <td>0.00</td>\n",
       "      <td>0</td>\n",
       "      <td>0.0</td>\n",
       "      <td>13</td>\n",
       "      <td>26.53</td>\n",
       "      <td>0</td>\n",
       "      <td>0.0</td>\n",
       "      <td>1</td>\n",
       "      <td>6.66</td>\n",
       "      <td>13.0</td>\n",
       "      <td>select typename     , count(*) as count from s...</td>\n",
       "    </tr>\n",
       "    <tr>\n",
       "      <th>1</th>\n",
       "      <td>SELECT POLICY FROM SYSTOO</td>\n",
       "      <td>2</td>\n",
       "      <td>0.14</td>\n",
       "      <td>0</td>\n",
       "      <td>0.0</td>\n",
       "      <td>2</td>\n",
       "      <td>4.08</td>\n",
       "      <td>0</td>\n",
       "      <td>0.0</td>\n",
       "      <td>2</td>\n",
       "      <td>13.33</td>\n",
       "      <td>1.0</td>\n",
       "      <td>SELECT POLICY FROM SYSTOOLS.POLICY WHERE MED='...</td>\n",
       "    </tr>\n",
       "    <tr>\n",
       "      <th>3</th>\n",
       "      <td>SET CURRENT LOCK TIMEOUT</td>\n",
       "      <td>0</td>\n",
       "      <td>0.00</td>\n",
       "      <td>0</td>\n",
       "      <td>0.0</td>\n",
       "      <td>0</td>\n",
       "      <td>0.00</td>\n",
       "      <td>0</td>\n",
       "      <td>0.0</td>\n",
       "      <td>6</td>\n",
       "      <td>40.00</td>\n",
       "      <td>0.0</td>\n",
       "      <td>SET CURRENT LOCK TIMEOUT 5</td>\n",
       "    </tr>\n",
       "  </tbody>\n",
       "</table>\n",
       "</div>"
      ],
      "text/plain": [
       "                   STATEMENT  ROWS_READ  PCT_TOT_RR  TOTAL_CPU_TIME  \\\n",
       "0  select * from syscat.tabl       1422       99.64           15625   \n",
       "2  select typename     , cou          0        0.00               0   \n",
       "1  SELECT POLICY FROM SYSTOO          2        0.14               0   \n",
       "3  SET CURRENT LOCK TIMEOUT           0        0.00               0   \n",
       "\n",
       "   PCT_TOT_CPU  STMT_EXEC_TIME  PCT_TOT_EXEC  TOTAL_SECTION_SORT_TIME  \\\n",
       "0        100.0              28         57.14                        0   \n",
       "2          0.0              13         26.53                        0   \n",
       "1          0.0               2          4.08                        0   \n",
       "3          0.0               0          0.00                        0   \n",
       "\n",
       "   PCT_TOT_SRT  NUM_EXECUTIONS  PCT_TOT_EXECS  AVG_EXEC_TIME  \\\n",
       "0          0.0               2          13.33           14.0   \n",
       "2          0.0               1           6.66           13.0   \n",
       "1          0.0               2          13.33            1.0   \n",
       "3          0.0               6          40.00            0.0   \n",
       "\n",
       "                                      FULL_STATEMENT  \n",
       "0                        select * from syscat.tables  \n",
       "2  select typename     , count(*) as count from s...  \n",
       "1  SELECT POLICY FROM SYSTOOLS.POLICY WHERE MED='...  \n",
       "3                         SET CURRENT LOCK TIMEOUT 5  "
      ]
     },
     "execution_count": 16,
     "metadata": {},
     "output_type": "execute_result"
    }
   ],
   "source": [
    "# sort output by a different column (be sure to use correct case)\n",
    "df.sort_values(by=['STMT_EXEC_TIME'], ascending=False)"
   ]
  },
  {
   "cell_type": "markdown",
   "metadata": {},
   "source": [
    "Plot the data on multiple dimensions"
   ]
  },
  {
   "cell_type": "code",
   "execution_count": 17,
   "metadata": {
    "collapsed": false
   },
   "outputs": [
    {
     "data": {
      "text/plain": [
       "<function matplotlib.pyplot.show>"
      ]
     },
     "execution_count": 17,
     "metadata": {},
     "output_type": "execute_result"
    },
    {
     "data": {
      "image/png": "[encoded data removed]",
      "text/plain": [
       "<matplotlib.figure.Figure at 0x2081294d5c0>"
      ]
     },
     "metadata": {},
     "output_type": "display_data"
    }
   ],
   "source": [
    "df.plot(x='STATEMENT', y=['PCT_TOT_RR','PCT_TOT_CPU','PCT_TOT_EXEC','PCT_TOT_SRT'], kind='barh')\n",
    "plt.show"
   ]
  },
  {
   "cell_type": "code",
   "execution_count": 18,
   "metadata": {
    "collapsed": false
   },
   "outputs": [
    {
     "data": {
      "text/html": [
       "<div>\n",
       "<table border=\"1\" class=\"dataframe\">\n",
       "  <thead>\n",
       "    <tr style=\"text-align: right;\">\n",
       "      <th></th>\n",
       "      <th>FULL_STATEMENT</th>\n",
       "    </tr>\n",
       "  </thead>\n",
       "  <tbody>\n",
       "    <tr>\n",
       "      <th>0</th>\n",
       "      <td>select * from syscat.tables</td>\n",
       "    </tr>\n",
       "    <tr>\n",
       "      <th>1</th>\n",
       "      <td>SELECT POLICY FROM SYSTOOLS.POLICY WHERE MED='DB2CommonMED' AND DECISION='NOP' AND NAME='CommonPolicy'</td>\n",
       "    </tr>\n",
       "    <tr>\n",
       "      <th>2</th>\n",
       "      <td>select typename     , count(*) as count from syscat.columns group by typename order by count desc</td>\n",
       "    </tr>\n",
       "    <tr>\n",
       "      <th>3</th>\n",
       "      <td>SET CURRENT LOCK TIMEOUT 5</td>\n",
       "    </tr>\n",
       "  </tbody>\n",
       "</table>\n",
       "</div>"
      ],
      "text/plain": [
       "                                                                                           FULL_STATEMENT\n",
       "0  select * from syscat.tables                                                                           \n",
       "1  SELECT POLICY FROM SYSTOOLS.POLICY WHERE MED='DB2CommonMED' AND DECISION='NOP' AND NAME='CommonPolicy'\n",
       "2  select typename     , count(*) as count from syscat.columns group by typename order by count desc     \n",
       "3  SET CURRENT LOCK TIMEOUT 5                                                                            "
      ]
     },
     "execution_count": 18,
     "metadata": {},
     "output_type": "execute_result"
    }
   ],
   "source": [
    "pandas.set_option('display.max_colwidth', -1)\n",
    "df[['FULL_STATEMENT']]"
   ]
  },
  {
   "cell_type": "markdown",
   "metadata": {},
   "source": [
    "### Using Host Variables / Parameter Markers"
   ]
  },
  {
   "cell_type": "markdown",
   "metadata": {},
   "source": [
    "This statement is prepared using the literal value"
   ]
  },
  {
   "cell_type": "code",
   "execution_count": null,
   "metadata": {
    "collapsed": false
   },
   "outputs": [],
   "source": [
    "check_id = 'DB2ADMIN'\n",
    "%sql select tabschema \\\n",
    "    , tabname \\\n",
    "    , controlauth \\\n",
    "    , deleteauth \\\n",
    "    , insertauth \\\n",
    "    , selectauth \\\n",
    "    , updateauth \\\n",
    "from syscat.tabauth \\\n",
    "where grantee = '{check_id}'"
   ]
  },
  {
   "cell_type": "markdown",
   "metadata": {},
   "source": [
    "This statement is prepared using a parameter marker"
   ]
  },
  {
   "cell_type": "code",
   "execution_count": null,
   "metadata": {
    "collapsed": false
   },
   "outputs": [],
   "source": [
    "#Ask George about this one\n",
    "check_id = 'DB2ADMIN'\n",
    "%sql select tabschema \\\n",
    "    , tabname \\\n",
    "    , controlauth \\\n",
    "    , deleteauth \\\n",
    "    , insertauth \\\n",
    "    , selectauth \\\n",
    "    , updateauth \\\n",
    "from syscat.tabauth \\\n",
    "where grantee = :check_id"
   ]
  },
  {
   "cell_type": "markdown",
   "metadata": {},
   "source": [
    "### Explain Information in Jupyter Notebook"
   ]
  },
  {
   "cell_type": "markdown",
   "metadata": {},
   "source": [
    "#### If Explain Tables do not Exist, Create Them"
   ]
  },
  {
   "cell_type": "code",
   "execution_count": null,
   "metadata": {
    "collapsed": false
   },
   "outputs": [],
   "source": [
    "# This cell only needs to be executed if the explain tables do not exist\n",
    "%sql call sysproc.sysinstallobjects('EXPLAIN','C',NULL,NULL)"
   ]
  },
  {
   "cell_type": "code",
   "execution_count": 19,
   "metadata": {
    "collapsed": false
   },
   "outputs": [
    {
     "name": "stdout",
     "output_type": "stream",
     "text": [
      "Command completed.\n"
     ]
    },
    {
     "data": {
      "text/html": [
       "<p style=\"border:2px; border-style:solid; border-color:#FF0000; background-color:#ffe6e6; padding: 1em;\">CLI0115E  Invalid cursor state. SQLSTATE=24000 SQLCODE=-99999</p>"
      ],
      "text/plain": [
       "<IPython.core.display.HTML object>"
      ]
     },
     "metadata": {},
     "output_type": "display_data"
    }
   ],
   "source": [
    "%sql set current explain mode explain\n",
    "# Below will return CLI0115E, but that is expected and it works fine.\n",
    "%sql select bpname from syscat.bufferpools"
   ]
  },
  {
   "cell_type": "code",
   "execution_count": 20,
   "metadata": {
    "collapsed": false
   },
   "outputs": [
    {
     "name": "stdout",
     "output_type": "stream",
     "text": [
      "Command completed.\n"
     ]
    }
   ],
   "source": [
    "%sql set current explain mode no"
   ]
  },
  {
   "cell_type": "code",
   "execution_count": 21,
   "metadata": {
    "collapsed": false,
    "scrolled": true
   },
   "outputs": [
    {
     "name": "stdout",
     "output_type": "stream",
     "text": [
      "Connecting to the Database.\n"
     ]
    },
    {
     "name": "stderr",
     "output_type": "stream",
     "text": [
      "DB2 Universal Database Version 11.1, 5622-044 (c) Copyright IBM Corp. 1991, 2015\n",
      "Licensed Material - Program Property of IBM\n",
      "IBM DATABASE 2 Explain Table Format Tool\n",
      "\n",
      "Connect to Database Successful.\n",
      "Using SYSTOOLS schema for Explain tables.\n",
      "Output is in query_exfmt.txt.\n",
      "Executing Connect Reset -- Connect Reset was Successful.\n"
     ]
    }
   ],
   "source": [
    "!db2exfmt -d SAMPLE -1 -o query_exfmt.txt"
   ]
  },
  {
   "cell_type": "code",
   "execution_count": 22,
   "metadata": {
    "collapsed": false
   },
   "outputs": [
    {
     "name": "stdout",
     "output_type": "stream",
     "text": [
      "\n",
      "-----------\n",
      "\tTotal Cost: \t\t0.0034452\n",
      "\tQuery Degree:\t\t1\n",
      "\n",
      "\n",
      "       Rows\n",
      "      RETURN\n",
      "      (   1)\n",
      "       Cost\n",
      "        I/O\n",
      "        |\n",
      "         1\n",
      "      IXSCAN\n",
      "      (   2)\n",
      "     0.0034452\n",
      "         0\n",
      "        |\n",
      "         1\n",
      "  INDEX: SYSIBM\n",
      " INDBUFFERPOOLS01\n",
      "        Q1\n",
      "\n",
      "\n",
      "\n"
     ]
    }
   ],
   "source": [
    "with open(\"query_exfmt.txt\") as f:\n",
    "    for line in f:\n",
    "        if line.rstrip() == \"Access Plan:\":\n",
    "            print(\"\")\n",
    "            for line in f:\n",
    "                if line.rstrip() == \"Extended Diagnostic Information:\":\n",
    "                    break\n",
    "                print(line.rstrip())"
   ]
  },
  {
   "cell_type": "code",
   "execution_count": null,
   "metadata": {
    "collapsed": true
   },
   "outputs": [],
   "source": []
  }
 ],
 "metadata": {
  "anaconda-cloud": {},
  "kernelspec": {
   "display_name": "Python [default]",
   "language": "python",
   "name": "python3"
  },
  "language_info": {
   "codemirror_mode": {
    "name": "ipython",
    "version": 3
   },
   "file_extension": ".py",
   "mimetype": "text/x-python",
   "name": "python",
   "nbconvert_exporter": "python",
   "pygments_lexer": "ipython3",
   "version": "3.5.2"
  },
  "nbpresent": {
   "slides": {
    "22dcdcf5-66fa-44b1-a05f-d8e97245d75f": {
     "id": "22dcdcf5-66fa-44b1-a05f-d8e97245d75f",
     "prev": "461a097d-8043-4fb5-9ea9-7e70ad715410",
     "regions": {
      "6b013448-d8a6-4960-90f2-351fbea524c0": {
       "attrs": {
        "height": 1,
        "width": 1,
        "x": 0,
        "y": 0
       },
       "content": {
        "cell": "3d3036b2-9850-4506-8e41-60d40c788d18",
        "part": "source"
       },
       "id": "6b013448-d8a6-4960-90f2-351fbea524c0"
      }
     }
    },
    "2c446d31-ad6f-495f-98d8-3861623b455d": {
     "id": "2c446d31-ad6f-495f-98d8-3861623b455d",
     "prev": "22dcdcf5-66fa-44b1-a05f-d8e97245d75f",
     "regions": {
      "b1bd1972-69fc-4165-a61b-76a647b9a30c": {
       "attrs": {
        "height": 1,
        "width": 1,
        "x": 0,
        "y": 0
       },
       "content": {
        "cell": "ebd7d540-a6fa-4c84-b2af-2490266d9b3e",
        "part": "source"
       },
       "id": "b1bd1972-69fc-4165-a61b-76a647b9a30c"
      }
     }
    },
    "461a097d-8043-4fb5-9ea9-7e70ad715410": {
     "id": "461a097d-8043-4fb5-9ea9-7e70ad715410",
     "prev": null,
     "regions": {}
    },
    "52ca4573-7087-44b4-b05b-1695aafc3b91": {
     "id": "52ca4573-7087-44b4-b05b-1695aafc3b91",
     "prev": "e2383d77-142f-4e5f-bbfa-0cf3d663a4df",
     "regions": {
      "9097c9d5-db69-4d35-bc75-3f7b8b29b7ac": {
       "attrs": {
        "height": 1,
        "width": 1,
        "x": 0,
        "y": 0
       },
       "content": {
        "cell": "cbed146e-26ba-4018-8484-82b00a1b660b",
        "part": "whole"
       },
       "id": "9097c9d5-db69-4d35-bc75-3f7b8b29b7ac"
      }
     }
    },
    "e2383d77-142f-4e5f-bbfa-0cf3d663a4df": {
     "id": "e2383d77-142f-4e5f-bbfa-0cf3d663a4df",
     "prev": "2c446d31-ad6f-495f-98d8-3861623b455d",
     "regions": {
      "c635ca58-76be-4688-95e3-01922e02cb7b": {
       "attrs": {
        "height": 1,
        "width": 1,
        "x": 0,
        "y": 0
       },
       "content": {
        "cell": "0b310267-394a-49dc-8174-0a3abfbd0aa9",
        "part": "source"
       },
       "id": "c635ca58-76be-4688-95e3-01922e02cb7b"
      }
     }
    }
   },
   "themes": {
    "default": "2f570158-7278-4683-91a6-124381af0191",
    "theme": {
     "2f570158-7278-4683-91a6-124381af0191": {
      "id": "2f570158-7278-4683-91a6-124381af0191",
      "palette": {
       "19cc588f-0593-49c9-9f4b-e4d7cc113b1c": {
        "id": "19cc588f-0593-49c9-9f4b-e4d7cc113b1c",
        "rgb": [
         252,
         252,
         252
        ]
       },
       "31af15d2-7e15-44c5-ab5e-e04b16a89eff": {
        "id": "31af15d2-7e15-44c5-ab5e-e04b16a89eff",
        "rgb": [
         68,
         68,
         68
        ]
       },
       "50f92c45-a630-455b-aec3-788680ec7410": {
        "id": "50f92c45-a630-455b-aec3-788680ec7410",
        "rgb": [
         155,
         177,
         192
        ]
       },
       "c5cc3653-2ee1-402a-aba2-7caae1da4f6c": {
        "id": "c5cc3653-2ee1-402a-aba2-7caae1da4f6c",
        "rgb": [
         43,
         126,
         184
        ]
       },
       "efa7f048-9acb-414c-8b04-a26811511a21": {
        "id": "efa7f048-9acb-414c-8b04-a26811511a21",
        "rgb": [
         25.118061674008803,
         73.60176211453744,
         107.4819383259912
        ]
       }
      },
      "rules": {
       "blockquote": {
        "color": "50f92c45-a630-455b-aec3-788680ec7410"
       },
       "code": {
        "font-family": "Anonymous Pro"
       },
       "h1": {
        "color": "c5cc3653-2ee1-402a-aba2-7caae1da4f6c",
        "font-family": "Lato",
        "font-size": 8
       },
       "h2": {
        "color": "c5cc3653-2ee1-402a-aba2-7caae1da4f6c",
        "font-family": "Lato",
        "font-size": 6
       },
       "h3": {
        "color": "50f92c45-a630-455b-aec3-788680ec7410",
        "font-family": "Lato",
        "font-size": 5.5
       },
       "h4": {
        "color": "c5cc3653-2ee1-402a-aba2-7caae1da4f6c",
        "font-family": "Lato",
        "font-size": 5
       },
       "h5": {
        "font-family": "Lato"
       },
       "h6": {
        "font-family": "Lato"
       },
       "h7": {
        "font-family": "Lato"
       },
       "pre": {
        "font-family": "Anonymous Pro",
        "font-size": 4
       }
      },
      "text-base": {
       "font-family": "Merriweather",
       "font-size": 4
      }
     }
    }
   }
  }
 },
 "nbformat": 4,
 "nbformat_minor": 1
}
