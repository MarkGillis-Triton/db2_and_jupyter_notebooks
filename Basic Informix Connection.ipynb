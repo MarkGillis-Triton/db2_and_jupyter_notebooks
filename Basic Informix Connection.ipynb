{
 "cells": [
  {
   "cell_type": "markdown",
   "metadata": {},
   "source": [
    "This notebook should be launched from a session of jupyter notebook that was launched from a DB2 command window\n",
    "To do this, run an administrator DB2 command window as an administrator and type 'jupyter notebook'\n",
    "\n",
    "Set up the enviornment:"
   ]
  },
  {
   "cell_type": "code",
   "execution_count": null,
   "metadata": {},
   "outputs": [],
   "source": [
    "#import sys,os,os.path\n",
    "#os.environ['IBM_DB_HOME']='C:\\Program Files\\IBM\\SQLLIB'\n",
    "!pip install ipython-sql\n",
    "!pip install ibm_db \n",
    "!pip3 install ifxpy\n",
    "!pip3 install JayDeBeApi"
   ]
  },
  {
   "cell_type": "markdown",
   "metadata": {},
   "source": [
    "Restart the Kernel if this is your first time installing the above. The next steps will fail unless you do this."
   ]
  },
  {
   "cell_type": "markdown",
   "metadata": {},
   "source": [
    "Import the modules"
   ]
  },
  {
   "cell_type": "code",
   "execution_count": 1,
   "metadata": {},
   "outputs": [],
   "source": [
    "import ibm_db\n",
    "import IfxPy\n",
    "import pandas as pd"
   ]
  },
  {
   "cell_type": "markdown",
   "metadata": {},
   "source": [
    "Connect to the database. Change the values of user, host, and password to match your environment. For connection to a local host, use 'localhost' for the host name. Also change the port number and database name in the connection string."
   ]
  },
  {
   "cell_type": "code",
   "execution_count": 8,
   "metadata": {},
   "outputs": [
    {
     "name": "stdout",
     "output_type": "stream",
     "text": [
      "--  Record 1 --\n",
      "c1 is :  systables\n",
      "c2 is :  informix                        \n",
      "c3 is :  1\n",
      "c4 is :  500\n",
      " \n",
      "--  Record 2 --\n",
      "c1 is :  syscolumns\n",
      "c2 is :  informix                        \n",
      "c3 is :  2\n",
      "c4 is :  157\n",
      " \n",
      "--  Record 3 --\n",
      "c1 is :  sysindices\n",
      "c2 is :  informix                        \n",
      "c3 is :  3\n",
      "c4 is :  5434\n",
      " \n",
      "--  Record 4 --\n",
      "c1 is :  systabauth\n",
      "c2 is :  informix                        \n",
      "c3 is :  4\n",
      "c4 is :  77\n",
      " \n",
      "--  Record 5 --\n",
      "c1 is :  syscolauth\n",
      "c2 is :  informix                        \n",
      "c3 is :  5\n",
      "c4 is :  73\n",
      " \n",
      "\n",
      "Total Record Selected 5\n",
      "Done\n"
     ]
    }
   ],
   "source": [
    "# Define filename for passwords\n",
    "filename = 'vdba_variables.py'\n",
    "# source the file\n",
    "%run $filename\n",
    "\n",
    "ConStr = \"SERVER=\"+ifxserver+\";DATABASE=\"+DB+\";HOST=\"+Host+\";SERVICE=\"+Port+\";UID=\"+User+\";PWD=\"+PW+\";DB_LOCALE=en_US.utf8;\"\n",
    "\n",
    "try:\n",
    "    conn = IfxPy.connect( ConStr, \"\", \"\")\n",
    "except Exception as e:\n",
    "    print ('ERROR: Connect failed')\n",
    "    print ( e )\n",
    "    quit()\n",
    "\n",
    "# Select records\n",
    "sql = \"select first 5 tabname, owner, tabid, rowsize from systables\"\n",
    "stmt = IfxPy.exec_immediate(conn, sql)\n",
    "dictionary = IfxPy.fetch_both(stmt)\n",
    "\n",
    "rc = 0\n",
    "while dictionary != False:\n",
    "    rc += 1\n",
    "    print (\"--  Record {0} --\".format(rc))\n",
    "    print (\"c1 is : \",  dictionary[0])\n",
    "    print (\"c2 is : \", dictionary[1])\n",
    "    print (\"c3 is : \", dictionary[2])\n",
    "    print (\"c4 is : \", dictionary[3])\n",
    "    print (\" \")\n",
    "    dictionary = IfxPy.fetch_both(stmt)\n",
    "\n",
    "print()\n",
    "print( \"Total Record Selected {}\".format(rc) )\n",
    "\n",
    "# Free up memory used by result and then stmt too\n",
    "IfxPy.free_result(stmt)\n",
    "IfxPy.free_stmt (stmt)\n",
    "\n",
    "IfxPy.close(conn)\n",
    "\n",
    "print (\"Done\")\n"
   ]
  },
  {
   "cell_type": "markdown",
   "metadata": {},
   "source": [
    "## Values Needed\n",
    "In addition to what I think of as the traditional conneciton string values (IP or Host, Port, database name, User, PW), Informix requires a couple of additional values. The `ifxserver` and the `DB_LOCALE` can be found by logging into the informix server and running an env command. Both should be listed there.\n",
    "## Format for password file:\n",
    "```python\n",
    "# Hostname or IP address\n",
    "Host='192.0.2.0'\n",
    "# Database Name\n",
    "DB='sample'\n",
    "# Port Number\n",
    "Port='50001'\n",
    "# User Id\n",
    "User='ecrooks'\n",
    "# Password\n",
    "PW='xxxxxxxxx'\n",
    "# Informix Server\n",
    "ifxserver='some_reporting_tcp'\n",
    "```"
   ]
  },
  {
   "cell_type": "code",
   "execution_count": null,
   "metadata": {},
   "outputs": [],
   "source": []
  }
 ],
 "metadata": {
  "anaconda-cloud": {},
  "kernelspec": {
   "display_name": "Python 3",
   "language": "python",
   "name": "python3"
  },
  "language_info": {
   "codemirror_mode": {
    "name": "ipython",
    "version": 3
   },
   "file_extension": ".py",
   "mimetype": "text/x-python",
   "name": "python",
   "nbconvert_exporter": "python",
   "pygments_lexer": "ipython3",
   "version": "3.6.5"
  }
 },
 "nbformat": 4,
 "nbformat_minor": 1
}
