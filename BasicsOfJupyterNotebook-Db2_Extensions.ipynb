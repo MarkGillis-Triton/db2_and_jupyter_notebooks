{
 "cells": [
  {
   "cell_type": "markdown",
   "metadata": {},
   "source": [
    "## Markdown Cell"
   ]
  },
  {
   "cell_type": "code",
   "execution_count": null,
   "metadata": {
    "collapsed": true
   },
   "outputs": [],
   "source": [
    "# Unexecuted Code Cell"
   ]
  },
  {
   "cell_type": "code",
   "execution_count": null,
   "metadata": {
    "collapsed": false
   },
   "outputs": [],
   "source": [
    "# Cell that produces output\n",
    "print(\"test\")"
   ]
  },
  {
   "cell_type": "code",
   "execution_count": null,
   "metadata": {
    "collapsed": false
   },
   "outputs": [],
   "source": [
    "# Cell that produces output\n",
    "%run db2.ipynb\n",
    "%sql CONNECT TO SAMPLE USER $user USING $password HOST $host PORT 50000"
   ]
  },
  {
   "cell_type": "code",
   "execution_count": null,
   "metadata": {
    "collapsed": false
   },
   "outputs": [],
   "source": [
    "## Executing Cell\n",
    "import time\n",
    "time.sleep(60)"
   ]
  },
  {
   "cell_type": "markdown",
   "metadata": {},
   "source": [
    "# Cells\n",
    "Cells within a workbook are primarily either code cells or Markdown cells. \n",
    "- Unexecuted Markdown cells look like the first cell in this notebook. When a markdown cell is executed, the text appears formmated as specified. To edit an executed markdown cell, double click on the text.\n",
    "- Unexecuted code cells are prefixed with “In [  ]:”. \n",
    "- A number within the brackets for a code cell indicates that the cell has been executed. The number indicates the order in which the cell was executed. \n",
    "- An asterisk (*) within the brackets for a code cell indicates that the cell is currently executing. \n",
    "- The currently selected cell has a border around it with a blue or green bar at the beginning to indicate selection. Many actions from the toolbar will apply only to the selected cell(s).\n"
   ]
  },
  {
   "cell_type": "markdown",
   "metadata": {},
   "source": [
    "# Markdown"
   ]
  },
  {
   "cell_type": "markdown",
   "metadata": {},
   "source": [
    "# H1\n",
    "## H2\n",
    "### H3\n",
    "#### H4\n",
    "*italic* **bold** ~~strikethrough~~ \n",
    "1. First ordered list item\n",
    "2. Another item\n",
    "    * Unordered sub-list. \n",
    "1. Actual numbers don't matter, just that it's a number\n",
    "    1. Ordered sub-list\n",
    "42. And another item.\n",
    "\n",
    "[link text](https://www.db2commerce.com)"
   ]
  },
  {
   "cell_type": "markdown",
   "metadata": {},
   "source": [
    "# Python Basics\n",
    "- Indentation matters\n",
    " - Loops and functions are defined not by starting and terminating characters, but by proper use of indentation\n",
    "- &#35; starts a comment line\n",
    "- No line terminators -> line continuation characters ( \\ )\n",
    "- No prefix to indicate a variable\n"
   ]
  },
  {
   "cell_type": "code",
   "execution_count": null,
   "metadata": {
    "collapsed": true
   },
   "outputs": [],
   "source": []
  }
 ],
 "metadata": {
  "anaconda-cloud": {},
  "kernelspec": {
   "display_name": "Python [conda root]",
   "language": "python",
   "name": "conda-root-py"
  },
  "language_info": {
   "codemirror_mode": {
    "name": "ipython",
    "version": 3
   },
   "file_extension": ".py",
   "mimetype": "text/x-python",
   "name": "python",
   "nbconvert_exporter": "python",
   "pygments_lexer": "ipython3",
   "version": "3.5.2"
  }
 },
 "nbformat": 4,
 "nbformat_minor": 1
}
