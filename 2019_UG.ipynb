{
 "cells": [
  {
   "cell_type": "markdown",
   "metadata": {
    "slideshow": {
     "slide_type": "skip"
    }
   },
   "source": [
    "# Hello, _nbpresent_!"
   ]
  },
  {
   "cell_type": "code",
   "execution_count": null,
   "metadata": {
    "collapsed": false,
    "slideshow": {
     "slide_type": "skip"
    }
   },
   "outputs": [],
   "source": [
    "import nbpresent\n",
    "nbpresent.__version__"
   ]
  },
  {
   "cell_type": "markdown",
   "metadata": {
    "nbpresent": {
     "id": "9b43f362-3c2a-437a-b0bc-173a90c6cf95"
    },
    "slideshow": {
     "slide_type": "slide"
    }
   },
   "source": [
    "# Using Jupyter Notebook for Db2 Administration\n",
    "&nbsp;&nbsp;&nbsp;&nbsp;Ember Crooks\n",
    "\n",
    "&nbsp;&nbsp;&nbsp;&nbsp;XTIVIA\n",
    "\n",
    "&nbsp;&nbsp;&nbsp;&nbsp;Session Code: F1\n",
    "\n",
    "&nbsp;&nbsp;&nbsp;&nbsp;Wednesday, May 2 1:05 PM"
   ]
  },
  {
   "cell_type": "markdown",
   "metadata": {
    "nbpresent": {
     "id": "d46de732-8785-4f86-891a-ba81ce2f3017"
    },
    "slideshow": {
     "slide_type": "fragment"
    }
   },
   "source": [
    "## Setting up this Jupyter Notebook"
   ]
  },
  {
   "cell_type": "markdown",
   "metadata": {
    "nbpresent": {
     "id": "43dd3a53-43a9-4649-8082-4cd7fec217ab"
    },
    "slideshow": {
     "slide_type": "fragment"
    }
   },
   "source": [
    "This notebook should be launched from a session of jupyter notebook that was launched from a DB2 command window\n",
    "To do this, run an administrator DB2 command window as an administrator and type 'jupyter notebook'"
   ]
  },
  {
   "cell_type": "markdown",
   "metadata": {
    "nbpresent": {
     "id": "1bba32b6-b80a-4b4b-996f-cb9e50713343"
    },
    "slideshow": {
     "slide_type": "slide"
    }
   },
   "source": [
    "## Jupyter Notebook"
   ]
  },
  {
   "cell_type": "markdown",
   "metadata": {
    "nbpresent": {
     "id": "3d3036b2-9850-4506-8e41-60d40c788d18"
    },
    "slideshow": {
     "slide_type": "slide"
    }
   },
   "source": [
    "### What is Jupyter Notebook?\n",
    "- Open-source web application that allows you to create and share documents that contain live code, equations, visualizations, and explanatory text.\n",
    "- Heavily used in Data Science\n",
    "- Supports a large number of programming languages, including SQL\n",
    "- Requires Python\n",
    "- Easiest to install by [installing Anaconda](https://www.continuum.io/downloads)"
   ]
  },
  {
   "cell_type": "markdown",
   "metadata": {
    "nbpresent": {
     "id": "ebd7d540-a6fa-4c84-b2af-2490266d9b3e"
    },
    "slideshow": {
     "slide_type": "slide"
    }
   },
   "source": [
    "### Jupyter Notebook Terms\n",
    "- **Application**\n",
    "    - Server-client application that allows editing and running notebook document via web browser\n",
    "    - Can run on a local laptop/desktop or a remote server\n",
    "- **Kernel**\n",
    "    - Computational engine that execute the code contained in the notebook\n",
    "    - ipython kernel executes python – kernels for other languages exist\n",
    "    - Each running notebook has a different instnace of a Kernel\n",
    "- **Notebook Dashboard**\n",
    "    - Shown in browser when you launch Jupyter Notebook\n",
    "    - Features similar to a file manager\n",
    "    - Used to open notebooks and manage the running kernels"
   ]
  },
  {
   "cell_type": "markdown",
   "metadata": {
    "slideshow": {
     "slide_type": "slide"
    }
   },
   "source": [
    "### More Jupyter Notebook Terms\n",
    "- **Notebook document or notebooks**\n",
    "    - Produced by the Jupyter Notebook App\n",
    "    - Contains both computer code and rich text elements\n",
    "- **Cell**\n",
    "    - Portion of a notebook that is either markdown-formatted text or code\n",
    "    - Each cell can be independently executed in any order, but convention dictates they be executed in order\n",
    "- **Magic**\n",
    "    - Called with a command line style syntax\n",
    "    - Magic Functions work at the cell or line level"
   ]
  },
  {
   "cell_type": "markdown",
   "metadata": {
    "nbpresent": {
     "id": "0b310267-394a-49dc-8174-0a3abfbd0aa9"
    },
    "slideshow": {
     "slide_type": "slide"
    }
   },
   "source": [
    "### Installing Jupyter Notebook on Windows\n",
    "- [Download Anaconda](https://www.continuum.io/downloads)\n",
    "- Install Anaconda, accepting the defaults\n",
    "- Install at least a DB2 Client\n",
    "- Download and install [visual studio tools](http://landinghub.visualstudio.com/visual-cpp-build-tools)\n",
    "\n",
    "- Jupyter Notebook is likely to be installed on a DB2 client such as your laptop or a jump server"
   ]
  },
  {
   "cell_type": "markdown",
   "metadata": {
    "slideshow": {
     "slide_type": "slide"
    }
   },
   "source": [
    "### Launching Jupyter Notebook on Windows\n",
    "- Launch Jupyter Notebook from a DB2 Command Window PowerShell window with the Db2 environment variables set\n",
    "- Cd to directory where Jupyter Notebooks are stored, first\n",
    "![screenshot](files/LaunchJupyterNotebook.jpg)"
   ]
  },
  {
   "cell_type": "markdown",
   "metadata": {},
   "source": [
    "### Jupyter Notebook Basics\n",
    "[Basics of Jupyter Notebook](BasicsOfJupyterNotebook.ipynb)"
   ]
  },
  {
   "cell_type": "markdown",
   "metadata": {},
   "source": [
    "### Setting up Jupyter Notebook for use with SQL Magic"
   ]
  },
  {
   "cell_type": "markdown",
   "metadata": {},
   "source": [
    "#### Install Packages"
   ]
  },
  {
   "cell_type": "code",
   "execution_count": null,
   "metadata": {
    "collapsed": false,
    "slideshow": {
     "slide_type": "fragment"
    }
   },
   "outputs": [],
   "source": [
    "import sys,os,os.path\n",
    "os.environ['DB2INSTANCE']"
   ]
  },
  {
   "cell_type": "code",
   "execution_count": null,
   "metadata": {
    "collapsed": false,
    "nbpresent": {
     "id": "95241d45-433d-4496-8f39-d0f837d8b996"
    },
    "slideshow": {
     "slide_type": "fragment"
    }
   },
   "outputs": [],
   "source": [
    "## This cell only needs to be executed if these packages have not been previously installed\n",
    "#Uncomment the below line and set to the proper value if installing these for the first time\n",
    "#os.environ['IBM_DB_HOME']='C:\\Program Files\\IBM\\SQLLIB_01'\n",
    "!pip install ipython-sql\n",
    "!pip install ibm_db \n",
    "!pip install ibm_db_sa"
   ]
  },
  {
   "cell_type": "markdown",
   "metadata": {
    "nbpresent": {
     "id": "ab685115-6255-4892-9384-f0253ba1f721"
    },
    "slideshow": {
     "slide_type": "fragment"
    }
   },
   "source": [
    "Restart the Kernel if this is your first time installing the above. The next steps will fail unless you do this."
   ]
  },
  {
   "cell_type": "markdown",
   "metadata": {
    "nbpresent": {
     "id": "70182fca-ecdb-4715-8bb9-ac83896863f2"
    },
    "slideshow": {
     "slide_type": "fragment"
    }
   },
   "source": [
    "#### Import the modules and load SQL magic"
   ]
  },
  {
   "cell_type": "code",
   "execution_count": 1,
   "metadata": {
    "collapsed": false,
    "nbpresent": {
     "id": "260b111a-56b1-4fca-a537-87f9e6228f8a"
    },
    "slideshow": {
     "slide_type": "fragment"
    }
   },
   "outputs": [],
   "source": [
    "## This cell must be executed any time the Kernel is started or restarted\n",
    "import ibm_db\n",
    "import ibm_db_sa\n",
    "import sqlalchemy\n",
    "%load_ext sql"
   ]
  },
  {
   "cell_type": "markdown",
   "metadata": {
    "nbpresent": {
     "id": "63650235-818b-4e16-a2ca-3135c3eb289a"
    },
    "slideshow": {
     "slide_type": "fragment"
    }
   },
   "source": [
    "#### Connect to the database. \n",
    "- Change the values of user, host, and password to match your environment. \n",
    "- For connection to a local database, use 'localhost' for the host name. \n",
    "- Also change the port number and database name in the connection string.\n",
    "- Minimally, the password is stored in a separate file for easier sharing"
   ]
  },
  {
   "cell_type": "code",
   "execution_count": 2,
   "metadata": {
    "collapsed": false,
    "nbpresent": {
     "id": "3b5451a6-6da4-4599-92cf-6ab4827d0991"
    },
    "slideshow": {
     "slide_type": "fragment"
    }
   },
   "outputs": [
    {
     "data": {
      "text/plain": [
       "'Connected: db2admin@SAMPLE'"
      ]
     },
     "execution_count": 2,
     "metadata": {},
     "output_type": "execute_result"
    }
   ],
   "source": [
    "user='db2admin'\n",
    "host='localhost'\n",
    "# Define filename for passwords\n",
    "filename = 'ember_variables.py'\n",
    "# source the file\n",
    "%run $filename\n",
    "password = LocalDB2password\n",
    "\n",
    "%sql db2+ibm_db://$user:$password@$host:50000/SAMPLE"
   ]
  },
  {
   "cell_type": "markdown",
   "metadata": {},
   "source": [
    "Explicitly closing connections is not currently possible"
   ]
  },
  {
   "cell_type": "markdown",
   "metadata": {
    "slideshow": {
     "slide_type": "slide"
    }
   },
   "source": [
    "### Using SQL in Jupyter Notebook \n",
    "- SQL magic makes SQL quick and easy\n",
    "- DB2 commands can be executed when the notebook was launched from a command window, when prefixed with !\n",
    "- Limited options available in sql magic - full ibm_db offers more options using Python or the core language of your choice"
   ]
  },
  {
   "cell_type": "markdown",
   "metadata": {},
   "source": [
    "### Jupyter Notebook and SQL Magic Topics\n",
    "- How does commit processing work by default and how can you change it?\n",
    "- Using SQL magic for whole cell vs. line by line\n",
    "- Displaying data in interesting ways\n",
    "- Using host variables/parameter markers\n",
    "- Explains"
   ]
  },
  {
   "cell_type": "markdown",
   "metadata": {
    "slideshow": {
     "slide_type": "fragment"
    }
   },
   "source": [
    "### Jupyter Notebook and Commit Processing\n",
    "- Autocommit is on\n",
    "- More advanced controls available through traditonal python syntax for the ibm_db driver"
   ]
  },
  {
   "cell_type": "code",
   "execution_count": 3,
   "metadata": {
    "collapsed": false,
    "slideshow": {
     "slide_type": "fragment"
    }
   },
   "outputs": [
    {
     "name": "stdout",
     "output_type": "stream",
     "text": [
      "Done.\n",
      "Done.\n"
     ]
    },
    {
     "data": {
      "text/plain": [
       "[]"
      ]
     },
     "execution_count": 3,
     "metadata": {},
     "output_type": "execute_result"
    }
   ],
   "source": [
    "%sql drop table temp_sales\n",
    "%sql create table temp_sales like ember.sales"
   ]
  },
  {
   "cell_type": "code",
   "execution_count": 4,
   "metadata": {
    "collapsed": false,
    "slideshow": {
     "slide_type": "fragment"
    }
   },
   "outputs": [
    {
     "name": "stdout",
     "output_type": "stream",
     "text": [
      "41 rows affected.\n"
     ]
    },
    {
     "data": {
      "text/plain": [
       "[]"
      ]
     },
     "execution_count": 4,
     "metadata": {},
     "output_type": "execute_result"
    }
   ],
   "source": [
    "%sql insert into temp_sales select * from ember.sales"
   ]
  },
  {
   "cell_type": "code",
   "execution_count": 5,
   "metadata": {
    "collapsed": false,
    "slideshow": {
     "slide_type": "fragment"
    }
   },
   "outputs": [
    {
     "name": "stdout",
     "output_type": "stream",
     "text": [
      "Done.\n"
     ]
    },
    {
     "data": {
      "text/html": [
       "<table>\n",
       "    <tr>\n",
       "        <th>1</th>\n",
       "    </tr>\n",
       "    <tr>\n",
       "        <td>41</td>\n",
       "    </tr>\n",
       "</table>"
      ],
      "text/plain": [
       "[(41,)]"
      ]
     },
     "execution_count": 5,
     "metadata": {},
     "output_type": "execute_result"
    }
   ],
   "source": [
    "%sql select count(*) from temp_sales"
   ]
  },
  {
   "cell_type": "code",
   "execution_count": 6,
   "metadata": {
    "collapsed": false,
    "slideshow": {
     "slide_type": "fragment"
    }
   },
   "outputs": [
    {
     "name": "stdout",
     "output_type": "stream",
     "text": [
      "41 rows affected.\n",
      "Done.\n",
      "Done.\n"
     ]
    },
    {
     "data": {
      "text/html": [
       "<table>\n",
       "    <tr>\n",
       "        <th>1</th>\n",
       "    </tr>\n",
       "    <tr>\n",
       "        <td>82</td>\n",
       "    </tr>\n",
       "</table>"
      ],
      "text/plain": [
       "[(82,)]"
      ]
     },
     "execution_count": 6,
     "metadata": {},
     "output_type": "execute_result"
    }
   ],
   "source": [
    "%sql insert into temp_sales select * from ember.sales\n",
    "%sql rollback\n",
    "%sql select count(*) from temp_sales"
   ]
  },
  {
   "cell_type": "markdown",
   "metadata": {
    "slideshow": {
     "slide_type": "fragment"
    }
   },
   "source": [
    "### Using SQL Magic at the Cell Level vs. the Line Level\n",
    "- Line Level\n",
    "    - Each line is prefixed with %\n",
    "    - If a command fails, subsequent lines are still executed\n",
    "- Cell Level\n",
    "    - Using SQL Magic at the cell level involves starting a Cell with %%sql\n",
    "    - All lines in the cell are then interpreted as SQL\n",
    "    - If a command fails, subsequent lines are not executed"
   ]
  },
  {
   "cell_type": "code",
   "execution_count": 7,
   "metadata": {
    "collapsed": false,
    "slideshow": {
     "slide_type": "fragment"
    }
   },
   "outputs": [
    {
     "name": "stdout",
     "output_type": "stream",
     "text": [
      "Done.\n",
      "(ibm_db_dbi.ProgrammingError) ibm_db_dbi::ProgrammingError: SQLNumResultCols failed: [IBM][CLI Driver][DB2/NT64] SQL0204N  \"DB2ADMIN.DUAL\" is an undefined name.  SQLSTATE=42704\\r SQLCODE=-204 [SQL: 'select * from dual;']\n"
     ]
    }
   ],
   "source": [
    "%%sql\n",
    "--sql magic at the cell level\n",
    "select * from syscat.tables;\n",
    "select * from dual;\n",
    "select * from syscat.bufferpools;"
   ]
  },
  {
   "cell_type": "code",
   "execution_count": 8,
   "metadata": {
    "collapsed": false,
    "slideshow": {
     "slide_type": "fragment"
    }
   },
   "outputs": [
    {
     "name": "stdout",
     "output_type": "stream",
     "text": [
      "Done.\n",
      "(ibm_db_dbi.ProgrammingError) ibm_db_dbi::ProgrammingError: SQLNumResultCols failed: [IBM][CLI Driver][DB2/NT64] SQL0204N  \"DB2ADMIN.DUAL\" is an undefined name.  SQLSTATE=42704\\r SQLCODE=-204 [SQL: 'select * from dual;']\n",
      "Done.\n"
     ]
    },
    {
     "data": {
      "text/html": [
       "<table>\n",
       "    <tr>\n",
       "        <th>bpname</th>\n",
       "        <th>bufferpoolid</th>\n",
       "        <th>dbpgname</th>\n",
       "        <th>npages</th>\n",
       "        <th>PAGESIZE</th>\n",
       "        <th>estore</th>\n",
       "        <th>numblockpages</th>\n",
       "        <th>blocksize</th>\n",
       "        <th>ngname</th>\n",
       "    </tr>\n",
       "    <tr>\n",
       "        <td>IBMDEFAULTBP</td>\n",
       "        <td>1</td>\n",
       "        <td>None</td>\n",
       "        <td>250</td>\n",
       "        <td>8192</td>\n",
       "        <td>N</td>\n",
       "        <td>0</td>\n",
       "        <td>0</td>\n",
       "        <td>None</td>\n",
       "    </tr>\n",
       "</table>"
      ],
      "text/plain": [
       "[('IBMDEFAULTBP', 1, None, 250, 8192, 'N', 0, 0, None)]"
      ]
     },
     "execution_count": 8,
     "metadata": {},
     "output_type": "execute_result"
    }
   ],
   "source": [
    "#sql magic at the line level\n",
    "%sql select * from syscat.tables;\n",
    "%sql select * from dual;\n",
    "%sql select * from syscat.bufferpools;"
   ]
  },
  {
   "cell_type": "markdown",
   "metadata": {},
   "source": [
    "### Displaying Data in Interesting Ways"
   ]
  },
  {
   "cell_type": "code",
   "execution_count": 9,
   "metadata": {
    "collapsed": true
   },
   "outputs": [],
   "source": [
    "#Import stuff we need\n",
    "import matplotlib.pyplot as plt\n",
    "import matplotlib.dates as mdates\n",
    "import datetime as dt\n",
    "import numpy as np\n",
    "import pandas as pd\n",
    "\n",
    "# All plots should be inline, inside the notebook\n",
    "%matplotlib inline"
   ]
  },
  {
   "cell_type": "code",
   "execution_count": 10,
   "metadata": {
    "collapsed": false
   },
   "outputs": [
    {
     "name": "stdout",
     "output_type": "stream",
     "text": [
      "Done.\n"
     ]
    },
    {
     "data": {
      "text/plain": [
       "([<matplotlib.patches.Wedge at 0x20a8f68c7f0>,\n",
       "  <matplotlib.patches.Wedge at 0x20a8f6954a8>,\n",
       "  <matplotlib.patches.Wedge at 0x20a8f6a0128>,\n",
       "  <matplotlib.patches.Wedge at 0x20a8f6a0d68>,\n",
       "  <matplotlib.patches.Wedge at 0x20a8f6a59e8>,\n",
       "  <matplotlib.patches.Wedge at 0x20a8f6aa668>,\n",
       "  <matplotlib.patches.Wedge at 0x20a8f6b02e8>,\n",
       "  <matplotlib.patches.Wedge at 0x20a8f6b0f28>,\n",
       "  <matplotlib.patches.Wedge at 0x20a8f6b6ba8>,\n",
       "  <matplotlib.patches.Wedge at 0x20a8f6be828>,\n",
       "  <matplotlib.patches.Wedge at 0x20a8f6c34a8>,\n",
       "  <matplotlib.patches.Wedge at 0x20a8f6c7128>,\n",
       "  <matplotlib.patches.Wedge at 0x20a8f6c7d68>,\n",
       "  <matplotlib.patches.Wedge at 0x20a8f6cd9e8>,\n",
       "  <matplotlib.patches.Wedge at 0x20a8f6d4668>,\n",
       "  <matplotlib.patches.Wedge at 0x20a8f6da2e8>,\n",
       "  <matplotlib.patches.Wedge at 0x20a8f6daf28>,\n",
       "  <matplotlib.patches.Wedge at 0x20a8f6e0ba8>],\n",
       " [<matplotlib.text.Text at 0x20a8f68cf28>,\n",
       "  <matplotlib.text.Text at 0x20a8f695c88>,\n",
       "  <matplotlib.text.Text at 0x20a8f6a0908>,\n",
       "  <matplotlib.text.Text at 0x20a8f6a5588>,\n",
       "  <matplotlib.text.Text at 0x20a8f6aa208>,\n",
       "  <matplotlib.text.Text at 0x20a8f6aae48>,\n",
       "  <matplotlib.text.Text at 0x20a8f6b0ac8>,\n",
       "  <matplotlib.text.Text at 0x20a8f6b6748>,\n",
       "  <matplotlib.text.Text at 0x20a8f6be3c8>,\n",
       "  <matplotlib.text.Text at 0x20a8f6bef28>,\n",
       "  <matplotlib.text.Text at 0x20a8f6c3c88>,\n",
       "  <matplotlib.text.Text at 0x20a8f6c7908>,\n",
       "  <matplotlib.text.Text at 0x20a8f6cd588>,\n",
       "  <matplotlib.text.Text at 0x20a8f6d4208>,\n",
       "  <matplotlib.text.Text at 0x20a8f6d4e48>,\n",
       "  <matplotlib.text.Text at 0x20a8f6daac8>,\n",
       "  <matplotlib.text.Text at 0x20a8f6e0748>,\n",
       "  <matplotlib.text.Text at 0x20a8f6e63c8>])"
      ]
     },
     "execution_count": 10,
     "metadata": {},
     "output_type": "execute_result"
    },
    {
     "data": {
      "image/png": "[encoded data removed]",
      "text/plain": [
       "<matplotlib.figure.Figure at 0x20a8dba2128>"
      ]
     },
     "metadata": {},
     "output_type": "display_data"
    }
   ],
   "source": [
    "result= %sql select typename \\\n",
    "    , count(*) as count \\\n",
    "from syscat.columns \\\n",
    "group by typename \\\n",
    "order by count desc\n",
    "\n",
    "result.pie()"
   ]
  },
  {
   "cell_type": "code",
   "execution_count": 11,
   "metadata": {
    "collapsed": false
   },
   "outputs": [
    {
     "name": "stdout",
     "output_type": "stream",
     "text": [
      "Done.\n"
     ]
    },
    {
     "data": {
      "text/html": [
       "<table>\n",
       "    <tr>\n",
       "        <th>rows_read</th>\n",
       "        <th>pct_tot_rr</th>\n",
       "        <th>total_cpu_time</th>\n",
       "        <th>pct_tot_cpu</th>\n",
       "        <th>stmt_exec_time</th>\n",
       "        <th>pct_tot_exec</th>\n",
       "        <th>total_section_sort_time</th>\n",
       "        <th>pct_tot_srt</th>\n",
       "        <th>num_executions</th>\n",
       "        <th>pct_tot_exec_1</th>\n",
       "        <th>avg_exec_time</th>\n",
       "        <th>STATEMENT</th>\n",
       "    </tr>\n",
       "    <tr>\n",
       "        <td>711</td>\n",
       "        <td>99.16</td>\n",
       "        <td>0</td>\n",
       "        <td>0.00</td>\n",
       "        <td>24</td>\n",
       "        <td>53.33</td>\n",
       "        <td>0</td>\n",
       "        <td>0.00</td>\n",
       "        <td>1</td>\n",
       "        <td>5.55</td>\n",
       "        <td>24.00</td>\n",
       "        <td>select * from syscat.tables</td>\n",
       "    </tr>\n",
       "    <tr>\n",
       "        <td>3</td>\n",
       "        <td>0.41</td>\n",
       "        <td>0</td>\n",
       "        <td>0.00</td>\n",
       "        <td>2</td>\n",
       "        <td>4.44</td>\n",
       "        <td>0</td>\n",
       "        <td>0.00</td>\n",
       "        <td>3</td>\n",
       "        <td>16.66</td>\n",
       "        <td>0.66</td>\n",
       "        <td>SELECT POLICY FROM SYSTOOLS.POLICY WHERE MED=&#x27;DB2CommonMED&#x27; AND DECISION=&#x27;NOP&#x27; AND NAME=&#x27;CommonPolicy&#x27;</td>\n",
       "    </tr>\n",
       "    <tr>\n",
       "        <td>0</td>\n",
       "        <td>0.00</td>\n",
       "        <td>31250</td>\n",
       "        <td>100.00</td>\n",
       "        <td>18</td>\n",
       "        <td>40.00</td>\n",
       "        <td>2</td>\n",
       "        <td>100.00</td>\n",
       "        <td>1</td>\n",
       "        <td>5.55</td>\n",
       "        <td>18.00</td>\n",
       "        <td>select typename     , count(*) as count from syscat.columns group by typename order by count desc</td>\n",
       "    </tr>\n",
       "    <tr>\n",
       "        <td>0</td>\n",
       "        <td>0.00</td>\n",
       "        <td>0</td>\n",
       "        <td>0.00</td>\n",
       "        <td>0</td>\n",
       "        <td>0.00</td>\n",
       "        <td>0</td>\n",
       "        <td>0.00</td>\n",
       "        <td>9</td>\n",
       "        <td>50.00</td>\n",
       "        <td>0.00</td>\n",
       "        <td>SET CURRENT LOCK TIMEOUT 5</td>\n",
       "    </tr>\n",
       "</table>"
      ],
      "text/plain": [
       "[(711, Decimal('99.16'), 0, Decimal('0.00'), 24, Decimal('53.33'), 0, Decimal('0.00'), 1, Decimal('5.55'), Decimal('24.00'), 'select * from syscat.tables'),\n",
       " (3, Decimal('0.41'), 0, Decimal('0.00'), 2, Decimal('4.44'), 0, Decimal('0.00'), 3, Decimal('16.66'), Decimal('0.66'), \"SELECT POLICY FROM SYSTOOLS.POLICY WHERE MED='DB2CommonMED' AND DECISION='NOP' AND NAME='CommonPolicy'\"),\n",
       " (0, Decimal('0.00'), 31250, Decimal('100.00'), 18, Decimal('40.00'), 2, Decimal('100.00'), 1, Decimal('5.55'), Decimal('18.00'), 'select typename     , count(*) as count from syscat.columns group by typename order by count desc'),\n",
       " (0, Decimal('0.00'), 0, Decimal('0.00'), 0, Decimal('0.00'), 0, Decimal('0.00'), 9, Decimal('50.00'), Decimal('0.00'), 'SET CURRENT LOCK TIMEOUT 5')]"
      ]
     },
     "execution_count": 11,
     "metadata": {},
     "output_type": "execute_result"
    }
   ],
   "source": [
    "%sql WITH SUM_TAB (SUM_RR, SUM_CPU, SUM_EXEC, SUM_SORT, SUM_NUM_EXEC) AS ( \\\n",
    "        SELECT  nullif(FLOAT(SUM(ROWS_READ)),0), \\\n",
    "                nullif(FLOAT(SUM(TOTAL_CPU_TIME)),0), \\\n",
    "                nullif(FLOAT(SUM(STMT_EXEC_TIME)),0), \\\n",
    "                nullif(FLOAT(SUM(TOTAL_SECTION_SORT_TIME)),0), \\\n",
    "                nullif(FLOAT(SUM(NUM_EXECUTIONS)),0) \\\n",
    "            FROM TABLE(MON_GET_PKG_CACHE_STMT ( 'D', NULL, NULL, -2)) AS T \\\n",
    "        ) \\\n",
    "SELECT \\\n",
    "        ROWS_READ, \\\n",
    "        DECIMAL(100*(FLOAT(ROWS_READ)/SUM_TAB.SUM_RR),5,2) AS PCT_TOT_RR, \\\n",
    "        TOTAL_CPU_TIME, \\\n",
    "        DECIMAL(100*(FLOAT(TOTAL_CPU_TIME)/SUM_TAB.SUM_CPU),5,2) AS PCT_TOT_CPU, \\\n",
    "        STMT_EXEC_TIME, \\\n",
    "        DECIMAL(100*(FLOAT(STMT_EXEC_TIME)/SUM_TAB.SUM_EXEC),5,2) AS PCT_TOT_EXEC, \\\n",
    "        TOTAL_SECTION_SORT_TIME, \\\n",
    "        DECIMAL(100*(FLOAT(TOTAL_SECTION_SORT_TIME)/SUM_TAB.SUM_SORT),5,2) AS PCT_TOT_SRT, \\\n",
    "        NUM_EXECUTIONS, \\\n",
    "        DECIMAL(100*(FLOAT(NUM_EXECUTIONS)/SUM_TAB.SUM_NUM_EXEC),5,2) AS PCT_TOT_EXEC, \\\n",
    "        DECIMAL(FLOAT(STMT_EXEC_TIME)/FLOAT(NUM_EXECUTIONS),10,2) AS AVG_EXEC_TIME, \\\n",
    "        RTRIM(STMT_TEXT) as STATEMENT \\\n",
    "    FROM TABLE(MON_GET_PKG_CACHE_STMT ( 'D', NULL, NULL, -2)) AS T, SUM_TAB \\\n",
    "    WHERE DECIMAL(100*(FLOAT(ROWS_READ)/SUM_TAB.SUM_RR),5,2) > 10 \\\n",
    "        OR DECIMAL(100*(FLOAT(TOTAL_CPU_TIME)/SUM_TAB.SUM_CPU),5,2) >10 \\\n",
    "        OR DECIMAL(100*(FLOAT(STMT_EXEC_TIME)/SUM_TAB.SUM_EXEC),5,2) >10 \\\n",
    "        OR DECIMAL(100*(FLOAT(TOTAL_SECTION_SORT_TIME)/SUM_TAB.SUM_SORT),5,2) >10 \\\n",
    "        OR DECIMAL(100*(FLOAT(NUM_EXECUTIONS)/SUM_TAB.SUM_NUM_EXEC),5,2) >10 \\\n",
    "    ORDER BY ROWS_READ DESC FETCH FIRST 20 ROWS ONLY WITH UR"
   ]
  },
  {
   "cell_type": "code",
   "execution_count": 12,
   "metadata": {
    "collapsed": false
   },
   "outputs": [
    {
     "name": "stdout",
     "output_type": "stream",
     "text": [
      "Done.\n"
     ]
    },
    {
     "data": {
      "text/html": [
       "<div>\n",
       "<table border=\"1\" class=\"dataframe\">\n",
       "  <thead>\n",
       "    <tr style=\"text-align: right;\">\n",
       "      <th></th>\n",
       "      <th>rows_read</th>\n",
       "      <th>total_cpu_time</th>\n",
       "      <th>stmt_exec_time</th>\n",
       "      <th>total_section_sort_time</th>\n",
       "      <th>num_executions</th>\n",
       "    </tr>\n",
       "  </thead>\n",
       "  <tbody>\n",
       "    <tr>\n",
       "      <th>count</th>\n",
       "      <td>4.000000</td>\n",
       "      <td>4.000000</td>\n",
       "      <td>4.000000</td>\n",
       "      <td>4.0</td>\n",
       "      <td>4.0</td>\n",
       "    </tr>\n",
       "    <tr>\n",
       "      <th>mean</th>\n",
       "      <td>178.000000</td>\n",
       "      <td>11718.750000</td>\n",
       "      <td>13.500000</td>\n",
       "      <td>0.5</td>\n",
       "      <td>1.0</td>\n",
       "    </tr>\n",
       "    <tr>\n",
       "      <th>std</th>\n",
       "      <td>355.333646</td>\n",
       "      <td>14959.798559</td>\n",
       "      <td>10.246951</td>\n",
       "      <td>1.0</td>\n",
       "      <td>0.0</td>\n",
       "    </tr>\n",
       "    <tr>\n",
       "      <th>min</th>\n",
       "      <td>0.000000</td>\n",
       "      <td>0.000000</td>\n",
       "      <td>0.000000</td>\n",
       "      <td>0.0</td>\n",
       "      <td>1.0</td>\n",
       "    </tr>\n",
       "    <tr>\n",
       "      <th>25%</th>\n",
       "      <td>0.000000</td>\n",
       "      <td>0.000000</td>\n",
       "      <td>9.000000</td>\n",
       "      <td>0.0</td>\n",
       "      <td>1.0</td>\n",
       "    </tr>\n",
       "    <tr>\n",
       "      <th>50%</th>\n",
       "      <td>0.500000</td>\n",
       "      <td>7812.500000</td>\n",
       "      <td>15.000000</td>\n",
       "      <td>0.0</td>\n",
       "      <td>1.0</td>\n",
       "    </tr>\n",
       "    <tr>\n",
       "      <th>75%</th>\n",
       "      <td>178.500000</td>\n",
       "      <td>19531.250000</td>\n",
       "      <td>19.500000</td>\n",
       "      <td>0.5</td>\n",
       "      <td>1.0</td>\n",
       "    </tr>\n",
       "    <tr>\n",
       "      <th>max</th>\n",
       "      <td>711.000000</td>\n",
       "      <td>31250.000000</td>\n",
       "      <td>24.000000</td>\n",
       "      <td>2.0</td>\n",
       "      <td>1.0</td>\n",
       "    </tr>\n",
       "  </tbody>\n",
       "</table>\n",
       "</div>"
      ],
      "text/plain": [
       "        rows_read  total_cpu_time  stmt_exec_time  total_section_sort_time  \\\n",
       "count    4.000000        4.000000        4.000000                      4.0   \n",
       "mean   178.000000    11718.750000       13.500000                      0.5   \n",
       "std    355.333646    14959.798559       10.246951                      1.0   \n",
       "min      0.000000        0.000000        0.000000                      0.0   \n",
       "25%      0.000000        0.000000        9.000000                      0.0   \n",
       "50%      0.500000     7812.500000       15.000000                      0.0   \n",
       "75%    178.500000    19531.250000       19.500000                      0.5   \n",
       "max    711.000000    31250.000000       24.000000                      2.0   \n",
       "\n",
       "       num_executions  \n",
       "count             4.0  \n",
       "mean              1.0  \n",
       "std               0.0  \n",
       "min               1.0  \n",
       "25%               1.0  \n",
       "50%               1.0  \n",
       "75%               1.0  \n",
       "max               1.0  "
      ]
     },
     "execution_count": 12,
     "metadata": {},
     "output_type": "execute_result"
    }
   ],
   "source": [
    "result= %sql WITH SUM_TAB (SUM_RR, SUM_CPU, SUM_EXEC, SUM_SORT, SUM_NUM_EXEC) AS ( \\\n",
    "        SELECT  nullif(FLOAT(SUM(ROWS_READ)),0), \\\n",
    "                nullif(FLOAT(SUM(TOTAL_CPU_TIME)),0), \\\n",
    "                nullif(FLOAT(SUM(STMT_EXEC_TIME)),0), \\\n",
    "                nullif(FLOAT(SUM(TOTAL_SECTION_SORT_TIME)),0), \\\n",
    "                nullif(FLOAT(SUM(NUM_EXECUTIONS)),0) \\\n",
    "            FROM TABLE(MON_GET_PKG_CACHE_STMT ( 'D', NULL, NULL, -2)) AS T \\\n",
    "        ) \\\n",
    "SELECT substr(stmt_text,1,25) as STATEMENT, \\\n",
    "        ROWS_READ, \\\n",
    "        coalesce(DECIMAL(100*(FLOAT(ROWS_READ)/SUM_TAB.SUM_RR),5,2),0) AS PCT_TOT_RR, \\\n",
    "        TOTAL_CPU_TIME, \\\n",
    "        coalesce(DECIMAL(100*(FLOAT(TOTAL_CPU_TIME)/SUM_TAB.SUM_CPU),5,2),0) AS PCT_TOT_CPU, \\\n",
    "        STMT_EXEC_TIME, \\\n",
    "        coalesce(DECIMAL(100*(FLOAT(STMT_EXEC_TIME)/SUM_TAB.SUM_EXEC),5,2),0) AS PCT_TOT_EXEC, \\\n",
    "        TOTAL_SECTION_SORT_TIME, \\\n",
    "        coalesce(DECIMAL(100*(FLOAT(TOTAL_SECTION_SORT_TIME)/SUM_TAB.SUM_SORT),5,2),0) AS PCT_TOT_SRT, \\\n",
    "        NUM_EXECUTIONS, \\\n",
    "        coalesce(DECIMAL(100*(FLOAT(NUM_EXECUTIONS)/SUM_TAB.SUM_NUM_EXEC),5,2),0) AS PCT_TOT_EXECS, \\\n",
    "        DECIMAL(FLOAT(STMT_EXEC_TIME)/FLOAT(NUM_EXECUTIONS),10,2) AS AVG_EXEC_TIME, \\\n",
    "        RTRIM(STMT_TEXT) as FULL_STATEMENT \\\n",
    "    FROM TABLE(MON_GET_PKG_CACHE_STMT ( 'D', NULL, NULL, -2)) AS T, SUM_TAB \\\n",
    "    WHERE DECIMAL(100*(FLOAT(ROWS_READ)/SUM_TAB.SUM_RR),5,2) > 10 \\\n",
    "        OR DECIMAL(100*(FLOAT(TOTAL_CPU_TIME)/SUM_TAB.SUM_CPU),5,2) >10 \\\n",
    "        OR DECIMAL(100*(FLOAT(STMT_EXEC_TIME)/SUM_TAB.SUM_EXEC),5,2) >10 \\\n",
    "        OR DECIMAL(100*(FLOAT(TOTAL_SECTION_SORT_TIME)/SUM_TAB.SUM_SORT),5,2) >10 \\\n",
    "        OR DECIMAL(100*(FLOAT(NUM_EXECUTIONS)/SUM_TAB.SUM_NUM_EXEC),5,2) >10 \\\n",
    "    ORDER BY ROWS_READ DESC FETCH FIRST 20 ROWS ONLY WITH UR\n",
    "%matplotlib inline\n",
    "df=result.DataFrame()\n",
    "df.describe()"
   ]
  },
  {
   "cell_type": "markdown",
   "metadata": {},
   "source": [
    "Show number of rows and number of columns of the output"
   ]
  },
  {
   "cell_type": "code",
   "execution_count": 13,
   "metadata": {
    "collapsed": false
   },
   "outputs": [
    {
     "data": {
      "text/plain": [
       "(4, 13)"
      ]
     },
     "execution_count": 13,
     "metadata": {},
     "output_type": "execute_result"
    }
   ],
   "source": [
    "df.shape"
   ]
  },
  {
   "cell_type": "markdown",
   "metadata": {},
   "source": [
    "Show the names of all columns, in a comma separated list"
   ]
  },
  {
   "cell_type": "code",
   "execution_count": 14,
   "metadata": {
    "collapsed": false
   },
   "outputs": [
    {
     "data": {
      "text/plain": [
       "Index(['STATEMENT', 'rows_read', 'pct_tot_rr', 'total_cpu_time', 'pct_tot_cpu',\n",
       "       'stmt_exec_time', 'pct_tot_exec', 'total_section_sort_time',\n",
       "       'pct_tot_srt', 'num_executions', 'pct_tot_execs', 'avg_exec_time',\n",
       "       'full_statement'],\n",
       "      dtype='object')"
      ]
     },
     "execution_count": 14,
     "metadata": {},
     "output_type": "execute_result"
    }
   ],
   "source": [
    "df.columns"
   ]
  },
  {
   "cell_type": "markdown",
   "metadata": {},
   "source": [
    "Sort the output by a different column"
   ]
  },
  {
   "cell_type": "code",
   "execution_count": 15,
   "metadata": {
    "collapsed": false
   },
   "outputs": [
    {
     "data": {
      "text/html": [
       "<div>\n",
       "<table border=\"1\" class=\"dataframe\">\n",
       "  <thead>\n",
       "    <tr style=\"text-align: right;\">\n",
       "      <th></th>\n",
       "      <th>STATEMENT</th>\n",
       "      <th>rows_read</th>\n",
       "      <th>pct_tot_rr</th>\n",
       "      <th>total_cpu_time</th>\n",
       "      <th>pct_tot_cpu</th>\n",
       "      <th>stmt_exec_time</th>\n",
       "      <th>pct_tot_exec</th>\n",
       "      <th>total_section_sort_time</th>\n",
       "      <th>pct_tot_srt</th>\n",
       "      <th>num_executions</th>\n",
       "      <th>pct_tot_execs</th>\n",
       "      <th>avg_exec_time</th>\n",
       "      <th>full_statement</th>\n",
       "    </tr>\n",
       "  </thead>\n",
       "  <tbody>\n",
       "    <tr>\n",
       "      <th>0</th>\n",
       "      <td>select * from syscat.tabl</td>\n",
       "      <td>711</td>\n",
       "      <td>99.85</td>\n",
       "      <td>0</td>\n",
       "      <td>0.00</td>\n",
       "      <td>24</td>\n",
       "      <td>44.44</td>\n",
       "      <td>0</td>\n",
       "      <td>0.00</td>\n",
       "      <td>1</td>\n",
       "      <td>25.00</td>\n",
       "      <td>24.00</td>\n",
       "      <td>select * from syscat.tables</td>\n",
       "    </tr>\n",
       "    <tr>\n",
       "      <th>3</th>\n",
       "      <td>select typename     , cou</td>\n",
       "      <td>0</td>\n",
       "      <td>0.00</td>\n",
       "      <td>31250</td>\n",
       "      <td>66.66</td>\n",
       "      <td>18</td>\n",
       "      <td>33.33</td>\n",
       "      <td>2</td>\n",
       "      <td>100.00</td>\n",
       "      <td>1</td>\n",
       "      <td>25.00</td>\n",
       "      <td>18.00</td>\n",
       "      <td>select typename     , count(*) as count from s...</td>\n",
       "    </tr>\n",
       "    <tr>\n",
       "      <th>2</th>\n",
       "      <td>WITH SUM_TAB (SUM_RR, SUM</td>\n",
       "      <td>0</td>\n",
       "      <td>0.00</td>\n",
       "      <td>15625</td>\n",
       "      <td>33.33</td>\n",
       "      <td>12</td>\n",
       "      <td>22.22</td>\n",
       "      <td>0</td>\n",
       "      <td>0.00</td>\n",
       "      <td>1</td>\n",
       "      <td>25.00</td>\n",
       "      <td>12.00</td>\n",
       "      <td>WITH SUM_TAB (SUM_RR, SUM_CPU, SUM_EXEC, SUM_S...</td>\n",
       "    </tr>\n",
       "    <tr>\n",
       "      <th>1</th>\n",
       "      <td>select * from syscat.buff</td>\n",
       "      <td>1</td>\n",
       "      <td>0.14</td>\n",
       "      <td>0</td>\n",
       "      <td>0.00</td>\n",
       "      <td>0</td>\n",
       "      <td>0.00</td>\n",
       "      <td>0</td>\n",
       "      <td>0.00</td>\n",
       "      <td>1</td>\n",
       "      <td>25.00</td>\n",
       "      <td>0.00</td>\n",
       "      <td>select * from syscat.bufferpools</td>\n",
       "    </tr>\n",
       "  </tbody>\n",
       "</table>\n",
       "</div>"
      ],
      "text/plain": [
       "                   STATEMENT  rows_read pct_tot_rr  total_cpu_time  \\\n",
       "0  select * from syscat.tabl        711      99.85               0   \n",
       "3  select typename     , cou          0       0.00           31250   \n",
       "2  WITH SUM_TAB (SUM_RR, SUM          0       0.00           15625   \n",
       "1  select * from syscat.buff          1       0.14               0   \n",
       "\n",
       "  pct_tot_cpu  stmt_exec_time pct_tot_exec  total_section_sort_time  \\\n",
       "0        0.00              24        44.44                        0   \n",
       "3       66.66              18        33.33                        2   \n",
       "2       33.33              12        22.22                        0   \n",
       "1        0.00               0         0.00                        0   \n",
       "\n",
       "  pct_tot_srt  num_executions pct_tot_execs avg_exec_time  \\\n",
       "0        0.00               1         25.00         24.00   \n",
       "3      100.00               1         25.00         18.00   \n",
       "2        0.00               1         25.00         12.00   \n",
       "1        0.00               1         25.00          0.00   \n",
       "\n",
       "                                      full_statement  \n",
       "0                        select * from syscat.tables  \n",
       "3  select typename     , count(*) as count from s...  \n",
       "2  WITH SUM_TAB (SUM_RR, SUM_CPU, SUM_EXEC, SUM_S...  \n",
       "1                   select * from syscat.bufferpools  "
      ]
     },
     "execution_count": 15,
     "metadata": {},
     "output_type": "execute_result"
    }
   ],
   "source": [
    "# sort output by a different column\n",
    "df.sort_values(by=['stmt_exec_time'], ascending=False)"
   ]
  },
  {
   "cell_type": "markdown",
   "metadata": {},
   "source": [
    "Some data types may not be what is expected"
   ]
  },
  {
   "cell_type": "code",
   "execution_count": 16,
   "metadata": {
    "collapsed": false
   },
   "outputs": [
    {
     "data": {
      "text/plain": [
       "STATEMENT                  object\n",
       "rows_read                   int64\n",
       "pct_tot_rr                 object\n",
       "total_cpu_time              int64\n",
       "pct_tot_cpu                object\n",
       "stmt_exec_time              int64\n",
       "pct_tot_exec               object\n",
       "total_section_sort_time     int64\n",
       "pct_tot_srt                object\n",
       "num_executions              int64\n",
       "pct_tot_execs              object\n",
       "avg_exec_time              object\n",
       "full_statement             object\n",
       "dtype: object"
      ]
     },
     "execution_count": 16,
     "metadata": {},
     "output_type": "execute_result"
    }
   ],
   "source": [
    "df.dtypes"
   ]
  },
  {
   "cell_type": "markdown",
   "metadata": {},
   "source": [
    "Convert incorrect columns to FLOAT"
   ]
  },
  {
   "cell_type": "code",
   "execution_count": 17,
   "metadata": {
    "collapsed": false
   },
   "outputs": [],
   "source": [
    "df[['pct_tot_rr']]=df[['pct_tot_rr']].astype(float)\n",
    "df[['pct_tot_cpu']]=df[['pct_tot_cpu']].astype(float)\n",
    "df[['pct_tot_exec']]=df[['pct_tot_exec']].astype(float)\n",
    "df[['pct_tot_srt']]=df[['pct_tot_srt']].astype(float)\n",
    "df[['pct_tot_execs']]=df[['pct_tot_execs']].astype(float)\n",
    "df[['avg_exec_time']]=df[['avg_exec_time']].astype(float)"
   ]
  },
  {
   "cell_type": "markdown",
   "metadata": {},
   "source": [
    "Verify the data type conversion worked"
   ]
  },
  {
   "cell_type": "code",
   "execution_count": 18,
   "metadata": {
    "collapsed": false
   },
   "outputs": [
    {
     "data": {
      "text/plain": [
       "STATEMENT                   object\n",
       "rows_read                    int64\n",
       "pct_tot_rr                 float64\n",
       "total_cpu_time               int64\n",
       "pct_tot_cpu                float64\n",
       "stmt_exec_time               int64\n",
       "pct_tot_exec               float64\n",
       "total_section_sort_time      int64\n",
       "pct_tot_srt                float64\n",
       "num_executions               int64\n",
       "pct_tot_execs              float64\n",
       "avg_exec_time              float64\n",
       "full_statement              object\n",
       "dtype: object"
      ]
     },
     "execution_count": 18,
     "metadata": {},
     "output_type": "execute_result"
    }
   ],
   "source": [
    "df.dtypes"
   ]
  },
  {
   "cell_type": "markdown",
   "metadata": {},
   "source": [
    "Plot the data on multiple dimensions"
   ]
  },
  {
   "cell_type": "code",
   "execution_count": 19,
   "metadata": {
    "collapsed": false
   },
   "outputs": [
    {
     "data": {
      "text/plain": [
       "<function matplotlib.pyplot.show>"
      ]
     },
     "execution_count": 19,
     "metadata": {},
     "output_type": "execute_result"
    },
    {
     "data": {
      "image/png": "[encoded data removed]",
      "text/plain": [
       "<matplotlib.figure.Figure at 0x20a8f711048>"
      ]
     },
     "metadata": {},
     "output_type": "display_data"
    }
   ],
   "source": [
    "df.plot(x='STATEMENT', y=['pct_tot_rr','pct_tot_cpu','pct_tot_exec','pct_tot_srt'], kind='barh')\n",
    "plt.show"
   ]
  },
  {
   "cell_type": "code",
   "execution_count": 20,
   "metadata": {
    "collapsed": false
   },
   "outputs": [
    {
     "data": {
      "text/html": [
       "<div>\n",
       "<table border=\"1\" class=\"dataframe\">\n",
       "  <thead>\n",
       "    <tr style=\"text-align: right;\">\n",
       "      <th></th>\n",
       "      <th>full_statement</th>\n",
       "    </tr>\n",
       "  </thead>\n",
       "  <tbody>\n",
       "    <tr>\n",
       "      <th>0</th>\n",
       "      <td>select * from syscat.tables</td>\n",
       "    </tr>\n",
       "    <tr>\n",
       "      <th>1</th>\n",
       "      <td>select * from syscat.bufferpools</td>\n",
       "    </tr>\n",
       "    <tr>\n",
       "      <th>2</th>\n",
       "      <td>WITH SUM_TAB (SUM_RR, SUM_CPU, SUM_EXEC, SUM_SORT, SUM_NUM_EXEC) AS (         SELECT  nullif(FLOAT(SUM(ROWS_READ)),0),                 nullif(FLOAT(SUM(TOTAL_CPU_TIME)),0),                 nullif(FLOAT(SUM(STMT_EXEC_TIME)),0),                 nullif(FLOAT(SUM(TOTAL_SECTION_SORT_TIME)),0),                 nullif(FLOAT(SUM(NUM_EXECUTIONS)),0)             FROM TABLE(MON_GET_PKG_CACHE_STMT ( 'D', NULL, NULL, -2)) AS T         ) SELECT         ROWS_READ,         DECIMAL(100*(FLOAT(ROWS_READ)/SUM_TAB.SUM_RR),5,2) AS PCT_TOT_RR,         TOTAL_CPU_TIME,         DECIMAL(100*(FLOAT(TOTAL_CPU_TIME)/SUM_TAB.SUM_CPU),5,2) AS PCT_TOT_CPU,         STMT_EXEC_TIME,         DECIMAL(100*(FLOAT(STMT_EXEC_TIME)/SUM_TAB.SUM_EXEC),5,2) AS PCT_TOT_EXEC,         TOTAL_SECTION_SORT_TIME,         DECIMAL(100*(FLOAT(TOTAL_SECTION_SORT_TIME)/SUM_TAB.SUM_SORT),5,2) AS PCT_TOT_SRT,         NUM_EXECUTIONS,         DECIMAL(100*(FLOAT(NUM_EXECUTIONS)/SUM_TAB.SUM_NUM_EXEC),5,2) AS PCT_TOT_EXEC,         DECIMAL(FLOAT(STMT_EXEC_TIME)/FLOAT(NUM_EXECUTIONS),10,2) AS AVG_EXEC_TIME,         RTRIM(STMT_TEXT) as STATEMENT     FROM TABLE(MON_GET_PKG_CACHE_STMT ( 'D', NULL, NULL, -2)) AS T, SUM_TAB     WHERE DECIMAL(100*(FLOAT(ROWS_READ)/SUM_TAB.SUM_RR),5,2) &gt; 10         OR DECIMAL(100*(FLOAT(TOTAL_CPU_TIME)/SUM_TAB.SUM_CPU),5,2) &gt;10         OR DECIMAL(100*(FLOAT(STMT_EXEC_TIME)/SUM_TAB.SUM_EXEC),5,2) &gt;10         OR DECIMAL(100*(FLOAT(TOTAL_SECTION_SORT_TIME)/SUM_TAB.SUM_SORT),5,2) &gt;10         OR DECIMAL(100*(FLOAT(NUM_EXECUTIONS)/SUM_TAB.SUM_NUM_EXEC),5,2) &gt;10     ORDER BY ROWS_READ DESC FETCH FIRST 20 ROWS ONLY WITH UR</td>\n",
       "    </tr>\n",
       "    <tr>\n",
       "      <th>3</th>\n",
       "      <td>select typename     , count(*) as count from syscat.columns group by typename order by count desc</td>\n",
       "    </tr>\n",
       "  </tbody>\n",
       "</table>\n",
       "</div>"
      ],
      "text/plain": [
       "                                                                                                                                                                                                                                                                                                                                                                                                                                                                                                                                                                                                                                                                                                                                                                                                                                                                                                                                                                                                                                                                                                                                                                                                                                                                                                                                                                                                                                                                                                                                                                                                                                                        full_statement\n",
       "0  select * from syscat.tables                                                                                                                                                                                                                                                                                                                                                                                                                                                                                                                                                                                                                                                                                                                                                                                                                                                                                                                                                                                                                                                                                                                                                                                                                                                                                                                                                                                                                                                                                                                                                                                                                                        \n",
       "1  select * from syscat.bufferpools                                                                                                                                                                                                                                                                                                                                                                                                                                                                                                                                                                                                                                                                                                                                                                                                                                                                                                                                                                                                                                                                                                                                                                                                                                                                                                                                                                                                                                                                                                                                                                                                                                   \n",
       "2  WITH SUM_TAB (SUM_RR, SUM_CPU, SUM_EXEC, SUM_SORT, SUM_NUM_EXEC) AS (         SELECT  nullif(FLOAT(SUM(ROWS_READ)),0),                 nullif(FLOAT(SUM(TOTAL_CPU_TIME)),0),                 nullif(FLOAT(SUM(STMT_EXEC_TIME)),0),                 nullif(FLOAT(SUM(TOTAL_SECTION_SORT_TIME)),0),                 nullif(FLOAT(SUM(NUM_EXECUTIONS)),0)             FROM TABLE(MON_GET_PKG_CACHE_STMT ( 'D', NULL, NULL, -2)) AS T         ) SELECT         ROWS_READ,         DECIMAL(100*(FLOAT(ROWS_READ)/SUM_TAB.SUM_RR),5,2) AS PCT_TOT_RR,         TOTAL_CPU_TIME,         DECIMAL(100*(FLOAT(TOTAL_CPU_TIME)/SUM_TAB.SUM_CPU),5,2) AS PCT_TOT_CPU,         STMT_EXEC_TIME,         DECIMAL(100*(FLOAT(STMT_EXEC_TIME)/SUM_TAB.SUM_EXEC),5,2) AS PCT_TOT_EXEC,         TOTAL_SECTION_SORT_TIME,         DECIMAL(100*(FLOAT(TOTAL_SECTION_SORT_TIME)/SUM_TAB.SUM_SORT),5,2) AS PCT_TOT_SRT,         NUM_EXECUTIONS,         DECIMAL(100*(FLOAT(NUM_EXECUTIONS)/SUM_TAB.SUM_NUM_EXEC),5,2) AS PCT_TOT_EXEC,         DECIMAL(FLOAT(STMT_EXEC_TIME)/FLOAT(NUM_EXECUTIONS),10,2) AS AVG_EXEC_TIME,         RTRIM(STMT_TEXT) as STATEMENT     FROM TABLE(MON_GET_PKG_CACHE_STMT ( 'D', NULL, NULL, -2)) AS T, SUM_TAB     WHERE DECIMAL(100*(FLOAT(ROWS_READ)/SUM_TAB.SUM_RR),5,2) > 10         OR DECIMAL(100*(FLOAT(TOTAL_CPU_TIME)/SUM_TAB.SUM_CPU),5,2) >10         OR DECIMAL(100*(FLOAT(STMT_EXEC_TIME)/SUM_TAB.SUM_EXEC),5,2) >10         OR DECIMAL(100*(FLOAT(TOTAL_SECTION_SORT_TIME)/SUM_TAB.SUM_SORT),5,2) >10         OR DECIMAL(100*(FLOAT(NUM_EXECUTIONS)/SUM_TAB.SUM_NUM_EXEC),5,2) >10     ORDER BY ROWS_READ DESC FETCH FIRST 20 ROWS ONLY WITH UR\n",
       "3  select typename     , count(*) as count from syscat.columns group by typename order by count desc                                                                                                                                                                                                                                                                                                                                                                                                                                                                                                                                                                                                                                                                                                                                                                                                                                                                                                                                                                                                                                                                                                                                                                                                                                                                                                                                                                                                                                                                                                                                                                  "
      ]
     },
     "execution_count": 20,
     "metadata": {},
     "output_type": "execute_result"
    }
   ],
   "source": [
    "pd.set_option('display.max_colwidth', -1)\n",
    "df[['full_statement']]"
   ]
  },
  {
   "cell_type": "markdown",
   "metadata": {},
   "source": [
    "### Using Host Variables / Parameter Markers"
   ]
  },
  {
   "cell_type": "markdown",
   "metadata": {},
   "source": [
    "This statement is prepared using the literal value"
   ]
  },
  {
   "cell_type": "code",
   "execution_count": 21,
   "metadata": {
    "collapsed": false
   },
   "outputs": [
    {
     "name": "stdout",
     "output_type": "stream",
     "text": [
      "Done.\n"
     ]
    },
    {
     "data": {
      "text/html": [
       "<table>\n",
       "    <tr>\n",
       "        <th>tabschema</th>\n",
       "        <th>tabname</th>\n",
       "        <th>controlauth</th>\n",
       "        <th>deleteauth</th>\n",
       "        <th>insertauth</th>\n",
       "        <th>selectauth</th>\n",
       "        <th>updateauth</th>\n",
       "    </tr>\n",
       "    <tr>\n",
       "        <td>DB2ADMIN</td>\n",
       "        <td>TEMP_SALES</td>\n",
       "        <td>Y</td>\n",
       "        <td>G</td>\n",
       "        <td>G</td>\n",
       "        <td>G</td>\n",
       "        <td>G</td>\n",
       "    </tr>\n",
       "    <tr>\n",
       "        <td>SYSTOOLS</td>\n",
       "        <td>ADVISE_INDEX</td>\n",
       "        <td>Y</td>\n",
       "        <td>G</td>\n",
       "        <td>G</td>\n",
       "        <td>G</td>\n",
       "        <td>G</td>\n",
       "    </tr>\n",
       "    <tr>\n",
       "        <td>SYSTOOLS</td>\n",
       "        <td>ADVISE_INSTANCE</td>\n",
       "        <td>Y</td>\n",
       "        <td>G</td>\n",
       "        <td>G</td>\n",
       "        <td>G</td>\n",
       "        <td>G</td>\n",
       "    </tr>\n",
       "    <tr>\n",
       "        <td>SYSTOOLS</td>\n",
       "        <td>ADVISE_MQT</td>\n",
       "        <td>Y</td>\n",
       "        <td>G</td>\n",
       "        <td>G</td>\n",
       "        <td>G</td>\n",
       "        <td>G</td>\n",
       "    </tr>\n",
       "    <tr>\n",
       "        <td>SYSTOOLS</td>\n",
       "        <td>ADVISE_PARTITION</td>\n",
       "        <td>Y</td>\n",
       "        <td>G</td>\n",
       "        <td>G</td>\n",
       "        <td>G</td>\n",
       "        <td>G</td>\n",
       "    </tr>\n",
       "    <tr>\n",
       "        <td>SYSTOOLS</td>\n",
       "        <td>ADVISE_TABLE</td>\n",
       "        <td>Y</td>\n",
       "        <td>G</td>\n",
       "        <td>G</td>\n",
       "        <td>G</td>\n",
       "        <td>G</td>\n",
       "    </tr>\n",
       "    <tr>\n",
       "        <td>SYSTOOLS</td>\n",
       "        <td>ADVISE_WORKLOAD</td>\n",
       "        <td>Y</td>\n",
       "        <td>G</td>\n",
       "        <td>G</td>\n",
       "        <td>G</td>\n",
       "        <td>G</td>\n",
       "    </tr>\n",
       "    <tr>\n",
       "        <td>SYSTOOLS</td>\n",
       "        <td>EXPLAIN_ACTUALS</td>\n",
       "        <td>Y</td>\n",
       "        <td>G</td>\n",
       "        <td>G</td>\n",
       "        <td>G</td>\n",
       "        <td>G</td>\n",
       "    </tr>\n",
       "    <tr>\n",
       "        <td>SYSTOOLS</td>\n",
       "        <td>EXPLAIN_ARGUMENT</td>\n",
       "        <td>Y</td>\n",
       "        <td>G</td>\n",
       "        <td>G</td>\n",
       "        <td>G</td>\n",
       "        <td>G</td>\n",
       "    </tr>\n",
       "    <tr>\n",
       "        <td>SYSTOOLS</td>\n",
       "        <td>EXPLAIN_DIAGNOSTIC</td>\n",
       "        <td>Y</td>\n",
       "        <td>G</td>\n",
       "        <td>G</td>\n",
       "        <td>G</td>\n",
       "        <td>G</td>\n",
       "    </tr>\n",
       "    <tr>\n",
       "        <td>SYSTOOLS</td>\n",
       "        <td>EXPLAIN_DIAGNOSTIC_DATA</td>\n",
       "        <td>Y</td>\n",
       "        <td>G</td>\n",
       "        <td>G</td>\n",
       "        <td>G</td>\n",
       "        <td>G</td>\n",
       "    </tr>\n",
       "    <tr>\n",
       "        <td>SYSTOOLS</td>\n",
       "        <td>EXPLAIN_INSTANCE</td>\n",
       "        <td>Y</td>\n",
       "        <td>G</td>\n",
       "        <td>G</td>\n",
       "        <td>G</td>\n",
       "        <td>G</td>\n",
       "    </tr>\n",
       "    <tr>\n",
       "        <td>SYSTOOLS</td>\n",
       "        <td>EXPLAIN_OBJECT</td>\n",
       "        <td>Y</td>\n",
       "        <td>G</td>\n",
       "        <td>G</td>\n",
       "        <td>G</td>\n",
       "        <td>G</td>\n",
       "    </tr>\n",
       "    <tr>\n",
       "        <td>SYSTOOLS</td>\n",
       "        <td>EXPLAIN_OPERATOR</td>\n",
       "        <td>Y</td>\n",
       "        <td>G</td>\n",
       "        <td>G</td>\n",
       "        <td>G</td>\n",
       "        <td>G</td>\n",
       "    </tr>\n",
       "    <tr>\n",
       "        <td>SYSTOOLS</td>\n",
       "        <td>EXPLAIN_PREDICATE</td>\n",
       "        <td>Y</td>\n",
       "        <td>G</td>\n",
       "        <td>G</td>\n",
       "        <td>G</td>\n",
       "        <td>G</td>\n",
       "    </tr>\n",
       "    <tr>\n",
       "        <td>SYSTOOLS</td>\n",
       "        <td>EXPLAIN_STATEMENT</td>\n",
       "        <td>Y</td>\n",
       "        <td>G</td>\n",
       "        <td>G</td>\n",
       "        <td>G</td>\n",
       "        <td>G</td>\n",
       "    </tr>\n",
       "    <tr>\n",
       "        <td>SYSTOOLS</td>\n",
       "        <td>EXPLAIN_STREAM</td>\n",
       "        <td>Y</td>\n",
       "        <td>G</td>\n",
       "        <td>G</td>\n",
       "        <td>G</td>\n",
       "        <td>G</td>\n",
       "    </tr>\n",
       "    <tr>\n",
       "        <td>SYSTOOLS</td>\n",
       "        <td>HMON_ATM_INFO</td>\n",
       "        <td>Y</td>\n",
       "        <td>G</td>\n",
       "        <td>G</td>\n",
       "        <td>G</td>\n",
       "        <td>G</td>\n",
       "    </tr>\n",
       "    <tr>\n",
       "        <td>SYSTOOLS</td>\n",
       "        <td>HMON_COLLECTION</td>\n",
       "        <td>Y</td>\n",
       "        <td>G</td>\n",
       "        <td>G</td>\n",
       "        <td>G</td>\n",
       "        <td>G</td>\n",
       "    </tr>\n",
       "    <tr>\n",
       "        <td>SYSTOOLS</td>\n",
       "        <td>OBJECT_METRICS</td>\n",
       "        <td>Y</td>\n",
       "        <td>G</td>\n",
       "        <td>G</td>\n",
       "        <td>G</td>\n",
       "        <td>G</td>\n",
       "    </tr>\n",
       "    <tr>\n",
       "        <td>SYSTOOLS</td>\n",
       "        <td>POLICY</td>\n",
       "        <td>Y</td>\n",
       "        <td>G</td>\n",
       "        <td>G</td>\n",
       "        <td>G</td>\n",
       "        <td>G</td>\n",
       "    </tr>\n",
       "</table>"
      ],
      "text/plain": [
       "[('DB2ADMIN', 'TEMP_SALES', 'Y', 'G', 'G', 'G', 'G'),\n",
       " ('SYSTOOLS', 'ADVISE_INDEX', 'Y', 'G', 'G', 'G', 'G'),\n",
       " ('SYSTOOLS', 'ADVISE_INSTANCE', 'Y', 'G', 'G', 'G', 'G'),\n",
       " ('SYSTOOLS', 'ADVISE_MQT', 'Y', 'G', 'G', 'G', 'G'),\n",
       " ('SYSTOOLS', 'ADVISE_PARTITION', 'Y', 'G', 'G', 'G', 'G'),\n",
       " ('SYSTOOLS', 'ADVISE_TABLE', 'Y', 'G', 'G', 'G', 'G'),\n",
       " ('SYSTOOLS', 'ADVISE_WORKLOAD', 'Y', 'G', 'G', 'G', 'G'),\n",
       " ('SYSTOOLS', 'EXPLAIN_ACTUALS', 'Y', 'G', 'G', 'G', 'G'),\n",
       " ('SYSTOOLS', 'EXPLAIN_ARGUMENT', 'Y', 'G', 'G', 'G', 'G'),\n",
       " ('SYSTOOLS', 'EXPLAIN_DIAGNOSTIC', 'Y', 'G', 'G', 'G', 'G'),\n",
       " ('SYSTOOLS', 'EXPLAIN_DIAGNOSTIC_DATA', 'Y', 'G', 'G', 'G', 'G'),\n",
       " ('SYSTOOLS', 'EXPLAIN_INSTANCE', 'Y', 'G', 'G', 'G', 'G'),\n",
       " ('SYSTOOLS', 'EXPLAIN_OBJECT', 'Y', 'G', 'G', 'G', 'G'),\n",
       " ('SYSTOOLS', 'EXPLAIN_OPERATOR', 'Y', 'G', 'G', 'G', 'G'),\n",
       " ('SYSTOOLS', 'EXPLAIN_PREDICATE', 'Y', 'G', 'G', 'G', 'G'),\n",
       " ('SYSTOOLS', 'EXPLAIN_STATEMENT', 'Y', 'G', 'G', 'G', 'G'),\n",
       " ('SYSTOOLS', 'EXPLAIN_STREAM', 'Y', 'G', 'G', 'G', 'G'),\n",
       " ('SYSTOOLS', 'HMON_ATM_INFO', 'Y', 'G', 'G', 'G', 'G'),\n",
       " ('SYSTOOLS', 'HMON_COLLECTION', 'Y', 'G', 'G', 'G', 'G'),\n",
       " ('SYSTOOLS', 'OBJECT_METRICS', 'Y', 'G', 'G', 'G', 'G'),\n",
       " ('SYSTOOLS', 'POLICY', 'Y', 'G', 'G', 'G', 'G')]"
      ]
     },
     "execution_count": 21,
     "metadata": {},
     "output_type": "execute_result"
    }
   ],
   "source": [
    "check_id = 'DB2ADMIN'\n",
    "%sql select tabschema \\\n",
    "    , tabname \\\n",
    "    , controlauth \\\n",
    "    , deleteauth \\\n",
    "    , insertauth \\\n",
    "    , selectauth \\\n",
    "    , updateauth \\\n",
    "from syscat.tabauth \\\n",
    "where grantee = '{check_id}'"
   ]
  },
  {
   "cell_type": "markdown",
   "metadata": {},
   "source": [
    "This statement is prepared using a parameter marker"
   ]
  },
  {
   "cell_type": "code",
   "execution_count": 22,
   "metadata": {
    "collapsed": false
   },
   "outputs": [
    {
     "name": "stdout",
     "output_type": "stream",
     "text": [
      "Done.\n"
     ]
    },
    {
     "data": {
      "text/html": [
       "<table>\n",
       "    <tr>\n",
       "        <th>tabschema</th>\n",
       "        <th>tabname</th>\n",
       "        <th>controlauth</th>\n",
       "        <th>deleteauth</th>\n",
       "        <th>insertauth</th>\n",
       "        <th>selectauth</th>\n",
       "        <th>updateauth</th>\n",
       "    </tr>\n",
       "    <tr>\n",
       "        <td>SYSTOOLS</td>\n",
       "        <td>POLICY</td>\n",
       "        <td>Y</td>\n",
       "        <td>G</td>\n",
       "        <td>G</td>\n",
       "        <td>G</td>\n",
       "        <td>G</td>\n",
       "    </tr>\n",
       "    <tr>\n",
       "        <td>SYSTOOLS</td>\n",
       "        <td>HMON_ATM_INFO</td>\n",
       "        <td>Y</td>\n",
       "        <td>G</td>\n",
       "        <td>G</td>\n",
       "        <td>G</td>\n",
       "        <td>G</td>\n",
       "    </tr>\n",
       "    <tr>\n",
       "        <td>SYSTOOLS</td>\n",
       "        <td>HMON_COLLECTION</td>\n",
       "        <td>Y</td>\n",
       "        <td>G</td>\n",
       "        <td>G</td>\n",
       "        <td>G</td>\n",
       "        <td>G</td>\n",
       "    </tr>\n",
       "    <tr>\n",
       "        <td>DB2ADMIN</td>\n",
       "        <td>TEMP_SALES</td>\n",
       "        <td>Y</td>\n",
       "        <td>G</td>\n",
       "        <td>G</td>\n",
       "        <td>G</td>\n",
       "        <td>G</td>\n",
       "    </tr>\n",
       "    <tr>\n",
       "        <td>SYSTOOLS</td>\n",
       "        <td>EXPLAIN_INSTANCE</td>\n",
       "        <td>Y</td>\n",
       "        <td>G</td>\n",
       "        <td>G</td>\n",
       "        <td>G</td>\n",
       "        <td>G</td>\n",
       "    </tr>\n",
       "    <tr>\n",
       "        <td>SYSTOOLS</td>\n",
       "        <td>EXPLAIN_STATEMENT</td>\n",
       "        <td>Y</td>\n",
       "        <td>G</td>\n",
       "        <td>G</td>\n",
       "        <td>G</td>\n",
       "        <td>G</td>\n",
       "    </tr>\n",
       "    <tr>\n",
       "        <td>SYSTOOLS</td>\n",
       "        <td>EXPLAIN_ARGUMENT</td>\n",
       "        <td>Y</td>\n",
       "        <td>G</td>\n",
       "        <td>G</td>\n",
       "        <td>G</td>\n",
       "        <td>G</td>\n",
       "    </tr>\n",
       "    <tr>\n",
       "        <td>SYSTOOLS</td>\n",
       "        <td>EXPLAIN_OBJECT</td>\n",
       "        <td>Y</td>\n",
       "        <td>G</td>\n",
       "        <td>G</td>\n",
       "        <td>G</td>\n",
       "        <td>G</td>\n",
       "    </tr>\n",
       "    <tr>\n",
       "        <td>SYSTOOLS</td>\n",
       "        <td>EXPLAIN_OPERATOR</td>\n",
       "        <td>Y</td>\n",
       "        <td>G</td>\n",
       "        <td>G</td>\n",
       "        <td>G</td>\n",
       "        <td>G</td>\n",
       "    </tr>\n",
       "    <tr>\n",
       "        <td>SYSTOOLS</td>\n",
       "        <td>EXPLAIN_PREDICATE</td>\n",
       "        <td>Y</td>\n",
       "        <td>G</td>\n",
       "        <td>G</td>\n",
       "        <td>G</td>\n",
       "        <td>G</td>\n",
       "    </tr>\n",
       "    <tr>\n",
       "        <td>SYSTOOLS</td>\n",
       "        <td>EXPLAIN_STREAM</td>\n",
       "        <td>Y</td>\n",
       "        <td>G</td>\n",
       "        <td>G</td>\n",
       "        <td>G</td>\n",
       "        <td>G</td>\n",
       "    </tr>\n",
       "    <tr>\n",
       "        <td>SYSTOOLS</td>\n",
       "        <td>EXPLAIN_DIAGNOSTIC</td>\n",
       "        <td>Y</td>\n",
       "        <td>G</td>\n",
       "        <td>G</td>\n",
       "        <td>G</td>\n",
       "        <td>G</td>\n",
       "    </tr>\n",
       "    <tr>\n",
       "        <td>SYSTOOLS</td>\n",
       "        <td>EXPLAIN_DIAGNOSTIC_DATA</td>\n",
       "        <td>Y</td>\n",
       "        <td>G</td>\n",
       "        <td>G</td>\n",
       "        <td>G</td>\n",
       "        <td>G</td>\n",
       "    </tr>\n",
       "    <tr>\n",
       "        <td>SYSTOOLS</td>\n",
       "        <td>OBJECT_METRICS</td>\n",
       "        <td>Y</td>\n",
       "        <td>G</td>\n",
       "        <td>G</td>\n",
       "        <td>G</td>\n",
       "        <td>G</td>\n",
       "    </tr>\n",
       "    <tr>\n",
       "        <td>SYSTOOLS</td>\n",
       "        <td>ADVISE_INSTANCE</td>\n",
       "        <td>Y</td>\n",
       "        <td>G</td>\n",
       "        <td>G</td>\n",
       "        <td>G</td>\n",
       "        <td>G</td>\n",
       "    </tr>\n",
       "    <tr>\n",
       "        <td>SYSTOOLS</td>\n",
       "        <td>ADVISE_INDEX</td>\n",
       "        <td>Y</td>\n",
       "        <td>G</td>\n",
       "        <td>G</td>\n",
       "        <td>G</td>\n",
       "        <td>G</td>\n",
       "    </tr>\n",
       "    <tr>\n",
       "        <td>SYSTOOLS</td>\n",
       "        <td>ADVISE_WORKLOAD</td>\n",
       "        <td>Y</td>\n",
       "        <td>G</td>\n",
       "        <td>G</td>\n",
       "        <td>G</td>\n",
       "        <td>G</td>\n",
       "    </tr>\n",
       "    <tr>\n",
       "        <td>SYSTOOLS</td>\n",
       "        <td>ADVISE_MQT</td>\n",
       "        <td>Y</td>\n",
       "        <td>G</td>\n",
       "        <td>G</td>\n",
       "        <td>G</td>\n",
       "        <td>G</td>\n",
       "    </tr>\n",
       "    <tr>\n",
       "        <td>SYSTOOLS</td>\n",
       "        <td>ADVISE_PARTITION</td>\n",
       "        <td>Y</td>\n",
       "        <td>G</td>\n",
       "        <td>G</td>\n",
       "        <td>G</td>\n",
       "        <td>G</td>\n",
       "    </tr>\n",
       "    <tr>\n",
       "        <td>SYSTOOLS</td>\n",
       "        <td>ADVISE_TABLE</td>\n",
       "        <td>Y</td>\n",
       "        <td>G</td>\n",
       "        <td>G</td>\n",
       "        <td>G</td>\n",
       "        <td>G</td>\n",
       "    </tr>\n",
       "    <tr>\n",
       "        <td>SYSTOOLS</td>\n",
       "        <td>EXPLAIN_ACTUALS</td>\n",
       "        <td>Y</td>\n",
       "        <td>G</td>\n",
       "        <td>G</td>\n",
       "        <td>G</td>\n",
       "        <td>G</td>\n",
       "    </tr>\n",
       "</table>"
      ],
      "text/plain": [
       "[('SYSTOOLS', 'POLICY', 'Y', 'G', 'G', 'G', 'G'),\n",
       " ('SYSTOOLS', 'HMON_ATM_INFO', 'Y', 'G', 'G', 'G', 'G'),\n",
       " ('SYSTOOLS', 'HMON_COLLECTION', 'Y', 'G', 'G', 'G', 'G'),\n",
       " ('DB2ADMIN', 'TEMP_SALES', 'Y', 'G', 'G', 'G', 'G'),\n",
       " ('SYSTOOLS', 'EXPLAIN_INSTANCE', 'Y', 'G', 'G', 'G', 'G'),\n",
       " ('SYSTOOLS', 'EXPLAIN_STATEMENT', 'Y', 'G', 'G', 'G', 'G'),\n",
       " ('SYSTOOLS', 'EXPLAIN_ARGUMENT', 'Y', 'G', 'G', 'G', 'G'),\n",
       " ('SYSTOOLS', 'EXPLAIN_OBJECT', 'Y', 'G', 'G', 'G', 'G'),\n",
       " ('SYSTOOLS', 'EXPLAIN_OPERATOR', 'Y', 'G', 'G', 'G', 'G'),\n",
       " ('SYSTOOLS', 'EXPLAIN_PREDICATE', 'Y', 'G', 'G', 'G', 'G'),\n",
       " ('SYSTOOLS', 'EXPLAIN_STREAM', 'Y', 'G', 'G', 'G', 'G'),\n",
       " ('SYSTOOLS', 'EXPLAIN_DIAGNOSTIC', 'Y', 'G', 'G', 'G', 'G'),\n",
       " ('SYSTOOLS', 'EXPLAIN_DIAGNOSTIC_DATA', 'Y', 'G', 'G', 'G', 'G'),\n",
       " ('SYSTOOLS', 'OBJECT_METRICS', 'Y', 'G', 'G', 'G', 'G'),\n",
       " ('SYSTOOLS', 'ADVISE_INSTANCE', 'Y', 'G', 'G', 'G', 'G'),\n",
       " ('SYSTOOLS', 'ADVISE_INDEX', 'Y', 'G', 'G', 'G', 'G'),\n",
       " ('SYSTOOLS', 'ADVISE_WORKLOAD', 'Y', 'G', 'G', 'G', 'G'),\n",
       " ('SYSTOOLS', 'ADVISE_MQT', 'Y', 'G', 'G', 'G', 'G'),\n",
       " ('SYSTOOLS', 'ADVISE_PARTITION', 'Y', 'G', 'G', 'G', 'G'),\n",
       " ('SYSTOOLS', 'ADVISE_TABLE', 'Y', 'G', 'G', 'G', 'G'),\n",
       " ('SYSTOOLS', 'EXPLAIN_ACTUALS', 'Y', 'G', 'G', 'G', 'G')]"
      ]
     },
     "execution_count": 22,
     "metadata": {},
     "output_type": "execute_result"
    }
   ],
   "source": [
    "check_id = 'DB2ADMIN'\n",
    "%sql select tabschema \\\n",
    "    , tabname \\\n",
    "    , controlauth \\\n",
    "    , deleteauth \\\n",
    "    , insertauth \\\n",
    "    , selectauth \\\n",
    "    , updateauth \\\n",
    "from syscat.tabauth \\\n",
    "where grantee = :check_id"
   ]
  },
  {
   "cell_type": "markdown",
   "metadata": {},
   "source": [
    "### Explain Information in Jupyter Notebook"
   ]
  },
  {
   "cell_type": "markdown",
   "metadata": {},
   "source": [
    "#### If Explain Tables do not Exist, Create Them"
   ]
  },
  {
   "cell_type": "code",
   "execution_count": null,
   "metadata": {
    "collapsed": false
   },
   "outputs": [],
   "source": [
    "# This cell only needs to be executed if the explain tables do not exist\n",
    "%sql call sysproc.sysinstallobjects('EXPLAIN','C',NULL,NULL)"
   ]
  },
  {
   "cell_type": "code",
   "execution_count": 23,
   "metadata": {
    "collapsed": false
   },
   "outputs": [
    {
     "name": "stdout",
     "output_type": "stream",
     "text": [
      "Done.\n",
      "Done.\n"
     ]
    },
    {
     "ename": "InternalError",
     "evalue": "(ibm_db_dbi.InternalError) ibm_db_dbi::InternalError: Fetch Failure: [IBM][CLI Driver] CLI0115E  Invalid cursor state. SQLSTATE=24000 SQLCODE=-99999",
     "output_type": "error",
     "traceback": [
      "\u001b[0;31m---------------------------------------------------------------------------\u001b[0m",
      "\u001b[0;31mException\u001b[0m                                 Traceback (most recent call last)",
      "\u001b[0;32mC:\\Program Files\\Anaconda3\\lib\\site-packages\\ibm_db-2.0.7-py3.5.egg\\ibm_db_dbi.py\u001b[0m in \u001b[0;36m_fetch_helper\u001b[0;34m(self, fetch_size)\u001b[0m\n\u001b[1;32m   1413\u001b[0m             \u001b[1;32mtry\u001b[0m\u001b[1;33m:\u001b[0m\u001b[1;33m\u001b[0m\u001b[0m\n\u001b[0;32m-> 1414\u001b[0;31m                 \u001b[0mrow\u001b[0m \u001b[1;33m=\u001b[0m \u001b[0mibm_db\u001b[0m\u001b[1;33m.\u001b[0m\u001b[0mfetch_tuple\u001b[0m\u001b[1;33m(\u001b[0m\u001b[0mself\u001b[0m\u001b[1;33m.\u001b[0m\u001b[0mstmt_handler\u001b[0m\u001b[1;33m)\u001b[0m\u001b[1;33m\u001b[0m\u001b[0m\n\u001b[0m\u001b[1;32m   1415\u001b[0m             \u001b[1;32mexcept\u001b[0m \u001b[0mException\u001b[0m \u001b[1;32mas\u001b[0m \u001b[0minst\u001b[0m\u001b[1;33m:\u001b[0m\u001b[1;33m\u001b[0m\u001b[0m\n",
      "\u001b[0;31mException\u001b[0m: Fetch Failure: [IBM][CLI Driver] CLI0115E  Invalid cursor state. SQLSTATE=24000 SQLCODE=-99999",
      "\nDuring handling of the above exception, another exception occurred:\n",
      "\u001b[0;31mInternalError\u001b[0m                             Traceback (most recent call last)",
      "\u001b[0;32mC:\\Program Files\\Anaconda3\\lib\\site-packages\\sqlalchemy\\engine\\result.py\u001b[0m in \u001b[0;36mfetchall\u001b[0;34m(self)\u001b[0m\n\u001b[1;32m    963\u001b[0m         \u001b[1;32mtry\u001b[0m\u001b[1;33m:\u001b[0m\u001b[1;33m\u001b[0m\u001b[0m\n\u001b[0;32m--> 964\u001b[0;31m             \u001b[0ml\u001b[0m \u001b[1;33m=\u001b[0m \u001b[0mself\u001b[0m\u001b[1;33m.\u001b[0m\u001b[0mprocess_rows\u001b[0m\u001b[1;33m(\u001b[0m\u001b[0mself\u001b[0m\u001b[1;33m.\u001b[0m\u001b[0m_fetchall_impl\u001b[0m\u001b[1;33m(\u001b[0m\u001b[1;33m)\u001b[0m\u001b[1;33m)\u001b[0m\u001b[1;33m\u001b[0m\u001b[0m\n\u001b[0m\u001b[1;32m    965\u001b[0m             \u001b[0mself\u001b[0m\u001b[1;33m.\u001b[0m\u001b[0m_soft_close\u001b[0m\u001b[1;33m(\u001b[0m\u001b[1;33m)\u001b[0m\u001b[1;33m\u001b[0m\u001b[0m\n",
      "\u001b[0;32mC:\\Program Files\\Anaconda3\\lib\\site-packages\\sqlalchemy\\engine\\result.py\u001b[0m in \u001b[0;36m_fetchall_impl\u001b[0;34m(self)\u001b[0m\n\u001b[1;32m    914\u001b[0m         \u001b[1;32mtry\u001b[0m\u001b[1;33m:\u001b[0m\u001b[1;33m\u001b[0m\u001b[0m\n\u001b[0;32m--> 915\u001b[0;31m             \u001b[1;32mreturn\u001b[0m \u001b[0mself\u001b[0m\u001b[1;33m.\u001b[0m\u001b[0mcursor\u001b[0m\u001b[1;33m.\u001b[0m\u001b[0mfetchall\u001b[0m\u001b[1;33m(\u001b[0m\u001b[1;33m)\u001b[0m\u001b[1;33m\u001b[0m\u001b[0m\n\u001b[0m\u001b[1;32m    916\u001b[0m         \u001b[1;32mexcept\u001b[0m \u001b[0mAttributeError\u001b[0m\u001b[1;33m:\u001b[0m\u001b[1;33m\u001b[0m\u001b[0m\n",
      "\u001b[0;32mC:\\Program Files\\Anaconda3\\lib\\site-packages\\ibm_db-2.0.7-py3.5.egg\\ibm_db_dbi.py\u001b[0m in \u001b[0;36mfetchall\u001b[0;34m(self)\u001b[0m\n\u001b[1;32m   1460\u001b[0m         \"\"\"\n\u001b[0;32m-> 1461\u001b[0;31m         \u001b[1;32mreturn\u001b[0m \u001b[0mself\u001b[0m\u001b[1;33m.\u001b[0m\u001b[0m_fetch_helper\u001b[0m\u001b[1;33m(\u001b[0m\u001b[1;33m)\u001b[0m\u001b[1;33m\u001b[0m\u001b[0m\n\u001b[0m\u001b[1;32m   1462\u001b[0m \u001b[1;33m\u001b[0m\u001b[0m\n",
      "\u001b[0;32mC:\\Program Files\\Anaconda3\\lib\\site-packages\\ibm_db-2.0.7-py3.5.egg\\ibm_db_dbi.py\u001b[0m in \u001b[0;36m_fetch_helper\u001b[0;34m(self, fetch_size)\u001b[0m\n\u001b[1;32m   1417\u001b[0m                 \u001b[1;32mif\u001b[0m \u001b[0mlen\u001b[0m\u001b[1;33m(\u001b[0m\u001b[0mrow_list\u001b[0m\u001b[1;33m)\u001b[0m \u001b[1;33m==\u001b[0m \u001b[1;36m0\u001b[0m\u001b[1;33m:\u001b[0m\u001b[1;33m\u001b[0m\u001b[0m\n\u001b[0;32m-> 1418\u001b[0;31m                     \u001b[1;32mraise\u001b[0m \u001b[0mself\u001b[0m\u001b[1;33m.\u001b[0m\u001b[0mmessages\u001b[0m\u001b[1;33m[\u001b[0m\u001b[0mlen\u001b[0m\u001b[1;33m(\u001b[0m\u001b[0mself\u001b[0m\u001b[1;33m.\u001b[0m\u001b[0mmessages\u001b[0m\u001b[1;33m)\u001b[0m \u001b[1;33m-\u001b[0m \u001b[1;36m1\u001b[0m\u001b[1;33m]\u001b[0m\u001b[1;33m\u001b[0m\u001b[0m\n\u001b[0m\u001b[1;32m   1419\u001b[0m                 \u001b[1;32melse\u001b[0m\u001b[1;33m:\u001b[0m\u001b[1;33m\u001b[0m\u001b[0m\n",
      "\u001b[0;31mInternalError\u001b[0m: ibm_db_dbi::InternalError: Fetch Failure: [IBM][CLI Driver] CLI0115E  Invalid cursor state. SQLSTATE=24000 SQLCODE=-99999",
      "\nThe above exception was the direct cause of the following exception:\n",
      "\u001b[0;31mInternalError\u001b[0m                             Traceback (most recent call last)",
      "\u001b[0;32m<ipython-input-23-f1e8105aed5c>\u001b[0m in \u001b[0;36m<module>\u001b[0;34m()\u001b[0m\n\u001b[1;32m      1\u001b[0m \u001b[0mget_ipython\u001b[0m\u001b[1;33m(\u001b[0m\u001b[1;33m)\u001b[0m\u001b[1;33m.\u001b[0m\u001b[0mmagic\u001b[0m\u001b[1;33m(\u001b[0m\u001b[1;34m'sql set current explain mode explain'\u001b[0m\u001b[1;33m)\u001b[0m\u001b[1;33m\u001b[0m\u001b[0m\n\u001b[1;32m      2\u001b[0m \u001b[1;31m# Below will return CLI0115E, but that is expected and it works fine.\u001b[0m\u001b[1;33m\u001b[0m\u001b[1;33m\u001b[0m\u001b[0m\n\u001b[0;32m----> 3\u001b[0;31m \u001b[0mget_ipython\u001b[0m\u001b[1;33m(\u001b[0m\u001b[1;33m)\u001b[0m\u001b[1;33m.\u001b[0m\u001b[0mmagic\u001b[0m\u001b[1;33m(\u001b[0m\u001b[1;34m'sql select bpname from syscat.bufferpools'\u001b[0m\u001b[1;33m)\u001b[0m\u001b[1;33m\u001b[0m\u001b[0m\n\u001b[0m",
      "\u001b[0;32mC:\\Program Files\\Anaconda3\\lib\\site-packages\\IPython\\core\\interactiveshell.py\u001b[0m in \u001b[0;36mmagic\u001b[0;34m(self, arg_s)\u001b[0m\n\u001b[1;32m   2156\u001b[0m         \u001b[0mmagic_name\u001b[0m\u001b[1;33m,\u001b[0m \u001b[0m_\u001b[0m\u001b[1;33m,\u001b[0m \u001b[0mmagic_arg_s\u001b[0m \u001b[1;33m=\u001b[0m \u001b[0marg_s\u001b[0m\u001b[1;33m.\u001b[0m\u001b[0mpartition\u001b[0m\u001b[1;33m(\u001b[0m\u001b[1;34m' '\u001b[0m\u001b[1;33m)\u001b[0m\u001b[1;33m\u001b[0m\u001b[0m\n\u001b[1;32m   2157\u001b[0m         \u001b[0mmagic_name\u001b[0m \u001b[1;33m=\u001b[0m \u001b[0mmagic_name\u001b[0m\u001b[1;33m.\u001b[0m\u001b[0mlstrip\u001b[0m\u001b[1;33m(\u001b[0m\u001b[0mprefilter\u001b[0m\u001b[1;33m.\u001b[0m\u001b[0mESC_MAGIC\u001b[0m\u001b[1;33m)\u001b[0m\u001b[1;33m\u001b[0m\u001b[0m\n\u001b[0;32m-> 2158\u001b[0;31m         \u001b[1;32mreturn\u001b[0m \u001b[0mself\u001b[0m\u001b[1;33m.\u001b[0m\u001b[0mrun_line_magic\u001b[0m\u001b[1;33m(\u001b[0m\u001b[0mmagic_name\u001b[0m\u001b[1;33m,\u001b[0m \u001b[0mmagic_arg_s\u001b[0m\u001b[1;33m)\u001b[0m\u001b[1;33m\u001b[0m\u001b[0m\n\u001b[0m\u001b[1;32m   2159\u001b[0m \u001b[1;33m\u001b[0m\u001b[0m\n\u001b[1;32m   2160\u001b[0m     \u001b[1;31m#-------------------------------------------------------------------------\u001b[0m\u001b[1;33m\u001b[0m\u001b[1;33m\u001b[0m\u001b[0m\n",
      "\u001b[0;32mC:\\Program Files\\Anaconda3\\lib\\site-packages\\IPython\\core\\interactiveshell.py\u001b[0m in \u001b[0;36mrun_line_magic\u001b[0;34m(self, magic_name, line)\u001b[0m\n\u001b[1;32m   2077\u001b[0m                 \u001b[0mkwargs\u001b[0m\u001b[1;33m[\u001b[0m\u001b[1;34m'local_ns'\u001b[0m\u001b[1;33m]\u001b[0m \u001b[1;33m=\u001b[0m \u001b[0msys\u001b[0m\u001b[1;33m.\u001b[0m\u001b[0m_getframe\u001b[0m\u001b[1;33m(\u001b[0m\u001b[0mstack_depth\u001b[0m\u001b[1;33m)\u001b[0m\u001b[1;33m.\u001b[0m\u001b[0mf_locals\u001b[0m\u001b[1;33m\u001b[0m\u001b[0m\n\u001b[1;32m   2078\u001b[0m             \u001b[1;32mwith\u001b[0m \u001b[0mself\u001b[0m\u001b[1;33m.\u001b[0m\u001b[0mbuiltin_trap\u001b[0m\u001b[1;33m:\u001b[0m\u001b[1;33m\u001b[0m\u001b[0m\n\u001b[0;32m-> 2079\u001b[0;31m                 \u001b[0mresult\u001b[0m \u001b[1;33m=\u001b[0m \u001b[0mfn\u001b[0m\u001b[1;33m(\u001b[0m\u001b[1;33m*\u001b[0m\u001b[0margs\u001b[0m\u001b[1;33m,\u001b[0m\u001b[1;33m**\u001b[0m\u001b[0mkwargs\u001b[0m\u001b[1;33m)\u001b[0m\u001b[1;33m\u001b[0m\u001b[0m\n\u001b[0m\u001b[1;32m   2080\u001b[0m             \u001b[1;32mreturn\u001b[0m \u001b[0mresult\u001b[0m\u001b[1;33m\u001b[0m\u001b[0m\n\u001b[1;32m   2081\u001b[0m \u001b[1;33m\u001b[0m\u001b[0m\n",
      "\u001b[0;32m<decorator-gen-124>\u001b[0m in \u001b[0;36mexecute\u001b[0;34m(self, line, cell, local_ns)\u001b[0m\n",
      "\u001b[0;32mC:\\Program Files\\Anaconda3\\lib\\site-packages\\IPython\\core\\magic.py\u001b[0m in \u001b[0;36m<lambda>\u001b[0;34m(f, *a, **k)\u001b[0m\n\u001b[1;32m    186\u001b[0m     \u001b[1;31m# but it's overkill for just that one bit of state.\u001b[0m\u001b[1;33m\u001b[0m\u001b[1;33m\u001b[0m\u001b[0m\n\u001b[1;32m    187\u001b[0m     \u001b[1;32mdef\u001b[0m \u001b[0mmagic_deco\u001b[0m\u001b[1;33m(\u001b[0m\u001b[0marg\u001b[0m\u001b[1;33m)\u001b[0m\u001b[1;33m:\u001b[0m\u001b[1;33m\u001b[0m\u001b[0m\n\u001b[0;32m--> 188\u001b[0;31m         \u001b[0mcall\u001b[0m \u001b[1;33m=\u001b[0m \u001b[1;32mlambda\u001b[0m \u001b[0mf\u001b[0m\u001b[1;33m,\u001b[0m \u001b[1;33m*\u001b[0m\u001b[0ma\u001b[0m\u001b[1;33m,\u001b[0m \u001b[1;33m**\u001b[0m\u001b[0mk\u001b[0m\u001b[1;33m:\u001b[0m \u001b[0mf\u001b[0m\u001b[1;33m(\u001b[0m\u001b[1;33m*\u001b[0m\u001b[0ma\u001b[0m\u001b[1;33m,\u001b[0m \u001b[1;33m**\u001b[0m\u001b[0mk\u001b[0m\u001b[1;33m)\u001b[0m\u001b[1;33m\u001b[0m\u001b[0m\n\u001b[0m\u001b[1;32m    189\u001b[0m \u001b[1;33m\u001b[0m\u001b[0m\n\u001b[1;32m    190\u001b[0m         \u001b[1;32mif\u001b[0m \u001b[0mcallable\u001b[0m\u001b[1;33m(\u001b[0m\u001b[0marg\u001b[0m\u001b[1;33m)\u001b[0m\u001b[1;33m:\u001b[0m\u001b[1;33m\u001b[0m\u001b[0m\n",
      "\u001b[0;32m<decorator-gen-123>\u001b[0m in \u001b[0;36mexecute\u001b[0;34m(self, line, cell, local_ns)\u001b[0m\n",
      "\u001b[0;32mC:\\Program Files\\Anaconda3\\lib\\site-packages\\IPython\\core\\magic.py\u001b[0m in \u001b[0;36m<lambda>\u001b[0;34m(f, *a, **k)\u001b[0m\n\u001b[1;32m    186\u001b[0m     \u001b[1;31m# but it's overkill for just that one bit of state.\u001b[0m\u001b[1;33m\u001b[0m\u001b[1;33m\u001b[0m\u001b[0m\n\u001b[1;32m    187\u001b[0m     \u001b[1;32mdef\u001b[0m \u001b[0mmagic_deco\u001b[0m\u001b[1;33m(\u001b[0m\u001b[0marg\u001b[0m\u001b[1;33m)\u001b[0m\u001b[1;33m:\u001b[0m\u001b[1;33m\u001b[0m\u001b[0m\n\u001b[0;32m--> 188\u001b[0;31m         \u001b[0mcall\u001b[0m \u001b[1;33m=\u001b[0m \u001b[1;32mlambda\u001b[0m \u001b[0mf\u001b[0m\u001b[1;33m,\u001b[0m \u001b[1;33m*\u001b[0m\u001b[0ma\u001b[0m\u001b[1;33m,\u001b[0m \u001b[1;33m**\u001b[0m\u001b[0mk\u001b[0m\u001b[1;33m:\u001b[0m \u001b[0mf\u001b[0m\u001b[1;33m(\u001b[0m\u001b[1;33m*\u001b[0m\u001b[0ma\u001b[0m\u001b[1;33m,\u001b[0m \u001b[1;33m**\u001b[0m\u001b[0mk\u001b[0m\u001b[1;33m)\u001b[0m\u001b[1;33m\u001b[0m\u001b[0m\n\u001b[0m\u001b[1;32m    189\u001b[0m \u001b[1;33m\u001b[0m\u001b[0m\n\u001b[1;32m    190\u001b[0m         \u001b[1;32mif\u001b[0m \u001b[0mcallable\u001b[0m\u001b[1;33m(\u001b[0m\u001b[0marg\u001b[0m\u001b[1;33m)\u001b[0m\u001b[1;33m:\u001b[0m\u001b[1;33m\u001b[0m\u001b[0m\n",
      "\u001b[0;32mC:\\Program Files\\Anaconda3\\lib\\site-packages\\sql\\magic.py\u001b[0m in \u001b[0;36mexecute\u001b[0;34m(self, line, cell, local_ns)\u001b[0m\n\u001b[1;32m     85\u001b[0m \u001b[1;33m\u001b[0m\u001b[0m\n\u001b[1;32m     86\u001b[0m         \u001b[1;32mtry\u001b[0m\u001b[1;33m:\u001b[0m\u001b[1;33m\u001b[0m\u001b[0m\n\u001b[0;32m---> 87\u001b[0;31m             \u001b[0mresult\u001b[0m \u001b[1;33m=\u001b[0m \u001b[0msql\u001b[0m\u001b[1;33m.\u001b[0m\u001b[0mrun\u001b[0m\u001b[1;33m.\u001b[0m\u001b[0mrun\u001b[0m\u001b[1;33m(\u001b[0m\u001b[0mconn\u001b[0m\u001b[1;33m,\u001b[0m \u001b[0mparsed\u001b[0m\u001b[1;33m[\u001b[0m\u001b[1;34m'sql'\u001b[0m\u001b[1;33m]\u001b[0m\u001b[1;33m,\u001b[0m \u001b[0mself\u001b[0m\u001b[1;33m,\u001b[0m \u001b[0muser_ns\u001b[0m\u001b[1;33m)\u001b[0m\u001b[1;33m\u001b[0m\u001b[0m\n\u001b[0m\u001b[1;32m     88\u001b[0m \u001b[1;33m\u001b[0m\u001b[0m\n\u001b[1;32m     89\u001b[0m             \u001b[1;32mif\u001b[0m \u001b[0mresult\u001b[0m \u001b[1;32mand\u001b[0m \u001b[1;33m~\u001b[0m\u001b[0misinstance\u001b[0m\u001b[1;33m(\u001b[0m\u001b[0mresult\u001b[0m\u001b[1;33m,\u001b[0m \u001b[0mstr\u001b[0m\u001b[1;33m)\u001b[0m \u001b[1;32mand\u001b[0m \u001b[0mself\u001b[0m\u001b[1;33m.\u001b[0m\u001b[0mcolumn_local_vars\u001b[0m\u001b[1;33m:\u001b[0m\u001b[1;33m\u001b[0m\u001b[0m\n",
      "\u001b[0;32mC:\\Program Files\\Anaconda3\\lib\\site-packages\\sql\\run.py\u001b[0m in \u001b[0;36mrun\u001b[0;34m(conn, sql, config, user_namespace)\u001b[0m\n\u001b[1;32m    283\u001b[0m             \u001b[1;32mif\u001b[0m \u001b[0mresult\u001b[0m \u001b[1;32mand\u001b[0m \u001b[0mconfig\u001b[0m\u001b[1;33m.\u001b[0m\u001b[0mfeedback\u001b[0m\u001b[1;33m:\u001b[0m\u001b[1;33m\u001b[0m\u001b[0m\n\u001b[1;32m    284\u001b[0m                 \u001b[0mprint\u001b[0m\u001b[1;33m(\u001b[0m\u001b[0minterpret_rowcount\u001b[0m\u001b[1;33m(\u001b[0m\u001b[0mresult\u001b[0m\u001b[1;33m.\u001b[0m\u001b[0mrowcount\u001b[0m\u001b[1;33m)\u001b[0m\u001b[1;33m)\u001b[0m\u001b[1;33m\u001b[0m\u001b[0m\n\u001b[0;32m--> 285\u001b[0;31m         \u001b[0mresultset\u001b[0m \u001b[1;33m=\u001b[0m \u001b[0mResultSet\u001b[0m\u001b[1;33m(\u001b[0m\u001b[0mresult\u001b[0m\u001b[1;33m,\u001b[0m \u001b[0mstatement\u001b[0m\u001b[1;33m,\u001b[0m \u001b[0mconfig\u001b[0m\u001b[1;33m)\u001b[0m\u001b[1;33m\u001b[0m\u001b[0m\n\u001b[0m\u001b[1;32m    286\u001b[0m         \u001b[1;32mif\u001b[0m \u001b[0mconfig\u001b[0m\u001b[1;33m.\u001b[0m\u001b[0mautopandas\u001b[0m\u001b[1;33m:\u001b[0m\u001b[1;33m\u001b[0m\u001b[0m\n\u001b[1;32m    287\u001b[0m             \u001b[1;32mreturn\u001b[0m \u001b[0mresultset\u001b[0m\u001b[1;33m.\u001b[0m\u001b[0mDataFrame\u001b[0m\u001b[1;33m(\u001b[0m\u001b[1;33m)\u001b[0m\u001b[1;33m\u001b[0m\u001b[0m\n",
      "\u001b[0;32mC:\\Program Files\\Anaconda3\\lib\\site-packages\\sql\\run.py\u001b[0m in \u001b[0;36m__init__\u001b[0;34m(self, sqlaproxy, sql, config)\u001b[0m\n\u001b[1;32m    103\u001b[0m                 \u001b[0mlist\u001b[0m\u001b[1;33m.\u001b[0m\u001b[0m__init__\u001b[0m\u001b[1;33m(\u001b[0m\u001b[0mself\u001b[0m\u001b[1;33m,\u001b[0m \u001b[0msqlaproxy\u001b[0m\u001b[1;33m.\u001b[0m\u001b[0mfetchmany\u001b[0m\u001b[1;33m(\u001b[0m\u001b[0msize\u001b[0m\u001b[1;33m=\u001b[0m\u001b[0mself\u001b[0m\u001b[1;33m.\u001b[0m\u001b[0mlimit\u001b[0m\u001b[1;33m)\u001b[0m\u001b[1;33m)\u001b[0m\u001b[1;33m\u001b[0m\u001b[0m\n\u001b[1;32m    104\u001b[0m             \u001b[1;32melse\u001b[0m\u001b[1;33m:\u001b[0m\u001b[1;33m\u001b[0m\u001b[0m\n\u001b[0;32m--> 105\u001b[0;31m                 \u001b[0mlist\u001b[0m\u001b[1;33m.\u001b[0m\u001b[0m__init__\u001b[0m\u001b[1;33m(\u001b[0m\u001b[0mself\u001b[0m\u001b[1;33m,\u001b[0m \u001b[0msqlaproxy\u001b[0m\u001b[1;33m.\u001b[0m\u001b[0mfetchall\u001b[0m\u001b[1;33m(\u001b[0m\u001b[1;33m)\u001b[0m\u001b[1;33m)\u001b[0m\u001b[1;33m\u001b[0m\u001b[0m\n\u001b[0m\u001b[1;32m    106\u001b[0m             \u001b[0mself\u001b[0m\u001b[1;33m.\u001b[0m\u001b[0mfield_names\u001b[0m \u001b[1;33m=\u001b[0m \u001b[0munduplicate_field_names\u001b[0m\u001b[1;33m(\u001b[0m\u001b[0mself\u001b[0m\u001b[1;33m.\u001b[0m\u001b[0mkeys\u001b[0m\u001b[1;33m)\u001b[0m\u001b[1;33m\u001b[0m\u001b[0m\n\u001b[1;32m    107\u001b[0m             \u001b[0mself\u001b[0m\u001b[1;33m.\u001b[0m\u001b[0mpretty\u001b[0m \u001b[1;33m=\u001b[0m \u001b[0mprettytable\u001b[0m\u001b[1;33m.\u001b[0m\u001b[0mPrettyTable\u001b[0m\u001b[1;33m(\u001b[0m\u001b[0mself\u001b[0m\u001b[1;33m.\u001b[0m\u001b[0mfield_names\u001b[0m\u001b[1;33m)\u001b[0m\u001b[1;33m\u001b[0m\u001b[0m\n",
      "\u001b[0;32mC:\\Program Files\\Anaconda3\\lib\\site-packages\\sqlalchemy\\engine\\result.py\u001b[0m in \u001b[0;36mfetchall\u001b[0;34m(self)\u001b[0m\n\u001b[1;32m    968\u001b[0m             self.connection._handle_dbapi_exception(\n\u001b[1;32m    969\u001b[0m                 \u001b[0me\u001b[0m\u001b[1;33m,\u001b[0m \u001b[1;32mNone\u001b[0m\u001b[1;33m,\u001b[0m \u001b[1;32mNone\u001b[0m\u001b[1;33m,\u001b[0m\u001b[1;33m\u001b[0m\u001b[0m\n\u001b[0;32m--> 970\u001b[0;31m                 self.cursor, self.context)\n\u001b[0m\u001b[1;32m    971\u001b[0m \u001b[1;33m\u001b[0m\u001b[0m\n\u001b[1;32m    972\u001b[0m     \u001b[1;32mdef\u001b[0m \u001b[0mfetchmany\u001b[0m\u001b[1;33m(\u001b[0m\u001b[0mself\u001b[0m\u001b[1;33m,\u001b[0m \u001b[0msize\u001b[0m\u001b[1;33m=\u001b[0m\u001b[1;32mNone\u001b[0m\u001b[1;33m)\u001b[0m\u001b[1;33m:\u001b[0m\u001b[1;33m\u001b[0m\u001b[0m\n",
      "\u001b[0;32mC:\\Program Files\\Anaconda3\\lib\\site-packages\\sqlalchemy\\engine\\base.py\u001b[0m in \u001b[0;36m_handle_dbapi_exception\u001b[0;34m(self, e, statement, parameters, cursor, context)\u001b[0m\n\u001b[1;32m   1339\u001b[0m                 util.raise_from_cause(\n\u001b[1;32m   1340\u001b[0m                     \u001b[0msqlalchemy_exception\u001b[0m\u001b[1;33m,\u001b[0m\u001b[1;33m\u001b[0m\u001b[0m\n\u001b[0;32m-> 1341\u001b[0;31m                     \u001b[0mexc_info\u001b[0m\u001b[1;33m\u001b[0m\u001b[0m\n\u001b[0m\u001b[1;32m   1342\u001b[0m                 )\n\u001b[1;32m   1343\u001b[0m             \u001b[1;32melse\u001b[0m\u001b[1;33m:\u001b[0m\u001b[1;33m\u001b[0m\u001b[0m\n",
      "\u001b[0;32mC:\\Program Files\\Anaconda3\\lib\\site-packages\\sqlalchemy\\util\\compat.py\u001b[0m in \u001b[0;36mraise_from_cause\u001b[0;34m(exception, exc_info)\u001b[0m\n\u001b[1;32m    200\u001b[0m     \u001b[0mexc_type\u001b[0m\u001b[1;33m,\u001b[0m \u001b[0mexc_value\u001b[0m\u001b[1;33m,\u001b[0m \u001b[0mexc_tb\u001b[0m \u001b[1;33m=\u001b[0m \u001b[0mexc_info\u001b[0m\u001b[1;33m\u001b[0m\u001b[0m\n\u001b[1;32m    201\u001b[0m     \u001b[0mcause\u001b[0m \u001b[1;33m=\u001b[0m \u001b[0mexc_value\u001b[0m \u001b[1;32mif\u001b[0m \u001b[0mexc_value\u001b[0m \u001b[1;32mis\u001b[0m \u001b[1;32mnot\u001b[0m \u001b[0mexception\u001b[0m \u001b[1;32melse\u001b[0m \u001b[1;32mNone\u001b[0m\u001b[1;33m\u001b[0m\u001b[0m\n\u001b[0;32m--> 202\u001b[0;31m     \u001b[0mreraise\u001b[0m\u001b[1;33m(\u001b[0m\u001b[0mtype\u001b[0m\u001b[1;33m(\u001b[0m\u001b[0mexception\u001b[0m\u001b[1;33m)\u001b[0m\u001b[1;33m,\u001b[0m \u001b[0mexception\u001b[0m\u001b[1;33m,\u001b[0m \u001b[0mtb\u001b[0m\u001b[1;33m=\u001b[0m\u001b[0mexc_tb\u001b[0m\u001b[1;33m,\u001b[0m \u001b[0mcause\u001b[0m\u001b[1;33m=\u001b[0m\u001b[0mcause\u001b[0m\u001b[1;33m)\u001b[0m\u001b[1;33m\u001b[0m\u001b[0m\n\u001b[0m\u001b[1;32m    203\u001b[0m \u001b[1;33m\u001b[0m\u001b[0m\n\u001b[1;32m    204\u001b[0m \u001b[1;32mif\u001b[0m \u001b[0mpy3k\u001b[0m\u001b[1;33m:\u001b[0m\u001b[1;33m\u001b[0m\u001b[0m\n",
      "\u001b[0;32mC:\\Program Files\\Anaconda3\\lib\\site-packages\\sqlalchemy\\util\\compat.py\u001b[0m in \u001b[0;36mreraise\u001b[0;34m(tp, value, tb, cause)\u001b[0m\n\u001b[1;32m    183\u001b[0m             \u001b[0mvalue\u001b[0m\u001b[1;33m.\u001b[0m\u001b[0m__cause__\u001b[0m \u001b[1;33m=\u001b[0m \u001b[0mcause\u001b[0m\u001b[1;33m\u001b[0m\u001b[0m\n\u001b[1;32m    184\u001b[0m         \u001b[1;32mif\u001b[0m \u001b[0mvalue\u001b[0m\u001b[1;33m.\u001b[0m\u001b[0m__traceback__\u001b[0m \u001b[1;32mis\u001b[0m \u001b[1;32mnot\u001b[0m \u001b[0mtb\u001b[0m\u001b[1;33m:\u001b[0m\u001b[1;33m\u001b[0m\u001b[0m\n\u001b[0;32m--> 185\u001b[0;31m             \u001b[1;32mraise\u001b[0m \u001b[0mvalue\u001b[0m\u001b[1;33m.\u001b[0m\u001b[0mwith_traceback\u001b[0m\u001b[1;33m(\u001b[0m\u001b[0mtb\u001b[0m\u001b[1;33m)\u001b[0m\u001b[1;33m\u001b[0m\u001b[0m\n\u001b[0m\u001b[1;32m    186\u001b[0m         \u001b[1;32mraise\u001b[0m \u001b[0mvalue\u001b[0m\u001b[1;33m\u001b[0m\u001b[0m\n\u001b[1;32m    187\u001b[0m \u001b[1;33m\u001b[0m\u001b[0m\n",
      "\u001b[0;32mC:\\Program Files\\Anaconda3\\lib\\site-packages\\sqlalchemy\\engine\\result.py\u001b[0m in \u001b[0;36mfetchall\u001b[0;34m(self)\u001b[0m\n\u001b[1;32m    962\u001b[0m \u001b[1;33m\u001b[0m\u001b[0m\n\u001b[1;32m    963\u001b[0m         \u001b[1;32mtry\u001b[0m\u001b[1;33m:\u001b[0m\u001b[1;33m\u001b[0m\u001b[0m\n\u001b[0;32m--> 964\u001b[0;31m             \u001b[0ml\u001b[0m \u001b[1;33m=\u001b[0m \u001b[0mself\u001b[0m\u001b[1;33m.\u001b[0m\u001b[0mprocess_rows\u001b[0m\u001b[1;33m(\u001b[0m\u001b[0mself\u001b[0m\u001b[1;33m.\u001b[0m\u001b[0m_fetchall_impl\u001b[0m\u001b[1;33m(\u001b[0m\u001b[1;33m)\u001b[0m\u001b[1;33m)\u001b[0m\u001b[1;33m\u001b[0m\u001b[0m\n\u001b[0m\u001b[1;32m    965\u001b[0m             \u001b[0mself\u001b[0m\u001b[1;33m.\u001b[0m\u001b[0m_soft_close\u001b[0m\u001b[1;33m(\u001b[0m\u001b[1;33m)\u001b[0m\u001b[1;33m\u001b[0m\u001b[0m\n\u001b[1;32m    966\u001b[0m             \u001b[1;32mreturn\u001b[0m \u001b[0ml\u001b[0m\u001b[1;33m\u001b[0m\u001b[0m\n",
      "\u001b[0;32mC:\\Program Files\\Anaconda3\\lib\\site-packages\\sqlalchemy\\engine\\result.py\u001b[0m in \u001b[0;36m_fetchall_impl\u001b[0;34m(self)\u001b[0m\n\u001b[1;32m    913\u001b[0m     \u001b[1;32mdef\u001b[0m \u001b[0m_fetchall_impl\u001b[0m\u001b[1;33m(\u001b[0m\u001b[0mself\u001b[0m\u001b[1;33m)\u001b[0m\u001b[1;33m:\u001b[0m\u001b[1;33m\u001b[0m\u001b[0m\n\u001b[1;32m    914\u001b[0m         \u001b[1;32mtry\u001b[0m\u001b[1;33m:\u001b[0m\u001b[1;33m\u001b[0m\u001b[0m\n\u001b[0;32m--> 915\u001b[0;31m             \u001b[1;32mreturn\u001b[0m \u001b[0mself\u001b[0m\u001b[1;33m.\u001b[0m\u001b[0mcursor\u001b[0m\u001b[1;33m.\u001b[0m\u001b[0mfetchall\u001b[0m\u001b[1;33m(\u001b[0m\u001b[1;33m)\u001b[0m\u001b[1;33m\u001b[0m\u001b[0m\n\u001b[0m\u001b[1;32m    916\u001b[0m         \u001b[1;32mexcept\u001b[0m \u001b[0mAttributeError\u001b[0m\u001b[1;33m:\u001b[0m\u001b[1;33m\u001b[0m\u001b[0m\n\u001b[1;32m    917\u001b[0m             \u001b[1;32mreturn\u001b[0m \u001b[0mself\u001b[0m\u001b[1;33m.\u001b[0m\u001b[0m_non_result\u001b[0m\u001b[1;33m(\u001b[0m\u001b[1;33m[\u001b[0m\u001b[1;33m]\u001b[0m\u001b[1;33m)\u001b[0m\u001b[1;33m\u001b[0m\u001b[0m\n",
      "\u001b[0;32mC:\\Program Files\\Anaconda3\\lib\\site-packages\\ibm_db-2.0.7-py3.5.egg\\ibm_db_dbi.py\u001b[0m in \u001b[0;36mfetchall\u001b[0;34m(self)\u001b[0m\n\u001b[1;32m   1459\u001b[0m         \u001b[0mafter\u001b[0m \u001b[0mexecuting\u001b[0m \u001b[0man\u001b[0m \u001b[0mSQL\u001b[0m \u001b[0mstatement\u001b[0m \u001b[0mwhich\u001b[0m \u001b[0mproduces\u001b[0m \u001b[0ma\u001b[0m \u001b[0mresult\u001b[0m \u001b[0mset\u001b[0m\u001b[1;33m.\u001b[0m\u001b[1;33m\u001b[0m\u001b[0m\n\u001b[1;32m   1460\u001b[0m         \"\"\"\n\u001b[0;32m-> 1461\u001b[0;31m         \u001b[1;32mreturn\u001b[0m \u001b[0mself\u001b[0m\u001b[1;33m.\u001b[0m\u001b[0m_fetch_helper\u001b[0m\u001b[1;33m(\u001b[0m\u001b[1;33m)\u001b[0m\u001b[1;33m\u001b[0m\u001b[0m\n\u001b[0m\u001b[1;32m   1462\u001b[0m \u001b[1;33m\u001b[0m\u001b[0m\n\u001b[1;32m   1463\u001b[0m     \u001b[1;32mdef\u001b[0m \u001b[0mnextset\u001b[0m\u001b[1;33m(\u001b[0m\u001b[0mself\u001b[0m\u001b[1;33m)\u001b[0m\u001b[1;33m:\u001b[0m\u001b[1;33m\u001b[0m\u001b[0m\n",
      "\u001b[0;32mC:\\Program Files\\Anaconda3\\lib\\site-packages\\ibm_db-2.0.7-py3.5.egg\\ibm_db_dbi.py\u001b[0m in \u001b[0;36m_fetch_helper\u001b[0;34m(self, fetch_size)\u001b[0m\n\u001b[1;32m   1416\u001b[0m                 \u001b[0mself\u001b[0m\u001b[1;33m.\u001b[0m\u001b[0mmessages\u001b[0m\u001b[1;33m.\u001b[0m\u001b[0mappend\u001b[0m\u001b[1;33m(\u001b[0m\u001b[0m_get_exception\u001b[0m\u001b[1;33m(\u001b[0m\u001b[0minst\u001b[0m\u001b[1;33m)\u001b[0m\u001b[1;33m)\u001b[0m\u001b[1;33m\u001b[0m\u001b[0m\n\u001b[1;32m   1417\u001b[0m                 \u001b[1;32mif\u001b[0m \u001b[0mlen\u001b[0m\u001b[1;33m(\u001b[0m\u001b[0mrow_list\u001b[0m\u001b[1;33m)\u001b[0m \u001b[1;33m==\u001b[0m \u001b[1;36m0\u001b[0m\u001b[1;33m:\u001b[0m\u001b[1;33m\u001b[0m\u001b[0m\n\u001b[0;32m-> 1418\u001b[0;31m                     \u001b[1;32mraise\u001b[0m \u001b[0mself\u001b[0m\u001b[1;33m.\u001b[0m\u001b[0mmessages\u001b[0m\u001b[1;33m[\u001b[0m\u001b[0mlen\u001b[0m\u001b[1;33m(\u001b[0m\u001b[0mself\u001b[0m\u001b[1;33m.\u001b[0m\u001b[0mmessages\u001b[0m\u001b[1;33m)\u001b[0m \u001b[1;33m-\u001b[0m \u001b[1;36m1\u001b[0m\u001b[1;33m]\u001b[0m\u001b[1;33m\u001b[0m\u001b[0m\n\u001b[0m\u001b[1;32m   1419\u001b[0m                 \u001b[1;32melse\u001b[0m\u001b[1;33m:\u001b[0m\u001b[1;33m\u001b[0m\u001b[0m\n\u001b[1;32m   1420\u001b[0m                     \u001b[1;32mreturn\u001b[0m \u001b[0mrow_list\u001b[0m\u001b[1;33m\u001b[0m\u001b[0m\n",
      "\u001b[0;31mInternalError\u001b[0m: (ibm_db_dbi.InternalError) ibm_db_dbi::InternalError: Fetch Failure: [IBM][CLI Driver] CLI0115E  Invalid cursor state. SQLSTATE=24000 SQLCODE=-99999"
     ]
    }
   ],
   "source": [
    "%sql set current explain mode explain\n",
    "# Below will return CLI0115E, but that is expected and it works fine.\n",
    "%sql select bpname from syscat.bufferpools"
   ]
  },
  {
   "cell_type": "code",
   "execution_count": 24,
   "metadata": {
    "collapsed": false
   },
   "outputs": [
    {
     "name": "stdout",
     "output_type": "stream",
     "text": [
      "Done.\n"
     ]
    },
    {
     "data": {
      "text/plain": [
       "[]"
      ]
     },
     "execution_count": 24,
     "metadata": {},
     "output_type": "execute_result"
    }
   ],
   "source": [
    "%sql set current explain mode no"
   ]
  },
  {
   "cell_type": "code",
   "execution_count": 25,
   "metadata": {
    "collapsed": false,
    "scrolled": true
   },
   "outputs": [
    {
     "name": "stdout",
     "output_type": "stream",
     "text": [
      "Connecting to the Database.\n"
     ]
    },
    {
     "name": "stderr",
     "output_type": "stream",
     "text": [
      "DB2 Universal Database Version 11.1, 5622-044 (c) Copyright IBM Corp. 1991, 2015\n",
      "Licensed Material - Program Property of IBM\n",
      "IBM DATABASE 2 Explain Table Format Tool\n",
      "\n",
      "Connect to Database Successful.\n",
      "Using SYSTOOLS schema for Explain tables.\n",
      "Output is in query_exfmt.txt.\n",
      "Executing Connect Reset -- Connect Reset was Successful.\n"
     ]
    }
   ],
   "source": [
    "!db2exfmt -d SAMPLE -1 -o query_exfmt.txt"
   ]
  },
  {
   "cell_type": "code",
   "execution_count": 26,
   "metadata": {
    "collapsed": false
   },
   "outputs": [
    {
     "name": "stdout",
     "output_type": "stream",
     "text": [
      "\n",
      "-----------\n",
      "\tTotal Cost: \t\t0.0034452\n",
      "\tQuery Degree:\t\t1\n",
      "\n",
      "\n",
      "       Rows\n",
      "      RETURN\n",
      "      (   1)\n",
      "       Cost\n",
      "        I/O\n",
      "        |\n",
      "         1\n",
      "      IXSCAN\n",
      "      (   2)\n",
      "     0.0034452\n",
      "         0\n",
      "        |\n",
      "         1\n",
      "  INDEX: SYSIBM\n",
      " INDBUFFERPOOLS01\n",
      "        Q1\n",
      "\n",
      "\n",
      "\n"
     ]
    }
   ],
   "source": [
    "with open(\"query_exfmt.txt\") as f:\n",
    "    for line in f:\n",
    "        if line.rstrip() == \"Access Plan:\":\n",
    "            print(\"\")\n",
    "            for line in f:\n",
    "                if line.rstrip() == \"Extended Diagnostic Information:\":\n",
    "                    break\n",
    "                print(line.rstrip())"
   ]
  },
  {
   "cell_type": "code",
   "execution_count": null,
   "metadata": {
    "collapsed": true
   },
   "outputs": [],
   "source": []
  }
 ],
 "metadata": {
  "anaconda-cloud": {},
  "kernelspec": {
   "display_name": "Python [default]",
   "language": "python",
   "name": "python3"
  },
  "language_info": {
   "codemirror_mode": {
    "name": "ipython",
    "version": 3
   },
   "file_extension": ".py",
   "mimetype": "text/x-python",
   "name": "python",
   "nbconvert_exporter": "python",
   "pygments_lexer": "ipython3",
   "version": "3.5.2"
  },
  "nbpresent": {
   "slides": {
    "22dcdcf5-66fa-44b1-a05f-d8e97245d75f": {
     "id": "22dcdcf5-66fa-44b1-a05f-d8e97245d75f",
     "prev": "461a097d-8043-4fb5-9ea9-7e70ad715410",
     "regions": {
      "6b013448-d8a6-4960-90f2-351fbea524c0": {
       "attrs": {
        "height": 1,
        "width": 1,
        "x": 0,
        "y": 0
       },
       "content": {
        "cell": "3d3036b2-9850-4506-8e41-60d40c788d18",
        "part": "source"
       },
       "id": "6b013448-d8a6-4960-90f2-351fbea524c0"
      }
     }
    },
    "2c446d31-ad6f-495f-98d8-3861623b455d": {
     "id": "2c446d31-ad6f-495f-98d8-3861623b455d",
     "prev": "22dcdcf5-66fa-44b1-a05f-d8e97245d75f",
     "regions": {
      "b1bd1972-69fc-4165-a61b-76a647b9a30c": {
       "attrs": {
        "height": 1,
        "width": 1,
        "x": 0,
        "y": 0
       },
       "content": {
        "cell": "ebd7d540-a6fa-4c84-b2af-2490266d9b3e",
        "part": "source"
       },
       "id": "b1bd1972-69fc-4165-a61b-76a647b9a30c"
      }
     }
    },
    "461a097d-8043-4fb5-9ea9-7e70ad715410": {
     "id": "461a097d-8043-4fb5-9ea9-7e70ad715410",
     "prev": null,
     "regions": {}
    },
    "52ca4573-7087-44b4-b05b-1695aafc3b91": {
     "id": "52ca4573-7087-44b4-b05b-1695aafc3b91",
     "prev": "e2383d77-142f-4e5f-bbfa-0cf3d663a4df",
     "regions": {
      "9097c9d5-db69-4d35-bc75-3f7b8b29b7ac": {
       "attrs": {
        "height": 1,
        "width": 1,
        "x": 0,
        "y": 0
       },
       "content": {
        "cell": "cbed146e-26ba-4018-8484-82b00a1b660b",
        "part": "whole"
       },
       "id": "9097c9d5-db69-4d35-bc75-3f7b8b29b7ac"
      }
     }
    },
    "e2383d77-142f-4e5f-bbfa-0cf3d663a4df": {
     "id": "e2383d77-142f-4e5f-bbfa-0cf3d663a4df",
     "prev": "2c446d31-ad6f-495f-98d8-3861623b455d",
     "regions": {
      "c635ca58-76be-4688-95e3-01922e02cb7b": {
       "attrs": {
        "height": 1,
        "width": 1,
        "x": 0,
        "y": 0
       },
       "content": {
        "cell": "0b310267-394a-49dc-8174-0a3abfbd0aa9",
        "part": "source"
       },
       "id": "c635ca58-76be-4688-95e3-01922e02cb7b"
      }
     }
    }
   },
   "themes": {
    "default": "2f570158-7278-4683-91a6-124381af0191",
    "theme": {
     "2f570158-7278-4683-91a6-124381af0191": {
      "id": "2f570158-7278-4683-91a6-124381af0191",
      "palette": {
       "19cc588f-0593-49c9-9f4b-e4d7cc113b1c": {
        "id": "19cc588f-0593-49c9-9f4b-e4d7cc113b1c",
        "rgb": [
         252,
         252,
         252
        ]
       },
       "31af15d2-7e15-44c5-ab5e-e04b16a89eff": {
        "id": "31af15d2-7e15-44c5-ab5e-e04b16a89eff",
        "rgb": [
         68,
         68,
         68
        ]
       },
       "50f92c45-a630-455b-aec3-788680ec7410": {
        "id": "50f92c45-a630-455b-aec3-788680ec7410",
        "rgb": [
         155,
         177,
         192
        ]
       },
       "c5cc3653-2ee1-402a-aba2-7caae1da4f6c": {
        "id": "c5cc3653-2ee1-402a-aba2-7caae1da4f6c",
        "rgb": [
         43,
         126,
         184
        ]
       },
       "efa7f048-9acb-414c-8b04-a26811511a21": {
        "id": "efa7f048-9acb-414c-8b04-a26811511a21",
        "rgb": [
         25.118061674008803,
         73.60176211453744,
         107.4819383259912
        ]
       }
      },
      "rules": {
       "blockquote": {
        "color": "50f92c45-a630-455b-aec3-788680ec7410"
       },
       "code": {
        "font-family": "Anonymous Pro"
       },
       "h1": {
        "color": "c5cc3653-2ee1-402a-aba2-7caae1da4f6c",
        "font-family": "Lato",
        "font-size": 8
       },
       "h2": {
        "color": "c5cc3653-2ee1-402a-aba2-7caae1da4f6c",
        "font-family": "Lato",
        "font-size": 6
       },
       "h3": {
        "color": "50f92c45-a630-455b-aec3-788680ec7410",
        "font-family": "Lato",
        "font-size": 5.5
       },
       "h4": {
        "color": "c5cc3653-2ee1-402a-aba2-7caae1da4f6c",
        "font-family": "Lato",
        "font-size": 5
       },
       "h5": {
        "font-family": "Lato"
       },
       "h6": {
        "font-family": "Lato"
       },
       "h7": {
        "font-family": "Lato"
       },
       "pre": {
        "font-family": "Anonymous Pro",
        "font-size": 4
       }
      },
      "text-base": {
       "font-family": "Merriweather",
       "font-size": 4
      }
     }
    }
   }
  }
 },
 "nbformat": 4,
 "nbformat_minor": 1
}
