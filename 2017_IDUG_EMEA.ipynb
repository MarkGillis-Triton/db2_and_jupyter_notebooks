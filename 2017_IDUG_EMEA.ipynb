{
 "cells": [
  {
   "cell_type": "markdown",
   "metadata": {
    "slideshow": {
     "slide_type": "skip"
    }
   },
   "source": [
    "# Hello, _nbpresent_!"
   ]
  },
  {
   "cell_type": "code",
   "execution_count": null,
   "metadata": {
    "slideshow": {
     "slide_type": "skip"
    }
   },
   "outputs": [],
   "source": [
    "import nbpresent\n",
    "nbpresent.__version__"
   ]
  },
  {
   "cell_type": "markdown",
   "metadata": {
    "nbpresent": {
     "id": "9b43f362-3c2a-437a-b0bc-173a90c6cf95"
    },
    "slideshow": {
     "slide_type": "slide"
    }
   },
   "source": [
    "# Using Jupyter Notebook for Db2 Administration\n",
    "&nbsp;&nbsp;&nbsp;&nbsp;Ember Crooks\n",
    "\n",
    "&nbsp;&nbsp;&nbsp;&nbsp;XTIVIA\n",
    "\n",
    "&nbsp;&nbsp;&nbsp;&nbsp;Session Code: F17\n",
    "\n",
    "&nbsp;&nbsp;&nbsp;&nbsp;Thursday, 5th of October 09:40-10:40"
   ]
  },
  {
   "cell_type": "markdown",
   "metadata": {
    "nbpresent": {
     "id": "d46de732-8785-4f86-891a-ba81ce2f3017"
    },
    "slideshow": {
     "slide_type": "fragment"
    }
   },
   "source": [
    "## Setting up this Jupyter Notebook"
   ]
  },
  {
   "cell_type": "markdown",
   "metadata": {
    "nbpresent": {
     "id": "43dd3a53-43a9-4649-8082-4cd7fec217ab"
    },
    "slideshow": {
     "slide_type": "fragment"
    }
   },
   "source": [
    "This notebook should be launched from a session of jupyter notebook that was launched from a DB2 command window\n",
    "To do this, run an administrator DB2 command window as an administrator and type 'jupyter notebook'"
   ]
  },
  {
   "cell_type": "markdown",
   "metadata": {
    "nbpresent": {
     "id": "1bba32b6-b80a-4b4b-996f-cb9e50713343"
    },
    "slideshow": {
     "slide_type": "slide"
    }
   },
   "source": [
    "## Jupyter Notebook"
   ]
  },
  {
   "cell_type": "markdown",
   "metadata": {
    "nbpresent": {
     "id": "3d3036b2-9850-4506-8e41-60d40c788d18"
    },
    "slideshow": {
     "slide_type": "slide"
    }
   },
   "source": [
    "### What is Jupyter Notebook?\n",
    "- Open-source web application that allows you to create and share documents that contain live code, equations, visualizations, and explanatory text.\n",
    "- Heavily used in Data Science\n",
    "- Supports a large number of programming languages, including SQL\n",
    "- Requires Python\n",
    "- Easiest to install by [installing Anaconda](https://www.continuum.io/downloads)"
   ]
  },
  {
   "cell_type": "markdown",
   "metadata": {
    "nbpresent": {
     "id": "ebd7d540-a6fa-4c84-b2af-2490266d9b3e"
    },
    "slideshow": {
     "slide_type": "slide"
    }
   },
   "source": [
    "### Jupyter Notebook Terms\n",
    "- **Application**\n",
    "    - Server-client application that allows editing and running notebook document via web browser\n",
    "    - Can run on a local laptop/desktop or a remote server\n",
    "- **Kernel**\n",
    "    - Computational engine that execute the code contained in the notebook\n",
    "    - ipython kernel executes python – kernels for other languages exist\n",
    "    - Each running notebook has a different instnace of a Kernel\n",
    "- **Notebook Dashboard**\n",
    "    - Shown in browser when you launch Jupyter Notebook\n",
    "    - Features similar to a file manager\n",
    "    - Used to open notebooks and manage the running kernels"
   ]
  },
  {
   "cell_type": "markdown",
   "metadata": {
    "slideshow": {
     "slide_type": "slide"
    }
   },
   "source": [
    "### More Jupyter Notebook Terms\n",
    "- **Notebook document or notebooks**\n",
    "    - Produced by the Jupyter Notebook App\n",
    "    - Contains both computer code and rich text elements\n",
    "- **Cell**\n",
    "    - Portion of a notebook that is either markdown-formatted text or code\n",
    "    - Each cell can be independently executed in any order, but convention dictates they be executed in order\n",
    "- **Magic**\n",
    "    - Called with a command line style syntax\n",
    "    - Magic Functions work at the cell or line level"
   ]
  },
  {
   "cell_type": "markdown",
   "metadata": {
    "nbpresent": {
     "id": "0b310267-394a-49dc-8174-0a3abfbd0aa9"
    },
    "slideshow": {
     "slide_type": "slide"
    }
   },
   "source": [
    "### Installing Jupyter Notebook on Windows\n",
    "- [Download Anaconda](https://www.continuum.io/downloads)\n",
    "- Install Anaconda, accepting the defaults\n",
    "- Install at least a DB2 Client\n",
    "- Download and install [visual studio tools](http://landinghub.visualstudio.com/visual-cpp-build-tools)\n",
    "\n",
    "- Jupyter Notebook is likely to be installed on a DB2 client such as your laptop or a jump server"
   ]
  },
  {
   "cell_type": "markdown",
   "metadata": {
    "slideshow": {
     "slide_type": "slide"
    }
   },
   "source": [
    "### Launching Jupyter Notebook on Windows\n",
    "- Launch Jupyter Notebook from a DB2 Command Window PowerShell window with the Db2 environment variables set\n",
    "- Cd to directory where Jupyter Notebooks are stored, first\n",
    "![screenshot](files/LaunchJupyterNotebook.jpg)"
   ]
  },
  {
   "cell_type": "markdown",
   "metadata": {},
   "source": [
    "### Jupyter Notebook Basics\n",
    "[Basics of Jupyter Notebook](BasicsOfJupyterNotebook.ipynb)"
   ]
  },
  {
   "cell_type": "markdown",
   "metadata": {},
   "source": [
    "### Setting up Jupyter Notebook for use with SQL Magic"
   ]
  },
  {
   "cell_type": "markdown",
   "metadata": {},
   "source": [
    "#### Install Packages"
   ]
  },
  {
   "cell_type": "code",
   "execution_count": null,
   "metadata": {
    "slideshow": {
     "slide_type": "fragment"
    }
   },
   "outputs": [],
   "source": [
    "import sys,os,os.path\n",
    "os.environ['DB2INSTANCE']"
   ]
  },
  {
   "cell_type": "code",
   "execution_count": null,
   "metadata": {
    "nbpresent": {
     "id": "95241d45-433d-4496-8f39-d0f837d8b996"
    },
    "slideshow": {
     "slide_type": "fragment"
    }
   },
   "outputs": [],
   "source": [
    "## This cell only needs to be executed if these packages have not been previously installed\n",
    "#Uncomment the below line and set to the proper value if installing these for the first time\n",
    "#os.environ['IBM_DB_HOME']='C:\\Program Files\\IBM\\SQLLIB_01'\n",
    "!pip install ipython-sql\n",
    "!pip install ibm_db \n",
    "!pip install ibm_db_sa"
   ]
  },
  {
   "cell_type": "markdown",
   "metadata": {
    "nbpresent": {
     "id": "ab685115-6255-4892-9384-f0253ba1f721"
    },
    "slideshow": {
     "slide_type": "fragment"
    }
   },
   "source": [
    "Restart the Kernel if this is your first time installing the above. The next steps will fail unless you do this."
   ]
  },
  {
   "cell_type": "markdown",
   "metadata": {
    "nbpresent": {
     "id": "70182fca-ecdb-4715-8bb9-ac83896863f2"
    },
    "slideshow": {
     "slide_type": "fragment"
    }
   },
   "source": [
    "#### Import the modules and load SQL magic"
   ]
  },
  {
   "cell_type": "code",
   "execution_count": 1,
   "metadata": {
    "nbpresent": {
     "id": "260b111a-56b1-4fca-a537-87f9e6228f8a"
    },
    "slideshow": {
     "slide_type": "fragment"
    }
   },
   "outputs": [],
   "source": [
    "## This cell must be executed any time the Kernel is started or restarted\n",
    "import ibm_db\n",
    "import ibm_db_sa\n",
    "import sqlalchemy\n",
    "%load_ext sql"
   ]
  },
  {
   "cell_type": "markdown",
   "metadata": {
    "nbpresent": {
     "id": "63650235-818b-4e16-a2ca-3135c3eb289a"
    },
    "slideshow": {
     "slide_type": "fragment"
    }
   },
   "source": [
    "#### Connect to the database. \n",
    "- Change the values of user, host, and password to match your environment. \n",
    "- For connection to a local database, use 'localhost' for the host name. \n",
    "- Also change the port number and database name in the connection string.\n",
    "- Minimally, the password is stored in a separate file for easier sharing"
   ]
  },
  {
   "cell_type": "code",
   "execution_count": 2,
   "metadata": {
    "nbpresent": {
     "id": "3b5451a6-6da4-4599-92cf-6ab4827d0991"
    },
    "slideshow": {
     "slide_type": "fragment"
    }
   },
   "outputs": [
    {
     "data": {
      "text/plain": [
       "'Connected: db2admin@SAMPLE'"
      ]
     },
     "execution_count": 2,
     "metadata": {},
     "output_type": "execute_result"
    }
   ],
   "source": [
    "user='db2admin'\n",
    "host='localhost'\n",
    "# Define filename for passwords\n",
    "filename = 'ember_variables.py'\n",
    "# source the file\n",
    "%run $filename\n",
    "password = LocalDB2password\n",
    "\n",
    "%sql db2+ibm_db://$user:$password@$host:50000/SAMPLE"
   ]
  },
  {
   "cell_type": "markdown",
   "metadata": {},
   "source": [
    "Explicitly closing connections is not currently possible"
   ]
  },
  {
   "cell_type": "markdown",
   "metadata": {
    "slideshow": {
     "slide_type": "slide"
    }
   },
   "source": [
    "### Using SQL in Jupyter Notebook \n",
    "- SQL magic makes SQL quick and easy\n",
    "- DB2 commands can be executed when the notebook was launched from a command window, when prefixed with !\n",
    "- Limited options available in sql magic - full ibm_db offers more options using Python or the core language of your choice"
   ]
  },
  {
   "cell_type": "markdown",
   "metadata": {},
   "source": [
    "### Jupyter Notebook and SQL Magic Topics\n",
    "- How does commit processing work by default and how can you change it?\n",
    "- Using SQL magic for whole cell vs. line by line\n",
    "- Displaying data in interesting ways\n",
    "- Using host variables/parameter markers\n",
    "- Explains"
   ]
  },
  {
   "cell_type": "markdown",
   "metadata": {
    "slideshow": {
     "slide_type": "fragment"
    }
   },
   "source": [
    "### Jupyter Notebook and Commit Processing\n",
    "- Autocommit is on\n",
    "- More advanced controls available through traditonal python syntax for the ibm_db driver"
   ]
  },
  {
   "cell_type": "code",
   "execution_count": null,
   "metadata": {
    "slideshow": {
     "slide_type": "fragment"
    }
   },
   "outputs": [],
   "source": [
    "%sql drop table temp_sales\n",
    "%sql create table temp_sales like ember.sales"
   ]
  },
  {
   "cell_type": "code",
   "execution_count": null,
   "metadata": {
    "slideshow": {
     "slide_type": "fragment"
    }
   },
   "outputs": [],
   "source": [
    "%sql insert into temp_sales select * from ember.sales"
   ]
  },
  {
   "cell_type": "code",
   "execution_count": null,
   "metadata": {
    "slideshow": {
     "slide_type": "fragment"
    }
   },
   "outputs": [],
   "source": [
    "%sql select count(*) from temp_sales"
   ]
  },
  {
   "cell_type": "code",
   "execution_count": null,
   "metadata": {
    "slideshow": {
     "slide_type": "fragment"
    }
   },
   "outputs": [],
   "source": [
    "%sql insert into temp_sales select * from ember.sales\n",
    "%sql rollback\n",
    "%sql select count(*) from temp_sales"
   ]
  },
  {
   "cell_type": "markdown",
   "metadata": {
    "slideshow": {
     "slide_type": "fragment"
    }
   },
   "source": [
    "### Using SQL Magic at the Cell Level vs. the Line Level\n",
    "- Line Level\n",
    "    - Each line is prefixed with %\n",
    "    - If a command fails, subsequent lines are still executed\n",
    "- Cell Level\n",
    "    - Using SQL Magic at the cell level involves starting a Cell with %%sql\n",
    "    - All lines in the cell are then interpreted as SQL\n",
    "    - If a command fails, subsequent lines are not executed"
   ]
  },
  {
   "cell_type": "code",
   "execution_count": null,
   "metadata": {
    "slideshow": {
     "slide_type": "fragment"
    }
   },
   "outputs": [],
   "source": [
    "%%sql\n",
    "--sql magic at the cell level\n",
    "select * from syscat.tables;\n",
    "select * from dual;\n",
    "select * from syscat.bufferpools;"
   ]
  },
  {
   "cell_type": "code",
   "execution_count": null,
   "metadata": {
    "slideshow": {
     "slide_type": "fragment"
    }
   },
   "outputs": [],
   "source": [
    "#sql magic at the line level\n",
    "%sql select * from syscat.tables;\n",
    "%sql select * from dual;\n",
    "%sql select * from syscat.bufferpools;"
   ]
  },
  {
   "cell_type": "markdown",
   "metadata": {},
   "source": [
    "### Displaying Data in Interesting Ways"
   ]
  },
  {
   "cell_type": "code",
   "execution_count": 5,
   "metadata": {},
   "outputs": [],
   "source": [
    "#Import stuff we need\n",
    "import matplotlib.pyplot as plt\n",
    "import matplotlib.dates as mdates\n",
    "import datetime as dt\n",
    "import numpy as np\n",
    "import pandas as pd\n",
    "\n",
    "# All plots should be inline, inside the notebook\n",
    "%matplotlib inline"
   ]
  },
  {
   "cell_type": "code",
   "execution_count": 6,
   "metadata": {},
   "outputs": [
    {
     "name": "stdout",
     "output_type": "stream",
     "text": [
      " * db2+ibm_db://db2admin:***@localhost:50000/SAMPLE\n",
      "Done.\n"
     ]
    },
    {
     "data": {
      "text/plain": [
       "([<matplotlib.patches.Wedge at 0x23df381cc18>,\n",
       "  <matplotlib.patches.Wedge at 0x23df382a128>,\n",
       "  <matplotlib.patches.Wedge at 0x23df382a5f8>,\n",
       "  <matplotlib.patches.Wedge at 0x23df382ab00>,\n",
       "  <matplotlib.patches.Wedge at 0x23df3832080>,\n",
       "  <matplotlib.patches.Wedge at 0x23df38325c0>,\n",
       "  <matplotlib.patches.Wedge at 0x23df3832b00>,\n",
       "  <matplotlib.patches.Wedge at 0x23df383c080>,\n",
       "  <matplotlib.patches.Wedge at 0x23df383c5c0>,\n",
       "  <matplotlib.patches.Wedge at 0x23df383cb00>,\n",
       "  <matplotlib.patches.Wedge at 0x23df3545630>,\n",
       "  <matplotlib.patches.Wedge at 0x23df3845588>,\n",
       "  <matplotlib.patches.Wedge at 0x23df3845ac8>,\n",
       "  <matplotlib.patches.Wedge at 0x23df384f048>,\n",
       "  <matplotlib.patches.Wedge at 0x23df384f588>,\n",
       "  <matplotlib.patches.Wedge at 0x23df384fac8>,\n",
       "  <matplotlib.patches.Wedge at 0x23df3857048>],\n",
       " [Text(0.471053,0.994037,'VARCHAR'),\n",
       "  Text(-1.04888,0.331444,'CHARACTER'),\n",
       "  Text(-0.831325,-0.720347,'BIGINT'),\n",
       "  Text(-0.110786,-1.09441,'INTEGER'),\n",
       "  Text(0.55031,-0.952449,'SMALLINT'),\n",
       "  Text(0.903945,-0.626804,'TIMESTAMP'),\n",
       "  Text(1.01101,-0.433426,'DECIMAL'),\n",
       "  Text(1.05738,-0.303213,'DOUBLE'),\n",
       "  Text(1.08413,-0.186201,'CLOB'),\n",
       "  Text(1.096,-0.0937052,'BLOB'),\n",
       "  Text(1.09912,-0.0439492,'DATE'),\n",
       "  Text(1.0998,-0.020907,'REAL'),\n",
       "  Text(1.09996,-0.00964982,'XML'),\n",
       "  Text(1.09999,-0.00428886,'TIME'),\n",
       "  Text(1.1,-0.00268054,'DB2SECURITYLABEL'),\n",
       "  Text(1.1,-0.00160833,'GRAPHIC'),\n",
       "  Text(1.1,-0.000536111,'VARGRAPHIC')])"
      ]
     },
     "execution_count": 6,
     "metadata": {},
     "output_type": "execute_result"
    },
    {
     "data": {
      "image/png": "[encoded data removed]",
      "text/plain": [
       "<Figure size 432x288 with 1 Axes>"
      ]
     },
     "metadata": {},
     "output_type": "display_data"
    }
   ],
   "source": [
    "result= %sql select typename \\\n",
    "    , count(*) as count \\\n",
    "from syscat.columns \\\n",
    "group by typename \\\n",
    "order by count desc\n",
    "\n",
    "result.pie()"
   ]
  },
  {
   "cell_type": "code",
   "execution_count": 7,
   "metadata": {},
   "outputs": [
    {
     "name": "stdout",
     "output_type": "stream",
     "text": [
      " * db2+ibm_db://db2admin:***@localhost:50000/SAMPLE\n",
      "(ibm_db_dbi.ProgrammingError) ibm_db_dbi::ProgrammingError: SQLNumResultCols failed: [IBM][CLI Driver][DB2/NT64] SQL0551N  The statement failed because the authorization ID does not have the required authorization or privilege to perform the operation.  Authorization ID: \"DB2ADMIN\".  Operation: \"EXECUTE\". Object: \"SYSPROC.MON_GET_PKG_CACHE_STMT\".  SQLSTATE=42501\\r SQLCODE=-551 [SQL: \"WITH SUM_TAB (SUM_RR, SUM_CPU, SUM_EXEC, SUM_SORT, SUM_NUM_EXEC) AS (         SELECT  nullif(FLOAT(SUM(ROWS_READ)),0),                 nullif(FLOAT(SUM(TOTAL_CPU_TIME)),0),                 nullif(FLOAT(SUM(STMT_EXEC_TIME)),0),                 nullif(FLOAT(SUM(TOTAL_SECTION_SORT_TIME)),0),                 nullif(FLOAT(SUM(NUM_EXECUTIONS)),0)             FROM TABLE(MON_GET_PKG_CACHE_STMT ( 'D', NULL, NULL, -2)) AS T         ) SELECT         ROWS_READ,         DECIMAL(100*(FLOAT(ROWS_READ)/SUM_TAB.SUM_RR),5,2) AS PCT_TOT_RR,         TOTAL_CPU_TIME,         DECIMAL(100*(FLOAT(TOTAL_CPU_TIME)/SUM_TAB.SUM_CPU),5,2) AS PCT_TOT_CPU,         STMT_EXEC_TIME,         DECIMAL(100*(FLOAT(STMT_EXEC_TIME)/SUM_TAB.SUM_EXEC),5,2) AS PCT_TOT_EXEC,         TOTAL_SECTION_SORT_TIME,         DECIMAL(100*(FLOAT(TOTAL_SECTION_SORT_TIME)/SUM_TAB.SUM_SORT),5,2) AS PCT_TOT_SRT,         NUM_EXECUTIONS,         DECIMAL(100*(FLOAT(NUM_EXECUTIONS)/SUM_TAB.SUM_NUM_EXEC),5,2) AS PCT_TOT_EXEC,         DECIMAL(FLOAT(STMT_EXEC_TIME)/FLOAT(NUM_EXECUTIONS),10,2) AS AVG_EXEC_TIME,         RTRIM(STMT_TEXT) as STATEMENT     FROM TABLE(MON_GET_PKG_CACHE_STMT ( 'D', NULL, NULL, -2)) AS T, SUM_TAB     WHERE DECIMAL(100*(FLOAT(ROWS_READ)/SUM_TAB.SUM_RR),5,2) > 10         OR DECIMAL(100*(FLOAT(TOTAL_CPU_TIME)/SUM_TAB.SUM_CPU),5,2) >10         OR DECIMAL(100*(FLOAT(STMT_EXEC_TIME)/SUM_TAB.SUM_EXEC),5,2) >10         OR DECIMAL(100*(FLOAT(TOTAL_SECTION_SORT_TIME)/SUM_TAB.SUM_SORT),5,2) >10         OR DECIMAL(100*(FLOAT(NUM_EXECUTIONS)/SUM_TAB.SUM_NUM_EXEC),5,2) >10     ORDER BY ROWS_READ DESC FETCH FIRST 20 ROWS ONLY WITH UR\"] (Background on this error at: http://sqlalche.me/e/f405)\n"
     ]
    }
   ],
   "source": [
    "%sql WITH SUM_TAB (SUM_RR, SUM_CPU, SUM_EXEC, SUM_SORT, SUM_NUM_EXEC) AS ( \\\n",
    "        SELECT  nullif(FLOAT(SUM(ROWS_READ)),0), \\\n",
    "                nullif(FLOAT(SUM(TOTAL_CPU_TIME)),0), \\\n",
    "                nullif(FLOAT(SUM(STMT_EXEC_TIME)),0), \\\n",
    "                nullif(FLOAT(SUM(TOTAL_SECTION_SORT_TIME)),0), \\\n",
    "                nullif(FLOAT(SUM(NUM_EXECUTIONS)),0) \\\n",
    "            FROM TABLE(MON_GET_PKG_CACHE_STMT ( 'D', NULL, NULL, -2)) AS T \\\n",
    "        ) \\\n",
    "SELECT \\\n",
    "        ROWS_READ, \\\n",
    "        DECIMAL(100*(FLOAT(ROWS_READ)/SUM_TAB.SUM_RR),5,2) AS PCT_TOT_RR, \\\n",
    "        TOTAL_CPU_TIME, \\\n",
    "        DECIMAL(100*(FLOAT(TOTAL_CPU_TIME)/SUM_TAB.SUM_CPU),5,2) AS PCT_TOT_CPU, \\\n",
    "        STMT_EXEC_TIME, \\\n",
    "        DECIMAL(100*(FLOAT(STMT_EXEC_TIME)/SUM_TAB.SUM_EXEC),5,2) AS PCT_TOT_EXEC, \\\n",
    "        TOTAL_SECTION_SORT_TIME, \\\n",
    "        DECIMAL(100*(FLOAT(TOTAL_SECTION_SORT_TIME)/SUM_TAB.SUM_SORT),5,2) AS PCT_TOT_SRT, \\\n",
    "        NUM_EXECUTIONS, \\\n",
    "        DECIMAL(100*(FLOAT(NUM_EXECUTIONS)/SUM_TAB.SUM_NUM_EXEC),5,2) AS PCT_TOT_EXEC, \\\n",
    "        DECIMAL(FLOAT(STMT_EXEC_TIME)/FLOAT(NUM_EXECUTIONS),10,2) AS AVG_EXEC_TIME, \\\n",
    "        RTRIM(STMT_TEXT) as STATEMENT \\\n",
    "    FROM TABLE(MON_GET_PKG_CACHE_STMT ( 'D', NULL, NULL, -2)) AS T, SUM_TAB \\\n",
    "    WHERE DECIMAL(100*(FLOAT(ROWS_READ)/SUM_TAB.SUM_RR),5,2) > 10 \\\n",
    "        OR DECIMAL(100*(FLOAT(TOTAL_CPU_TIME)/SUM_TAB.SUM_CPU),5,2) >10 \\\n",
    "        OR DECIMAL(100*(FLOAT(STMT_EXEC_TIME)/SUM_TAB.SUM_EXEC),5,2) >10 \\\n",
    "        OR DECIMAL(100*(FLOAT(TOTAL_SECTION_SORT_TIME)/SUM_TAB.SUM_SORT),5,2) >10 \\\n",
    "        OR DECIMAL(100*(FLOAT(NUM_EXECUTIONS)/SUM_TAB.SUM_NUM_EXEC),5,2) >10 \\\n",
    "    ORDER BY ROWS_READ DESC FETCH FIRST 20 ROWS ONLY WITH UR"
   ]
  },
  {
   "cell_type": "code",
   "execution_count": 3,
   "metadata": {},
   "outputs": [
    {
     "name": "stdout",
     "output_type": "stream",
     "text": [
      " * db2+ibm_db://db2admin:***@localhost:50000/SAMPLE\n",
      "(ibm_db_dbi.ProgrammingError) ibm_db_dbi::ProgrammingError: SQLNumResultCols failed: [IBM][CLI Driver][DB2/NT64] SQL0551N  The statement failed because the authorization ID does not have the required authorization or privilege to perform the operation.  Authorization ID: \"DB2ADMIN\".  Operation: \"EXECUTE\". Object: \"SYSPROC.MON_GET_PKG_CACHE_STMT\".  SQLSTATE=42501\\r SQLCODE=-551 [SQL: \"WITH SUM_TAB (SUM_RR, SUM_CPU, SUM_EXEC, SUM_SORT, SUM_NUM_EXEC) AS (         SELECT  nullif(FLOAT(SUM(ROWS_READ)),0),                 nullif(FLOAT(SUM(TOTAL_CPU_TIME)),0),                 nullif(FLOAT(SUM(STMT_EXEC_TIME)),0),                 nullif(FLOAT(SUM(TOTAL_SECTION_SORT_TIME)),0),                 nullif(FLOAT(SUM(NUM_EXECUTIONS)),0)             FROM TABLE(MON_GET_PKG_CACHE_STMT ( 'D', NULL, NULL, -2)) AS T         ) SELECT substr(stmt_text,1,25) as STATEMENT,         ROWS_READ,         coalesce(DECIMAL(100*(FLOAT(ROWS_READ)/SUM_TAB.SUM_RR),5,2),0) AS PCT_TOT_RR,         TOTAL_CPU_TIME,         coalesce(DECIMAL(100*(FLOAT(TOTAL_CPU_TIME)/SUM_TAB.SUM_CPU),5,2),0) AS PCT_TOT_CPU,         STMT_EXEC_TIME,         coalesce(DECIMAL(100*(FLOAT(STMT_EXEC_TIME)/SUM_TAB.SUM_EXEC),5,2),0) AS PCT_TOT_EXEC,         TOTAL_SECTION_SORT_TIME,         coalesce(DECIMAL(100*(FLOAT(TOTAL_SECTION_SORT_TIME)/SUM_TAB.SUM_SORT),5,2),0) AS PCT_TOT_SRT,         NUM_EXECUTIONS,         coalesce(DECIMAL(100*(FLOAT(NUM_EXECUTIONS)/SUM_TAB.SUM_NUM_EXEC),5,2),0) AS PCT_TOT_EXECS,         DECIMAL(FLOAT(STMT_EXEC_TIME)/FLOAT(NUM_EXECUTIONS),10,2) AS AVG_EXEC_TIME,         RTRIM(STMT_TEXT) as FULL_STATEMENT     FROM TABLE(MON_GET_PKG_CACHE_STMT ( 'D', NULL, NULL, -2)) AS T, SUM_TAB     WHERE DECIMAL(100*(FLOAT(ROWS_READ)/SUM_TAB.SUM_RR),5,2) > 10         OR DECIMAL(100*(FLOAT(TOTAL_CPU_TIME)/SUM_TAB.SUM_CPU),5,2) >10         OR DECIMAL(100*(FLOAT(STMT_EXEC_TIME)/SUM_TAB.SUM_EXEC),5,2) >10         OR DECIMAL(100*(FLOAT(TOTAL_SECTION_SORT_TIME)/SUM_TAB.SUM_SORT),5,2) >10         OR DECIMAL(100*(FLOAT(NUM_EXECUTIONS)/SUM_TAB.SUM_NUM_EXEC),5,2) >10     ORDER BY ROWS_READ DESC FETCH FIRST 20 ROWS ONLY WITH UR\"] (Background on this error at: http://sqlalche.me/e/f405)\n"
     ]
    },
    {
     "ename": "AttributeError",
     "evalue": "'NoneType' object has no attribute 'DataFrame'",
     "output_type": "error",
     "traceback": [
      "\u001b[1;31m---------------------------------------------------------------------------\u001b[0m",
      "\u001b[1;31mAttributeError\u001b[0m                            Traceback (most recent call last)",
      "\u001b[1;32m<ipython-input-3-da1f66f492cf>\u001b[0m in \u001b[0;36m<module>\u001b[1;34m()\u001b[0m\n\u001b[0;32m      1\u001b[0m \u001b[0mresult\u001b[0m \u001b[1;33m=\u001b[0m \u001b[0mget_ipython\u001b[0m\u001b[1;33m(\u001b[0m\u001b[1;33m)\u001b[0m\u001b[1;33m.\u001b[0m\u001b[0mrun_line_magic\u001b[0m\u001b[1;33m(\u001b[0m\u001b[1;34m'sql'\u001b[0m\u001b[1;33m,\u001b[0m \u001b[1;34m\"WITH SUM_TAB (SUM_RR, SUM_CPU, SUM_EXEC, SUM_SORT, SUM_NUM_EXEC) AS (         SELECT  nullif(FLOAT(SUM(ROWS_READ)),0),                 nullif(FLOAT(SUM(TOTAL_CPU_TIME)),0),                 nullif(FLOAT(SUM(STMT_EXEC_TIME)),0),                 nullif(FLOAT(SUM(TOTAL_SECTION_SORT_TIME)),0),                 nullif(FLOAT(SUM(NUM_EXECUTIONS)),0)             FROM TABLE(MON_GET_PKG_CACHE_STMT ( 'D', NULL, NULL, -2)) AS T         ) SELECT substr(stmt_text,1,25) as STATEMENT,         ROWS_READ,         coalesce(DECIMAL(100*(FLOAT(ROWS_READ)/SUM_TAB.SUM_RR),5,2),0) AS PCT_TOT_RR,         TOTAL_CPU_TIME,         coalesce(DECIMAL(100*(FLOAT(TOTAL_CPU_TIME)/SUM_TAB.SUM_CPU),5,2),0) AS PCT_TOT_CPU,         STMT_EXEC_TIME,         coalesce(DECIMAL(100*(FLOAT(STMT_EXEC_TIME)/SUM_TAB.SUM_EXEC),5,2),0) AS PCT_TOT_EXEC,         TOTAL_SECTION_SORT_TIME,         coalesce(DECIMAL(100*(FLOAT(TOTAL_SECTION_SORT_TIME)/SUM_TAB.SUM_SORT),5,2),0) AS PCT_TOT_SRT,         NUM_EXECUTIONS,         coalesce(DECIMAL(100*(FLOAT(NUM_EXECUTIONS)/SUM_TAB.SUM_NUM_EXEC),5,2),0) AS PCT_TOT_EXECS,         DECIMAL(FLOAT(STMT_EXEC_TIME)/FLOAT(NUM_EXECUTIONS),10,2) AS AVG_EXEC_TIME,         RTRIM(STMT_TEXT) as FULL_STATEMENT     FROM TABLE(MON_GET_PKG_CACHE_STMT ( 'D', NULL, NULL, -2)) AS T, SUM_TAB     WHERE DECIMAL(100*(FLOAT(ROWS_READ)/SUM_TAB.SUM_RR),5,2) > 10         OR DECIMAL(100*(FLOAT(TOTAL_CPU_TIME)/SUM_TAB.SUM_CPU),5,2) >10         OR DECIMAL(100*(FLOAT(STMT_EXEC_TIME)/SUM_TAB.SUM_EXEC),5,2) >10         OR DECIMAL(100*(FLOAT(TOTAL_SECTION_SORT_TIME)/SUM_TAB.SUM_SORT),5,2) >10         OR DECIMAL(100*(FLOAT(NUM_EXECUTIONS)/SUM_TAB.SUM_NUM_EXEC),5,2) >10     ORDER BY ROWS_READ DESC FETCH FIRST 20 ROWS ONLY WITH UR\"\u001b[0m\u001b[1;33m)\u001b[0m\u001b[1;33m\u001b[0m\u001b[0m\n\u001b[0;32m      2\u001b[0m \u001b[0mget_ipython\u001b[0m\u001b[1;33m(\u001b[0m\u001b[1;33m)\u001b[0m\u001b[1;33m.\u001b[0m\u001b[0mrun_line_magic\u001b[0m\u001b[1;33m(\u001b[0m\u001b[1;34m'matplotlib'\u001b[0m\u001b[1;33m,\u001b[0m \u001b[1;34m'inline'\u001b[0m\u001b[1;33m)\u001b[0m\u001b[1;33m\u001b[0m\u001b[0m\n\u001b[1;32m----> 3\u001b[1;33m \u001b[0mdf\u001b[0m\u001b[1;33m=\u001b[0m\u001b[0mresult\u001b[0m\u001b[1;33m.\u001b[0m\u001b[0mDataFrame\u001b[0m\u001b[1;33m(\u001b[0m\u001b[1;33m)\u001b[0m\u001b[1;33m\u001b[0m\u001b[0m\n\u001b[0m\u001b[0;32m      4\u001b[0m \u001b[0mdf\u001b[0m\u001b[1;33m.\u001b[0m\u001b[0mdescribe\u001b[0m\u001b[1;33m(\u001b[0m\u001b[1;33m)\u001b[0m\u001b[1;33m\u001b[0m\u001b[0m\n",
      "\u001b[1;31mAttributeError\u001b[0m: 'NoneType' object has no attribute 'DataFrame'"
     ]
    }
   ],
   "source": [
    "result= %sql WITH SUM_TAB (SUM_RR, SUM_CPU, SUM_EXEC, SUM_SORT, SUM_NUM_EXEC) AS ( \\\n",
    "        SELECT  nullif(FLOAT(SUM(ROWS_READ)),0), \\\n",
    "                nullif(FLOAT(SUM(TOTAL_CPU_TIME)),0), \\\n",
    "                nullif(FLOAT(SUM(STMT_EXEC_TIME)),0), \\\n",
    "                nullif(FLOAT(SUM(TOTAL_SECTION_SORT_TIME)),0), \\\n",
    "                nullif(FLOAT(SUM(NUM_EXECUTIONS)),0) \\\n",
    "            FROM TABLE(MON_GET_PKG_CACHE_STMT ( 'D', NULL, NULL, -2)) AS T \\\n",
    "        ) \\\n",
    "SELECT substr(stmt_text,1,25) as STATEMENT, \\\n",
    "        ROWS_READ, \\\n",
    "        coalesce(DECIMAL(100*(FLOAT(ROWS_READ)/SUM_TAB.SUM_RR),5,2),0) AS PCT_TOT_RR, \\\n",
    "        TOTAL_CPU_TIME, \\\n",
    "        coalesce(DECIMAL(100*(FLOAT(TOTAL_CPU_TIME)/SUM_TAB.SUM_CPU),5,2),0) AS PCT_TOT_CPU, \\\n",
    "        STMT_EXEC_TIME, \\\n",
    "        coalesce(DECIMAL(100*(FLOAT(STMT_EXEC_TIME)/SUM_TAB.SUM_EXEC),5,2),0) AS PCT_TOT_EXEC, \\\n",
    "        TOTAL_SECTION_SORT_TIME, \\\n",
    "        coalesce(DECIMAL(100*(FLOAT(TOTAL_SECTION_SORT_TIME)/SUM_TAB.SUM_SORT),5,2),0) AS PCT_TOT_SRT, \\\n",
    "        NUM_EXECUTIONS, \\\n",
    "        coalesce(DECIMAL(100*(FLOAT(NUM_EXECUTIONS)/SUM_TAB.SUM_NUM_EXEC),5,2),0) AS PCT_TOT_EXECS, \\\n",
    "        DECIMAL(FLOAT(STMT_EXEC_TIME)/FLOAT(NUM_EXECUTIONS),10,2) AS AVG_EXEC_TIME, \\\n",
    "        RTRIM(STMT_TEXT) as FULL_STATEMENT \\\n",
    "    FROM TABLE(MON_GET_PKG_CACHE_STMT ( 'D', NULL, NULL, -2)) AS T, SUM_TAB \\\n",
    "    WHERE DECIMAL(100*(FLOAT(ROWS_READ)/SUM_TAB.SUM_RR),5,2) > 10 \\\n",
    "        OR DECIMAL(100*(FLOAT(TOTAL_CPU_TIME)/SUM_TAB.SUM_CPU),5,2) >10 \\\n",
    "        OR DECIMAL(100*(FLOAT(STMT_EXEC_TIME)/SUM_TAB.SUM_EXEC),5,2) >10 \\\n",
    "        OR DECIMAL(100*(FLOAT(TOTAL_SECTION_SORT_TIME)/SUM_TAB.SUM_SORT),5,2) >10 \\\n",
    "        OR DECIMAL(100*(FLOAT(NUM_EXECUTIONS)/SUM_TAB.SUM_NUM_EXEC),5,2) >10 \\\n",
    "    ORDER BY ROWS_READ DESC FETCH FIRST 20 ROWS ONLY WITH UR\n",
    "%matplotlib inline\n",
    "df=result.DataFrame()\n",
    "df.describe()"
   ]
  },
  {
   "cell_type": "markdown",
   "metadata": {},
   "source": [
    "Show number of rows and number of columns of the output"
   ]
  },
  {
   "cell_type": "code",
   "execution_count": null,
   "metadata": {},
   "outputs": [],
   "source": [
    "df.shape"
   ]
  },
  {
   "cell_type": "markdown",
   "metadata": {},
   "source": [
    "Show the names of all columns, in a comma separated list"
   ]
  },
  {
   "cell_type": "code",
   "execution_count": null,
   "metadata": {},
   "outputs": [],
   "source": [
    "df.columns"
   ]
  },
  {
   "cell_type": "markdown",
   "metadata": {},
   "source": [
    "Sort the output by a different column"
   ]
  },
  {
   "cell_type": "code",
   "execution_count": null,
   "metadata": {},
   "outputs": [],
   "source": [
    "# sort output by a different column\n",
    "df.sort_values(by=['stmt_exec_time'], ascending=False)"
   ]
  },
  {
   "cell_type": "markdown",
   "metadata": {},
   "source": [
    "Some data types may not be what is expected"
   ]
  },
  {
   "cell_type": "code",
   "execution_count": null,
   "metadata": {},
   "outputs": [],
   "source": [
    "df.dtypes"
   ]
  },
  {
   "cell_type": "markdown",
   "metadata": {},
   "source": [
    "Convert incorrect columns to FLOAT"
   ]
  },
  {
   "cell_type": "code",
   "execution_count": null,
   "metadata": {},
   "outputs": [],
   "source": [
    "df[['pct_tot_rr']]=df[['pct_tot_rr']].astype(float)\n",
    "df[['pct_tot_cpu']]=df[['pct_tot_cpu']].astype(float)\n",
    "df[['pct_tot_exec']]=df[['pct_tot_exec']].astype(float)\n",
    "df[['pct_tot_srt']]=df[['pct_tot_srt']].astype(float)\n",
    "df[['pct_tot_execs']]=df[['pct_tot_execs']].astype(float)\n",
    "df[['avg_exec_time']]=df[['avg_exec_time']].astype(float)"
   ]
  },
  {
   "cell_type": "markdown",
   "metadata": {},
   "source": [
    "Verify the data type conversion worked"
   ]
  },
  {
   "cell_type": "code",
   "execution_count": null,
   "metadata": {},
   "outputs": [],
   "source": [
    "df.dtypes"
   ]
  },
  {
   "cell_type": "markdown",
   "metadata": {},
   "source": [
    "Plot the data on multiple dimensions"
   ]
  },
  {
   "cell_type": "code",
   "execution_count": null,
   "metadata": {},
   "outputs": [],
   "source": [
    "df.plot(x='STATEMENT', y=['pct_tot_rr','pct_tot_cpu','pct_tot_exec','pct_tot_srt'], kind='barh')\n",
    "plt.show"
   ]
  },
  {
   "cell_type": "code",
   "execution_count": null,
   "metadata": {},
   "outputs": [],
   "source": [
    "pd.set_option('display.max_colwidth', -1)\n",
    "df[['full_statement']]"
   ]
  },
  {
   "cell_type": "markdown",
   "metadata": {},
   "source": [
    "### Using Host Variables / Parameter Markers"
   ]
  },
  {
   "cell_type": "markdown",
   "metadata": {},
   "source": [
    "This statement is prepared using the literal value"
   ]
  },
  {
   "cell_type": "code",
   "execution_count": null,
   "metadata": {},
   "outputs": [],
   "source": [
    "check_id = 'DB2ADMIN'\n",
    "%sql select tabschema \\\n",
    "    , tabname \\\n",
    "    , controlauth \\\n",
    "    , deleteauth \\\n",
    "    , insertauth \\\n",
    "    , selectauth \\\n",
    "    , updateauth \\\n",
    "from syscat.tabauth \\\n",
    "where grantee = '{check_id}'"
   ]
  },
  {
   "cell_type": "markdown",
   "metadata": {},
   "source": [
    "This statement is prepared using a parameter marker"
   ]
  },
  {
   "cell_type": "code",
   "execution_count": null,
   "metadata": {},
   "outputs": [],
   "source": [
    "check_id = 'DB2ADMIN'\n",
    "%sql select tabschema \\\n",
    "    , tabname \\\n",
    "    , controlauth \\\n",
    "    , deleteauth \\\n",
    "    , insertauth \\\n",
    "    , selectauth \\\n",
    "    , updateauth \\\n",
    "from syscat.tabauth \\\n",
    "where grantee = :check_id"
   ]
  },
  {
   "cell_type": "markdown",
   "metadata": {},
   "source": [
    "### Explain Information in Jupyter Notebook"
   ]
  },
  {
   "cell_type": "markdown",
   "metadata": {},
   "source": [
    "#### If Explain Tables do not Exist, Create Them"
   ]
  },
  {
   "cell_type": "code",
   "execution_count": null,
   "metadata": {},
   "outputs": [],
   "source": [
    "# This cell only needs to be executed if the explain tables do not exist\n",
    "%sql call sysproc.sysinstallobjects('EXPLAIN','C',NULL,NULL)"
   ]
  },
  {
   "cell_type": "code",
   "execution_count": null,
   "metadata": {},
   "outputs": [],
   "source": [
    "%sql set current explain mode explain\n",
    "# Below will return CLI0115E, but that is expected and it works fine.\n",
    "%sql select bpname from syscat.bufferpools"
   ]
  },
  {
   "cell_type": "code",
   "execution_count": null,
   "metadata": {},
   "outputs": [],
   "source": [
    "%sql set current explain mode no"
   ]
  },
  {
   "cell_type": "code",
   "execution_count": null,
   "metadata": {
    "scrolled": true
   },
   "outputs": [],
   "source": [
    "!db2exfmt -d SAMPLE -1 -o query_exfmt.txt"
   ]
  },
  {
   "cell_type": "code",
   "execution_count": null,
   "metadata": {},
   "outputs": [],
   "source": [
    "with open(\"query_exfmt.txt\") as f:\n",
    "    for line in f:\n",
    "        if line.rstrip() == \"Access Plan:\":\n",
    "            print(\"\")\n",
    "            for line in f:\n",
    "                if line.rstrip() == \"Extended Diagnostic Information:\":\n",
    "                    break\n",
    "                print(line.rstrip())"
   ]
  },
  {
   "cell_type": "code",
   "execution_count": null,
   "metadata": {
    "collapsed": true
   },
   "outputs": [],
   "source": []
  }
 ],
 "metadata": {
  "anaconda-cloud": {},
  "kernelspec": {
   "display_name": "Python 3",
   "language": "python",
   "name": "python3"
  },
  "language_info": {
   "codemirror_mode": {
    "name": "ipython",
    "version": 3
   },
   "file_extension": ".py",
   "mimetype": "text/x-python",
   "name": "python",
   "nbconvert_exporter": "python",
   "pygments_lexer": "ipython3",
   "version": "3.6.5"
  },
  "nbpresent": {
   "slides": {
    "22dcdcf5-66fa-44b1-a05f-d8e97245d75f": {
     "id": "22dcdcf5-66fa-44b1-a05f-d8e97245d75f",
     "prev": "461a097d-8043-4fb5-9ea9-7e70ad715410",
     "regions": {
      "6b013448-d8a6-4960-90f2-351fbea524c0": {
       "attrs": {
        "height": 1,
        "width": 1,
        "x": 0,
        "y": 0
       },
       "content": {
        "cell": "3d3036b2-9850-4506-8e41-60d40c788d18",
        "part": "source"
       },
       "id": "6b013448-d8a6-4960-90f2-351fbea524c0"
      }
     }
    },
    "2c446d31-ad6f-495f-98d8-3861623b455d": {
     "id": "2c446d31-ad6f-495f-98d8-3861623b455d",
     "prev": "22dcdcf5-66fa-44b1-a05f-d8e97245d75f",
     "regions": {
      "b1bd1972-69fc-4165-a61b-76a647b9a30c": {
       "attrs": {
        "height": 1,
        "width": 1,
        "x": 0,
        "y": 0
       },
       "content": {
        "cell": "ebd7d540-a6fa-4c84-b2af-2490266d9b3e",
        "part": "source"
       },
       "id": "b1bd1972-69fc-4165-a61b-76a647b9a30c"
      }
     }
    },
    "461a097d-8043-4fb5-9ea9-7e70ad715410": {
     "id": "461a097d-8043-4fb5-9ea9-7e70ad715410",
     "prev": null,
     "regions": {}
    },
    "52ca4573-7087-44b4-b05b-1695aafc3b91": {
     "id": "52ca4573-7087-44b4-b05b-1695aafc3b91",
     "prev": "e2383d77-142f-4e5f-bbfa-0cf3d663a4df",
     "regions": {
      "9097c9d5-db69-4d35-bc75-3f7b8b29b7ac": {
       "attrs": {
        "height": 1,
        "width": 1,
        "x": 0,
        "y": 0
       },
       "content": {
        "cell": "cbed146e-26ba-4018-8484-82b00a1b660b",
        "part": "whole"
       },
       "id": "9097c9d5-db69-4d35-bc75-3f7b8b29b7ac"
      }
     }
    },
    "e2383d77-142f-4e5f-bbfa-0cf3d663a4df": {
     "id": "e2383d77-142f-4e5f-bbfa-0cf3d663a4df",
     "prev": "2c446d31-ad6f-495f-98d8-3861623b455d",
     "regions": {
      "c635ca58-76be-4688-95e3-01922e02cb7b": {
       "attrs": {
        "height": 1,
        "width": 1,
        "x": 0,
        "y": 0
       },
       "content": {
        "cell": "0b310267-394a-49dc-8174-0a3abfbd0aa9",
        "part": "source"
       },
       "id": "c635ca58-76be-4688-95e3-01922e02cb7b"
      }
     }
    }
   },
   "themes": {
    "default": "2f570158-7278-4683-91a6-124381af0191",
    "theme": {
     "2f570158-7278-4683-91a6-124381af0191": {
      "id": "2f570158-7278-4683-91a6-124381af0191",
      "palette": {
       "19cc588f-0593-49c9-9f4b-e4d7cc113b1c": {
        "id": "19cc588f-0593-49c9-9f4b-e4d7cc113b1c",
        "rgb": [
         252,
         252,
         252
        ]
       },
       "31af15d2-7e15-44c5-ab5e-e04b16a89eff": {
        "id": "31af15d2-7e15-44c5-ab5e-e04b16a89eff",
        "rgb": [
         68,
         68,
         68
        ]
       },
       "50f92c45-a630-455b-aec3-788680ec7410": {
        "id": "50f92c45-a630-455b-aec3-788680ec7410",
        "rgb": [
         155,
         177,
         192
        ]
       },
       "c5cc3653-2ee1-402a-aba2-7caae1da4f6c": {
        "id": "c5cc3653-2ee1-402a-aba2-7caae1da4f6c",
        "rgb": [
         43,
         126,
         184
        ]
       },
       "efa7f048-9acb-414c-8b04-a26811511a21": {
        "id": "efa7f048-9acb-414c-8b04-a26811511a21",
        "rgb": [
         25.118061674008803,
         73.60176211453744,
         107.4819383259912
        ]
       }
      },
      "rules": {
       "blockquote": {
        "color": "50f92c45-a630-455b-aec3-788680ec7410"
       },
       "code": {
        "font-family": "Anonymous Pro"
       },
       "h1": {
        "color": "c5cc3653-2ee1-402a-aba2-7caae1da4f6c",
        "font-family": "Lato",
        "font-size": 8
       },
       "h2": {
        "color": "c5cc3653-2ee1-402a-aba2-7caae1da4f6c",
        "font-family": "Lato",
        "font-size": 6
       },
       "h3": {
        "color": "50f92c45-a630-455b-aec3-788680ec7410",
        "font-family": "Lato",
        "font-size": 5.5
       },
       "h4": {
        "color": "c5cc3653-2ee1-402a-aba2-7caae1da4f6c",
        "font-family": "Lato",
        "font-size": 5
       },
       "h5": {
        "font-family": "Lato"
       },
       "h6": {
        "font-family": "Lato"
       },
       "h7": {
        "font-family": "Lato"
       },
       "pre": {
        "font-family": "Anonymous Pro",
        "font-size": 4
       }
      },
      "text-base": {
       "font-family": "Merriweather",
       "font-size": 4
      }
     }
    }
   }
  }
 },
 "nbformat": 4,
 "nbformat_minor": 1
}
